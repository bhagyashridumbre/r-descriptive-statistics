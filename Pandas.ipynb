{
  "nbformat": 4,
  "nbformat_minor": 0,
  "metadata": {
    "colab": {
      "name": "Pandas.ipynb",
      "provenance": [],
      "collapsed_sections": [],
      "authorship_tag": "ABX9TyNRu2yjvBi7a34eWrv58d7a",
      "include_colab_link": true
    },
    "kernelspec": {
      "name": "python3",
      "display_name": "Python 3"
    },
    "language_info": {
      "name": "python"
    }
  },
  "cells": [
    {
      "cell_type": "markdown",
      "metadata": {
        "id": "view-in-github",
        "colab_type": "text"
      },
      "source": [
        "<a href=\"https://colab.research.google.com/github/bhagyashridumbre/r-descriptive-statistics/blob/main/Pandas.ipynb\" target=\"_parent\"><img src=\"https://colab.research.google.com/assets/colab-badge.svg\" alt=\"Open In Colab\"/></a>"
      ]
    },
    {
      "cell_type": "markdown",
      "source": [
        "**Change Column Type**"
      ],
      "metadata": {
        "id": "Qq6gyEf8sbV0"
      }
    },
    {
      "cell_type": "code",
      "source": [
        "import pandas as pd\n",
        "import numpy as np\n"
      ],
      "metadata": {
        "id": "mMq9nGNNs7p5"
      },
      "execution_count": 62,
      "outputs": []
    },
    {
      "cell_type": "code",
      "execution_count": 12,
      "metadata": {
        "id": "HnAqawnnsQv_",
        "colab": {
          "base_uri": "https://localhost:8080/",
          "height": 143
        },
        "outputId": "01c4c09e-706e-4c35-9641-56f2ac97baed"
      },
      "outputs": [
        {
          "output_type": "execute_result",
          "data": {
            "text/plain": [
              "   0    1     2\n",
              "0  a  1.2   4.2\n",
              "1  b   70  0.03\n",
              "2  x    5     0"
            ],
            "text/html": [
              "\n",
              "  <div id=\"df-aec44f08-a528-4b92-a841-dfa79291454a\">\n",
              "    <div class=\"colab-df-container\">\n",
              "      <div>\n",
              "<style scoped>\n",
              "    .dataframe tbody tr th:only-of-type {\n",
              "        vertical-align: middle;\n",
              "    }\n",
              "\n",
              "    .dataframe tbody tr th {\n",
              "        vertical-align: top;\n",
              "    }\n",
              "\n",
              "    .dataframe thead th {\n",
              "        text-align: right;\n",
              "    }\n",
              "</style>\n",
              "<table border=\"1\" class=\"dataframe\">\n",
              "  <thead>\n",
              "    <tr style=\"text-align: right;\">\n",
              "      <th></th>\n",
              "      <th>0</th>\n",
              "      <th>1</th>\n",
              "      <th>2</th>\n",
              "    </tr>\n",
              "  </thead>\n",
              "  <tbody>\n",
              "    <tr>\n",
              "      <th>0</th>\n",
              "      <td>a</td>\n",
              "      <td>1.2</td>\n",
              "      <td>4.2</td>\n",
              "    </tr>\n",
              "    <tr>\n",
              "      <th>1</th>\n",
              "      <td>b</td>\n",
              "      <td>70</td>\n",
              "      <td>0.03</td>\n",
              "    </tr>\n",
              "    <tr>\n",
              "      <th>2</th>\n",
              "      <td>x</td>\n",
              "      <td>5</td>\n",
              "      <td>0</td>\n",
              "    </tr>\n",
              "  </tbody>\n",
              "</table>\n",
              "</div>\n",
              "      <button class=\"colab-df-convert\" onclick=\"convertToInteractive('df-aec44f08-a528-4b92-a841-dfa79291454a')\"\n",
              "              title=\"Convert this dataframe to an interactive table.\"\n",
              "              style=\"display:none;\">\n",
              "        \n",
              "  <svg xmlns=\"http://www.w3.org/2000/svg\" height=\"24px\"viewBox=\"0 0 24 24\"\n",
              "       width=\"24px\">\n",
              "    <path d=\"M0 0h24v24H0V0z\" fill=\"none\"/>\n",
              "    <path d=\"M18.56 5.44l.94 2.06.94-2.06 2.06-.94-2.06-.94-.94-2.06-.94 2.06-2.06.94zm-11 1L8.5 8.5l.94-2.06 2.06-.94-2.06-.94L8.5 2.5l-.94 2.06-2.06.94zm10 10l.94 2.06.94-2.06 2.06-.94-2.06-.94-.94-2.06-.94 2.06-2.06.94z\"/><path d=\"M17.41 7.96l-1.37-1.37c-.4-.4-.92-.59-1.43-.59-.52 0-1.04.2-1.43.59L10.3 9.45l-7.72 7.72c-.78.78-.78 2.05 0 2.83L4 21.41c.39.39.9.59 1.41.59.51 0 1.02-.2 1.41-.59l7.78-7.78 2.81-2.81c.8-.78.8-2.07 0-2.86zM5.41 20L4 18.59l7.72-7.72 1.47 1.35L5.41 20z\"/>\n",
              "  </svg>\n",
              "      </button>\n",
              "      \n",
              "  <style>\n",
              "    .colab-df-container {\n",
              "      display:flex;\n",
              "      flex-wrap:wrap;\n",
              "      gap: 12px;\n",
              "    }\n",
              "\n",
              "    .colab-df-convert {\n",
              "      background-color: #E8F0FE;\n",
              "      border: none;\n",
              "      border-radius: 50%;\n",
              "      cursor: pointer;\n",
              "      display: none;\n",
              "      fill: #1967D2;\n",
              "      height: 32px;\n",
              "      padding: 0 0 0 0;\n",
              "      width: 32px;\n",
              "    }\n",
              "\n",
              "    .colab-df-convert:hover {\n",
              "      background-color: #E2EBFA;\n",
              "      box-shadow: 0px 1px 2px rgba(60, 64, 67, 0.3), 0px 1px 3px 1px rgba(60, 64, 67, 0.15);\n",
              "      fill: #174EA6;\n",
              "    }\n",
              "\n",
              "    [theme=dark] .colab-df-convert {\n",
              "      background-color: #3B4455;\n",
              "      fill: #D2E3FC;\n",
              "    }\n",
              "\n",
              "    [theme=dark] .colab-df-convert:hover {\n",
              "      background-color: #434B5C;\n",
              "      box-shadow: 0px 1px 3px 1px rgba(0, 0, 0, 0.15);\n",
              "      filter: drop-shadow(0px 1px 2px rgba(0, 0, 0, 0.3));\n",
              "      fill: #FFFFFF;\n",
              "    }\n",
              "  </style>\n",
              "\n",
              "      <script>\n",
              "        const buttonEl =\n",
              "          document.querySelector('#df-aec44f08-a528-4b92-a841-dfa79291454a button.colab-df-convert');\n",
              "        buttonEl.style.display =\n",
              "          google.colab.kernel.accessAllowed ? 'block' : 'none';\n",
              "\n",
              "        async function convertToInteractive(key) {\n",
              "          const element = document.querySelector('#df-aec44f08-a528-4b92-a841-dfa79291454a');\n",
              "          const dataTable =\n",
              "            await google.colab.kernel.invokeFunction('convertToInteractive',\n",
              "                                                     [key], {});\n",
              "          if (!dataTable) return;\n",
              "\n",
              "          const docLinkHtml = 'Like what you see? Visit the ' +\n",
              "            '<a target=\"_blank\" href=https://colab.research.google.com/notebooks/data_table.ipynb>data table notebook</a>'\n",
              "            + ' to learn more about interactive tables.';\n",
              "          element.innerHTML = '';\n",
              "          dataTable['output_type'] = 'display_data';\n",
              "          await google.colab.output.renderOutput(dataTable, element);\n",
              "          const docLink = document.createElement('div');\n",
              "          docLink.innerHTML = docLinkHtml;\n",
              "          element.appendChild(docLink);\n",
              "        }\n",
              "      </script>\n",
              "    </div>\n",
              "  </div>\n",
              "  "
            ]
          },
          "metadata": {},
          "execution_count": 12
        }
      ],
      "source": [
        "a = [['a','1.2','4.2'],['b','70','0.03'],['x','5','0']]\n",
        "df= pd.DataFrame(a)\n",
        "df"
      ]
    },
    {
      "cell_type": "code",
      "source": [
        "#Converting datatypes into pandas\n",
        "#1.to_numeric()- provides functionality to safely convert non-numeric types (e.g. strings) to a suitable numeric\n",
        "# type.\n",
        "#This function will try to change non-numeric objects (such as strings) into integers or floating-point numbers as appropriate.\n",
        "s = pd.Series([\"8\",6,\"7.5\",3,\"0.9\"]) #mixed string and number\n",
        "s\n"
      ],
      "metadata": {
        "id": "DhDQZxlwtovj"
      },
      "execution_count": null,
      "outputs": []
    },
    {
      "cell_type": "code",
      "source": [
        "my_series = pd.to_numeric(s)  # convert everything to float values\n",
        "my_series"
      ],
      "metadata": {
        "id": "A8-jQgUPvIzw"
      },
      "execution_count": null,
      "outputs": []
    },
    {
      "cell_type": "code",
      "source": [
        "#Convert Series\n",
        "my_series1 = pd.to_numeric(my_series)\n",
        "my_series1"
      ],
      "metadata": {
        "colab": {
          "base_uri": "https://localhost:8080/"
        },
        "id": "zZIvTpHEvmfz",
        "outputId": "e3e2af3c-28ae-4f74-f55d-d6de219496cb"
      },
      "execution_count": 24,
      "outputs": [
        {
          "output_type": "execute_result",
          "data": {
            "text/plain": [
              "0    8.0\n",
              "1    6.0\n",
              "2    7.5\n",
              "3    3.0\n",
              "4    0.9\n",
              "dtype: float64"
            ]
          },
          "metadata": {},
          "execution_count": 24
        }
      ]
    },
    {
      "cell_type": "code",
      "source": [
        "#convert Column \"a\" of a DataFrame\n",
        "#df[\"a\"] = pd.to_numeric(df[\"a\"])"
      ],
      "metadata": {
        "id": "zMi1gW_JwBoB"
      },
      "execution_count": 29,
      "outputs": []
    },
    {
      "cell_type": "code",
      "source": [
        "#Convert all columns of DataFrame\n",
        "# df = df.apply(pd.to_numeric) # convert all columns of dataframe"
      ],
      "metadata": {
        "id": "jvEtAmqNwhfS"
      },
      "execution_count": 30,
      "outputs": []
    },
    {
      "cell_type": "code",
      "source": [
        "# convert just columns \"a\" and \"b\"\n",
        "# df[[\"a\",\"b\"]] = df[[\"a\",\"b\"]].aply(pd.to_numeric)"
      ],
      "metadata": {
        "id": "7591fCzDwxBW"
      },
      "execution_count": 31,
      "outputs": []
    },
    {
      "cell_type": "markdown",
      "source": [
        "Error Handeling"
      ],
      "metadata": {
        "id": "sf1mxEcE6MgU"
      }
    },
    {
      "cell_type": "code",
      "source": [
        "# to_numeric() also takes an errors keyword argument that allows you to force non-numeric values to be NaN, or simply ignore columns containing these values.\n",
        "s = pd.Series(['1','2','4.7','pandas','10'])\n",
        "s"
      ],
      "metadata": {
        "id": "zxeYvqfW6Pxg"
      },
      "execution_count": null,
      "outputs": []
    },
    {
      "cell_type": "code",
      "source": [
        "pd.to_numeric(s) # or pd.to_numeric(s, errors='raise)\n",
        "ValueError: Unable to parse string"
      ],
      "metadata": {
        "id": "Nqk3MBJR6zI4"
      },
      "execution_count": null,
      "outputs": []
    },
    {
      "cell_type": "code",
      "source": [
        "#Rather than fail, we might want 'pandas' to be considered a missing/bad numeric value. We can coerce invalid values to NaN as follows using the errors keyword argument:\n",
        "pd.to_numeric(s, errors='coerce')"
      ],
      "metadata": {
        "id": "yY-xvTd-7p32"
      },
      "execution_count": null,
      "outputs": []
    },
    {
      "cell_type": "code",
      "source": [
        "#The third option for errors is just to ignore the operation if an invalid value is encountered\n",
        "pd.to_numeric(s, errors='ignore')\n",
        "# original Series is returned untouched\n"
      ],
      "metadata": {
        "id": "yT9QQqcN8IF3"
      },
      "execution_count": null,
      "outputs": []
    },
    {
      "cell_type": "code",
      "source": [
        "#This last option is particularly useful for converting your entire DataFrame, but don't know which of our columns can be converted reliably to a numeric type\n",
        "df.apply(pd.to_numeric, errors='ignore')"
      ],
      "metadata": {
        "id": "eMgsVTuC8nE1"
      },
      "execution_count": null,
      "outputs": []
    },
    {
      "cell_type": "markdown",
      "source": [
        "Downcasting"
      ],
      "metadata": {
        "id": "NwCPZgJTCFO7"
      }
    },
    {
      "cell_type": "code",
      "source": [
        "# By default, conversion with to_numeric() will give you either an int64 or float64 dtype (or whatever integer width is native to your platform).\n",
        "# That's usually what you want, but what if you wanted to save some memory and use a more compact dtype, like float32, or int8?\n",
        "# to_numeric() gives you the option to downcast to either 'integer', 'signed', 'unsigned', 'float'.\n",
        "s = pd.Series([1,2,-7])\n",
        "s"
      ],
      "metadata": {
        "id": "ZUvBoJE5CIfa"
      },
      "execution_count": null,
      "outputs": []
    },
    {
      "cell_type": "code",
      "source": [
        "# Downcasting to 'integer' uses the smallest possible integer that can hold the values:\n",
        "pd.to_numeric(s, downcast='integer')"
      ],
      "metadata": {
        "id": "QH978qu2Cokp"
      },
      "execution_count": null,
      "outputs": []
    },
    {
      "cell_type": "code",
      "source": [
        "pd.to_numeric(s, downcast='float')"
      ],
      "metadata": {
        "id": "HvLwzWHgCzru"
      },
      "execution_count": null,
      "outputs": []
    },
    {
      "cell_type": "markdown",
      "source": [
        "Datetime"
      ],
      "metadata": {
        "id": "PMkqtes3xQIY"
      }
    },
    {
      "cell_type": "code",
      "source": [
        "#pandas.to_datetime(arg, errors='raise', dayfirst=False, yearfirst=False, utc=None, format=None, exact=True, unit=None, infer_datetime_format=False, origin='unix', cache=True)[source]\n",
        "#Convert argument to datetime.\n",
        "#Parameters: #arg : int, float, str, datetime, list, tuple, 1-d array, Series, DataFrame/dict-like\n",
        "# The object to convert to a datetime. \n",
        "#If a DataFrame is provided, the method expects minimally the following columns: \"year\", \"month\", \"day\".\n",
        "#errors:\n",
        "#{‘ignore’, ‘raise’, ‘coerce’}, default ‘raise’\n",
        "# If 'raise', then invalid parsing will raise an exception.\n",
        "# If 'coerce', then invalid parsing will be set as NaT.\n",
        "# If 'ignore', then invalid parsing will return the input."
      ],
      "metadata": {
        "id": "uiHG3A_9xPgt"
      },
      "execution_count": 32,
      "outputs": []
    },
    {
      "cell_type": "code",
      "source": [
        "df = pd.DataFrame({'year': [2015, 2016],'month': [2,3],'day': [4,5]})\n",
        "pd.to_datetime(df)\n"
      ],
      "metadata": {
        "colab": {
          "base_uri": "https://localhost:8080/"
        },
        "id": "8UvizcfjyxuN",
        "outputId": "563ca023-b6a3-49b0-f29c-d8f0afe6b9db"
      },
      "execution_count": 34,
      "outputs": [
        {
          "output_type": "execute_result",
          "data": {
            "text/plain": [
              "0   2015-02-04\n",
              "1   2016-03-05\n",
              "dtype: datetime64[ns]"
            ]
          },
          "metadata": {},
          "execution_count": 34
        }
      ]
    },
    {
      "cell_type": "code",
      "source": [
        "s = pd.Series(['3/11/2000','3/12/2000','3/13/2000'] * 1000)\n",
        "s.head()"
      ],
      "metadata": {
        "colab": {
          "base_uri": "https://localhost:8080/"
        },
        "id": "xojvyVu5zVj2",
        "outputId": "2049b47c-c3e1-4e56-af6a-b4138fe8ab25"
      },
      "execution_count": 36,
      "outputs": [
        {
          "output_type": "execute_result",
          "data": {
            "text/plain": [
              "0    3/11/2000\n",
              "1    3/12/2000\n",
              "2    3/13/2000\n",
              "3    3/11/2000\n",
              "4    3/12/2000\n",
              "dtype: object"
            ]
          },
          "metadata": {},
          "execution_count": 36
        }
      ]
    },
    {
      "cell_type": "code",
      "source": [
        "%timeit pd.to_datetime(s,infer_datetime_format=True)"
      ],
      "metadata": {
        "id": "4gIPjaFKzpbB"
      },
      "execution_count": null,
      "outputs": []
    },
    {
      "cell_type": "code",
      "source": [
        "%timeit pd.to_datetime(s,infer_datetime_format=False)"
      ],
      "metadata": {
        "id": "Xdmv9AMIz15j"
      },
      "execution_count": null,
      "outputs": []
    },
    {
      "cell_type": "markdown",
      "source": [
        "to_timedelta"
      ],
      "metadata": {
        "id": "fau0LLtG2_rh"
      }
    },
    {
      "cell_type": "code",
      "source": [
        "# pandas.to_timedelta(arg, unit=None, errors='raise')[source]\n",
        "# Timedeltas are absolute differences in times, expressed in difference units (e.g. days, hours, minutes, seconds)\n",
        "# Parameters: arg: str, timedelta, list-like or Series\n",
        "# The data to be converted to timedelta.\n",
        "# unit: str, optional \n",
        "# Denotes the unit of the arg for numeric arg. Defaults to \"ns\".\n",
        "# ‘W’ # ‘D’ / ‘days’ / ‘day’ # ‘hours’ / ‘hour’ / ‘hr’ / ‘h’ # ‘m’ / ‘minute’ / ‘min’ / ‘minutes’ / ‘T’\n",
        "# ‘S’ / ‘seconds’ / ‘sec’ / ‘second’ # ‘ms’ / ‘milliseconds’ / ‘millisecond’ / ‘milli’ / ‘millis’ / ‘L’\n",
        "# ‘us’ / ‘microseconds’ / ‘microsecond’ / ‘micro’ / ‘micros’ / ‘U’ # ‘ns’ / ‘nanoseconds’ / ‘nano’ / ‘nanos’ / ‘nanosecond’ / ‘N\n",
        "# errors: {‘ignore’, ‘raise’, ‘coerce’}, default ‘raise’\n",
        "# If ‘raise’, then invalid parsing will raise an exception.\n",
        "# If ‘coerce’, then invalid parsing will be set as NaT.\n",
        "# If ‘ignore’, then invalid parsing will return the input."
      ],
      "metadata": {
        "id": "92SxvI1g3Ndz"
      },
      "execution_count": 40,
      "outputs": []
    },
    {
      "cell_type": "markdown",
      "source": [
        "Parsing single string to TimeDelta"
      ],
      "metadata": {
        "id": "I5APKICV4kQ_"
      }
    },
    {
      "cell_type": "code",
      "source": [
        "from pandas._libs.tslibs.timedeltas import Timedelta\n",
        "pd.to_timedelta('1 days 06:05:01.00003')\n"
      ],
      "metadata": {
        "colab": {
          "base_uri": "https://localhost:8080/"
        },
        "id": "z5_dZF_j4hWH",
        "outputId": "c26ce810-3158-471d-8b35-cad15a4690e2"
      },
      "execution_count": 41,
      "outputs": [
        {
          "output_type": "execute_result",
          "data": {
            "text/plain": [
              "Timedelta('1 days 06:05:01.000030')"
            ]
          },
          "metadata": {},
          "execution_count": 41
        }
      ]
    },
    {
      "cell_type": "code",
      "source": [
        "pd.to_timedelta('15.5us')"
      ],
      "metadata": {
        "colab": {
          "base_uri": "https://localhost:8080/"
        },
        "id": "3aMWMG-L49k3",
        "outputId": "c00e1ea4-55b7-45d8-f27a-cba9ea4b2e8b"
      },
      "execution_count": 42,
      "outputs": [
        {
          "output_type": "execute_result",
          "data": {
            "text/plain": [
              "Timedelta('0 days 00:00:00.000015500')"
            ]
          },
          "metadata": {},
          "execution_count": 42
        }
      ]
    },
    {
      "cell_type": "markdown",
      "source": [
        "Parsing list or Array of strings"
      ],
      "metadata": {
        "id": "LwveHdHQ5JH8"
      }
    },
    {
      "cell_type": "code",
      "source": [
        "pd.to_timedelta(['1 days 06:05:01.00003', '15.5us','nan'])\n"
      ],
      "metadata": {
        "colab": {
          "base_uri": "https://localhost:8080/"
        },
        "id": "BlXNm4oO5PHN",
        "outputId": "8b390a48-d143-42d8-d63d-712179074871"
      },
      "execution_count": 43,
      "outputs": [
        {
          "output_type": "execute_result",
          "data": {
            "text/plain": [
              "TimedeltaIndex(['1 days 06:05:01.000030', '0 days 00:00:00.000015500', NaT], dtype='timedelta64[ns]', freq=None)"
            ]
          },
          "metadata": {},
          "execution_count": 43
        }
      ]
    },
    {
      "cell_type": "markdown",
      "source": [
        "Convert numbers by specifying the unit keyword argument"
      ],
      "metadata": {
        "id": "FFIqBoZF5h1N"
      }
    },
    {
      "cell_type": "code",
      "source": [
        "# pd.to_timedelta(np.arrange(5), unit='s')\n",
        "# pd.to_timedelta(np.arrange(5), unit='d)\n"
      ],
      "metadata": {
        "id": "1fmuN4lJ5o6V"
      },
      "execution_count": 54,
      "outputs": []
    },
    {
      "cell_type": "markdown",
      "source": [
        "**astype()**"
      ],
      "metadata": {
        "id": "QW-vgXL2DBKR"
      }
    },
    {
      "cell_type": "code",
      "source": [
        "# The astype() method enables you to be explicit about the dtype you want your DataFrame or Series to have. It's very versatile in that you can try and go from one type to any other.\n",
        "# convert all DataFrame columns to the int64 dtype\n",
        "df = df.astype(int)"
      ],
      "metadata": {
        "id": "A6q3w3-sDALD"
      },
      "execution_count": 55,
      "outputs": []
    },
    {
      "cell_type": "code",
      "source": [
        "#convert column \"a\" to int64 dtype and \"b\" to complex type\n",
        "df = df.astype({\"a\": int, \"b\": complex})"
      ],
      "metadata": {
        "id": "o69FA5O1Da-V"
      },
      "execution_count": null,
      "outputs": []
    },
    {
      "cell_type": "code",
      "source": [
        "# convert Series to Python strings\n",
        "s = s.astype(str)"
      ],
      "metadata": {
        "id": "T1YtA8WKDiE7"
      },
      "execution_count": null,
      "outputs": []
    },
    {
      "cell_type": "code",
      "source": [
        "# convert Series to categorical type - see docs for more details\n",
        "s = s.astype('category')"
      ],
      "metadata": {
        "id": "5i_4eZlHDl6K"
      },
      "execution_count": null,
      "outputs": []
    },
    {
      "cell_type": "markdown",
      "source": [
        "converting integer of one type to another type"
      ],
      "metadata": {
        "id": "RFEn4ko2Dza1"
      }
    },
    {
      "cell_type": "code",
      "source": [
        "s = pd.Series([1,2,-7])\n",
        "s"
      ],
      "metadata": {
        "id": "7DxnhqCbDy_E"
      },
      "execution_count": null,
      "outputs": []
    },
    {
      "cell_type": "code",
      "source": [
        "s.astype(np.uint8)"
      ],
      "metadata": {
        "id": "f_Yo3gQqEC_j"
      },
      "execution_count": null,
      "outputs": []
    },
    {
      "cell_type": "markdown",
      "source": [
        "Infer_objects"
      ],
      "metadata": {
        "id": "wVm3ryUvEa9H"
      }
    },
    {
      "cell_type": "code",
      "source": [
        "#  infer_objects() for converting columns of a DataFrame that have an object datatype to a more specific type (soft conversions).\n",
        "df = pd.DataFrame({'a':[7, 1, 5], 'b':['3','2','1']}, dtype='object')\n",
        "df.dtypes"
      ],
      "metadata": {
        "id": "xR_X7mj2EhfA"
      },
      "execution_count": null,
      "outputs": []
    },
    {
      "cell_type": "code",
      "source": [
        "df = df.infer_objects()\n",
        "df.dtypes"
      ],
      "metadata": {
        "id": "yRI4h-c9FBIq"
      },
      "execution_count": null,
      "outputs": []
    },
    {
      "cell_type": "markdown",
      "source": [
        "convert_dtypes()"
      ],
      "metadata": {
        "id": "YkCTG1pWFSzm"
      }
    },
    {
      "cell_type": "code",
      "source": [
        "# convert_dtypes() to convert Series and DataFrame columns to the best possible dtype that supports the pd.NA missing value.\n",
        "df.convert_dtypes().dtypes"
      ],
      "metadata": {
        "id": "BHtRblmIFYsx"
      },
      "execution_count": null,
      "outputs": []
    },
    {
      "cell_type": "code",
      "source": [
        "df.convert_dtypes(infer_objects=False).dtypes   "
      ],
      "metadata": {
        "id": "b4IDbN6sGO_h"
      },
      "execution_count": null,
      "outputs": []
    }
  ]
}