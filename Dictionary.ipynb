{
  "nbformat": 4,
  "nbformat_minor": 0,
  "metadata": {
    "colab": {
      "name": "Dictionary.ipynb",
      "provenance": [],
      "collapsed_sections": [],
      "authorship_tag": "ABX9TyPNbtTlVVFb3LrVBk733gHj",
      "include_colab_link": true
    },
    "kernelspec": {
      "name": "python3",
      "display_name": "Python 3"
    },
    "language_info": {
      "name": "python"
    }
  },
  "cells": [
    {
      "cell_type": "markdown",
      "metadata": {
        "id": "view-in-github",
        "colab_type": "text"
      },
      "source": [
        "<a href=\"https://colab.research.google.com/github/bhagyashridumbre/r-descriptive-statistics/blob/main/Dictionary.ipynb\" target=\"_parent\"><img src=\"https://colab.research.google.com/assets/colab-badge.svg\" alt=\"Open In Colab\"/></a>"
      ]
    },
    {
      "cell_type": "markdown",
      "source": [
        "Dictionary"
      ],
      "metadata": {
        "id": "6Ws7ZhyDhPUv"
      }
    },
    {
      "cell_type": "code",
      "execution_count": 3,
      "metadata": {
        "colab": {
          "base_uri": "https://localhost:8080/"
        },
        "id": "ZCgTvBM7hJ2J",
        "outputId": "edb38056-b439-402c-a3fa-65a4e720590a"
      },
      "outputs": [
        {
          "output_type": "stream",
          "name": "stdout",
          "text": [
            "{1: 'apple', 2: 'ball'}\n",
            "{'name': 'John', 1: [2, 4, 3]}\n",
            "{1: 'apple', 2: 'ball'}\n",
            "{1: 'apple', 2: 'ball'}\n"
          ]
        }
      ],
      "source": [
        "# Python dictionary is an unordered collection of items. Each item of a dictionary has a key/value pair.\n",
        "# Dictionaries are optimized to retrieve values when the key is known.\n",
        "# empty dictionary\n",
        "# we can also create a dictionary using the built-in dict() function.\n",
        "my_dict = {}\n",
        "\n",
        "# dictionary with integer keys\n",
        "my_dict = {1: 'apple', 2: 'ball'}\n",
        "print(my_dict)\n",
        "\n",
        "# dictionary with mixed keys\n",
        "my_dict = {'name': 'John', 1: [2, 4, 3]}\n",
        "print(my_dict)\n",
        "\n",
        "# using dict()\n",
        "my_dict = dict({1:'apple', 2:'ball'})\n",
        "print(my_dict)\n",
        "# from sequence having each item as a pair\n",
        "my_dict = dict([(1,'apple'), (2,'ball')])\n",
        "print(my_dict)"
      ]
    },
    {
      "cell_type": "markdown",
      "source": [
        "Accessing Elements from Dictionary"
      ],
      "metadata": {
        "id": "q9TdfYkEh46q"
      }
    },
    {
      "cell_type": "code",
      "source": [
        "# get vs [] for retrieving elements\n",
        "my_dict = {'name': 'Jack', 'age': 26}\n",
        "\n",
        "# Output: Jack\n",
        "print(my_dict['name'])\n",
        "\n",
        "# Output: 26\n",
        "print(my_dict.get('age'))\n",
        "\n",
        "# Trying to access keys which doesn't exist throws error\n",
        "# Output None\n",
        "print(my_dict.get('address'))\n",
        "\n",
        "# KeyError\n",
        "print(my_dict['address']"
      ],
      "metadata": {
        "id": "JOwyOPMpiAKr"
      },
      "execution_count": null,
      "outputs": []
    },
    {
      "cell_type": "code",
      "source": [
        "# Changing and adding Dictionary Elements\n",
        "my_dict = {'name': 'Jack', 'age': 26}\n",
        "\n",
        "# update value\n",
        "my_dict['age'] = 27\n",
        "\n",
        "#Output: {'age': 27, 'name': 'Jack'}\n",
        "print(my_dict)\n",
        "\n",
        "# add item\n",
        "my_dict['address'] = 'Downtown'\n",
        "\n",
        "# Output: {'address': 'Downtown', 'age': 27, 'name': 'Jack'}\n",
        "print(my_dict)"
      ],
      "metadata": {
        "colab": {
          "base_uri": "https://localhost:8080/"
        },
        "id": "lWzor9VJiQOF",
        "outputId": "77bdd79f-50cb-44d2-e265-a5151205c76c"
      },
      "execution_count": 6,
      "outputs": [
        {
          "output_type": "stream",
          "name": "stdout",
          "text": [
            "{'name': 'Jack', 'age': 27}\n",
            "{'name': 'Jack', 'age': 27, 'address': 'Downtown'}\n"
          ]
        }
      ]
    },
    {
      "cell_type": "code",
      "source": [
        "# Removing elements from a dictionary\n",
        "\n",
        "# create a dictionary\n",
        "squares = {1: 1, 2: 4, 3: 9, 4: 16, 5: 25}\n",
        "\n",
        "# remove a particular item, returns its value\n",
        "# Output: 16\n",
        "print(squares.pop(4))\n",
        "\n",
        "# Output: {1: 1, 2: 4, 3: 9, 5: 25}\n",
        "print(squares)\n",
        "\n",
        "# remove an arbitrary item, return (key,value)\n",
        "# Output: (5, 25)\n",
        "print(squares.popitem())\n",
        "\n",
        "# Output: {1: 1, 2: 4, 3: 9}\n",
        "print(squares)\n",
        "\n",
        "# remove all items\n",
        "squares.clear()\n",
        "\n",
        "# Output: {}\n",
        "print(squares)\n",
        "\n",
        "# delete the dictionary itself\n",
        "del squares\n",
        "\n",
        "# Throws Error\n",
        "print(squares)"
      ],
      "metadata": {
        "colab": {
          "base_uri": "https://localhost:8080/",
          "height": 287
        },
        "id": "zF5HWxHhiSJV",
        "outputId": "83202306-f088-48c3-f1d2-f123327ded1f"
      },
      "execution_count": 7,
      "outputs": [
        {
          "output_type": "stream",
          "name": "stdout",
          "text": [
            "16\n",
            "{1: 1, 2: 4, 3: 9, 5: 25}\n",
            "(5, 25)\n",
            "{1: 1, 2: 4, 3: 9}\n",
            "{}\n"
          ]
        },
        {
          "output_type": "error",
          "ename": "NameError",
          "evalue": "ignored",
          "traceback": [
            "\u001b[0;31m---------------------------------------------------------------------------\u001b[0m",
            "\u001b[0;31mNameError\u001b[0m                                 Traceback (most recent call last)",
            "\u001b[0;32m<ipython-input-7-d119a0a5b684>\u001b[0m in \u001b[0;36m<module>\u001b[0;34m\u001b[0m\n\u001b[1;32m     28\u001b[0m \u001b[0;34m\u001b[0m\u001b[0m\n\u001b[1;32m     29\u001b[0m \u001b[0;31m# Throws Error\u001b[0m\u001b[0;34m\u001b[0m\u001b[0;34m\u001b[0m\u001b[0;34m\u001b[0m\u001b[0m\n\u001b[0;32m---> 30\u001b[0;31m \u001b[0mprint\u001b[0m\u001b[0;34m(\u001b[0m\u001b[0msquares\u001b[0m\u001b[0;34m)\u001b[0m\u001b[0;34m\u001b[0m\u001b[0;34m\u001b[0m\u001b[0m\n\u001b[0m",
            "\u001b[0;31mNameError\u001b[0m: name 'squares' is not defined"
          ]
        }
      ]
    },
    {
      "cell_type": "code",
      "source": [
        "# Python dictionary methods\n",
        "# clear(): removes all items from the dictionary\n",
        "# copy(): returns a shallow copy of the dictionary\n",
        "# fromkeys(seq[, v]): Returns a new dictionary with keys from seq and value equal to v (defaults to None).\n",
        "# get(key[,d]):Returns the value of the key. If the key does not exist, returns d (defaults to None).\n",
        "# items(): Return a new object of the dictionary's items in (key, value) format.\n",
        "# keys():Returns a new object of the dictionary's keys.\n",
        "# pop(key[,d]): Removes the item with the key and returns its value or d if key is not found. If d is not provided and the key is not found, it raises KeyError.\n",
        "# popitem():Removes and returns an arbitrary item (key, value). Raises KeyError if the dictionary is empty.\n",
        "# setdefault(key[,d]): Returns the corresponding value if the key is in the dictionary. If not, inserts the key with a value of d and returns d (defaults to None).\n",
        "# update([other]):Updates the dictionary with the key/value pairs from other, overwriting existing keys.\n",
        "# values():Returns a new object of the dictionary's values"
      ],
      "metadata": {
        "id": "9CId7xu6iaNR"
      },
      "execution_count": null,
      "outputs": []
    },
    {
      "cell_type": "code",
      "source": [
        "# Dictionary Methods\n",
        "marks = {}.fromkeys(['Math', 'English', 'Science'], 0)\n",
        "\n",
        "# Output: {'English': 0, 'Math': 0, 'Science': 0}\n",
        "print(marks)\n",
        "\n",
        "for item in marks.items():\n",
        "    print(item)\n",
        "\n",
        "# Output: ['English', 'Math', 'Science']\n",
        "print(list(sorted(marks.keys())))"
      ],
      "metadata": {
        "colab": {
          "base_uri": "https://localhost:8080/"
        },
        "id": "dIrDv9-jjbUI",
        "outputId": "e85fef93-1b01-45c7-b024-14ee431cc64f"
      },
      "execution_count": 8,
      "outputs": [
        {
          "output_type": "stream",
          "name": "stdout",
          "text": [
            "{'Math': 0, 'English': 0, 'Science': 0}\n",
            "('Math', 0)\n",
            "('English', 0)\n",
            "('Science', 0)\n",
            "['English', 'Math', 'Science']\n"
          ]
        }
      ]
    },
    {
      "cell_type": "markdown",
      "source": [
        "Python Dictionary Comprehension"
      ],
      "metadata": {
        "id": "-FZyy5BNjiB-"
      }
    },
    {
      "cell_type": "code",
      "source": [
        "# Dictionary comprehension is an elegant and concise way to create a new dictionary from an iterable in Python.\n",
        "# Dictionary Comprehension\n",
        "squares = {x: x*x for x in range(6)}\n",
        "\n",
        "print(squares)"
      ],
      "metadata": {
        "colab": {
          "base_uri": "https://localhost:8080/"
        },
        "id": "ZaNPrZ8Vjjjr",
        "outputId": "781bc1fb-4300-4c85-f6e4-c71c388e27a1"
      },
      "execution_count": 9,
      "outputs": [
        {
          "output_type": "stream",
          "name": "stdout",
          "text": [
            "{0: 0, 1: 1, 2: 4, 3: 9, 4: 16, 5: 25}\n"
          ]
        }
      ]
    },
    {
      "cell_type": "code",
      "source": [
        "# above code is equivalent to\n",
        "squares = {}\n",
        "for x in range(6):\n",
        "    squares[x] = x*x\n",
        "print(squares)"
      ],
      "metadata": {
        "colab": {
          "base_uri": "https://localhost:8080/"
        },
        "id": "SLiFW750jwYp",
        "outputId": "e15b3514-26b0-4d37-9d34-65f083c26bd1"
      },
      "execution_count": 10,
      "outputs": [
        {
          "output_type": "stream",
          "name": "stdout",
          "text": [
            "{0: 0, 1: 1, 2: 4, 3: 9, 4: 16, 5: 25}\n"
          ]
        }
      ]
    },
    {
      "cell_type": "code",
      "source": [
        "# Dictionary Comprehension with if conditional\n",
        "odd_squares = {x: x*x for x in range(11) if x % 2 == 1}\n",
        "\n",
        "print(odd_squares)"
      ],
      "metadata": {
        "colab": {
          "base_uri": "https://localhost:8080/"
        },
        "id": "76VbiELVj5gk",
        "outputId": "7cf81b7e-c044-4f8a-c657-0cc4c76608d4"
      },
      "execution_count": 11,
      "outputs": [
        {
          "output_type": "stream",
          "name": "stdout",
          "text": [
            "{1: 1, 3: 9, 5: 25, 7: 49, 9: 81}\n"
          ]
        }
      ]
    },
    {
      "cell_type": "code",
      "source": [
        "# Dictionary Membership Test\n",
        "# Membership Test for Dictionary Keys\n",
        "squares = {1: 1, 3: 9, 5: 25, 7: 49, 9: 81}\n",
        "\n",
        "# Output: True\n",
        "print(1 in squares)\n",
        "\n",
        "# Output: True\n",
        "print(2 not in squares)\n",
        "\n",
        "# membership tests for key only not value\n",
        "# Output: False\n",
        "print(49 in squares)"
      ],
      "metadata": {
        "colab": {
          "base_uri": "https://localhost:8080/"
        },
        "id": "s3-93w54j97I",
        "outputId": "a28729e4-b57c-43fb-f75c-fe355a68bb63"
      },
      "execution_count": 12,
      "outputs": [
        {
          "output_type": "stream",
          "name": "stdout",
          "text": [
            "True\n",
            "True\n",
            "False\n"
          ]
        }
      ]
    },
    {
      "cell_type": "code",
      "source": [
        "# Iterating Through a Dictionary\n",
        "squares = {1: 1, 3: 9, 5: 25, 7: 49, 9: 81}\n",
        "for i in squares:\n",
        "    print(squares[i])"
      ],
      "metadata": {
        "colab": {
          "base_uri": "https://localhost:8080/"
        },
        "id": "yIpXrmAxkDDG",
        "outputId": "3c02776b-0167-4801-a945-c86aec02204b"
      },
      "execution_count": 13,
      "outputs": [
        {
          "output_type": "stream",
          "name": "stdout",
          "text": [
            "1\n",
            "9\n",
            "25\n",
            "49\n",
            "81\n"
          ]
        }
      ]
    },
    {
      "cell_type": "code",
      "source": [
        "# Dictionary Built-in Functions\n",
        "squares = {0: 0, 1: 1, 3: 9, 5: 25, 7: 49, 9: 81}\n",
        "\n",
        "# Output: False\n",
        "print(all(squares))\n",
        "\n",
        "# Output: True\n",
        "print(any(squares))\n",
        "\n",
        "# Output: 6\n",
        "print(len(squares))\n",
        "\n",
        "# Output: [0, 1, 3, 5, 7, 9]\n",
        "print(sorted(squares))"
      ],
      "metadata": {
        "colab": {
          "base_uri": "https://localhost:8080/"
        },
        "id": "PXb8EPUikOhz",
        "outputId": "0c3d22c5-ac69-437e-f68e-6940c29037f3"
      },
      "execution_count": 14,
      "outputs": [
        {
          "output_type": "stream",
          "name": "stdout",
          "text": [
            "False\n",
            "True\n",
            "6\n",
            "[0, 1, 3, 5, 7, 9]\n"
          ]
        }
      ]
    }
  ]
}