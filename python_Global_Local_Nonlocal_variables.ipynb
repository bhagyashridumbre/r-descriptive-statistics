{
  "nbformat": 4,
  "nbformat_minor": 0,
  "metadata": {
    "colab": {
      "name": "python Global_Local_Nonlocal variables.ipynb",
      "provenance": [],
      "collapsed_sections": [],
      "authorship_tag": "ABX9TyPGITcNSHrLf4JJhXfY8dKP",
      "include_colab_link": true
    },
    "kernelspec": {
      "name": "python3",
      "display_name": "Python 3"
    },
    "language_info": {
      "name": "python"
    }
  },
  "cells": [
    {
      "cell_type": "markdown",
      "metadata": {
        "id": "view-in-github",
        "colab_type": "text"
      },
      "source": [
        "<a href=\"https://colab.research.google.com/github/bhagyashridumbre/r-descriptive-statistics/blob/main/python_Global_Local_Nonlocal_variables.ipynb\" target=\"_parent\"><img src=\"https://colab.research.google.com/assets/colab-badge.svg\" alt=\"Open In Colab\"/></a>"
      ]
    },
    {
      "cell_type": "markdown",
      "source": [
        "Global Variables"
      ],
      "metadata": {
        "id": "JKVHoTBjHaT6"
      }
    },
    {
      "cell_type": "code",
      "execution_count": null,
      "metadata": {
        "colab": {
          "base_uri": "https://localhost:8080/"
        },
        "id": "KxdR6jjHHM5R",
        "outputId": "de303122-1ff7-4924-c571-8cd5fa4df33f"
      },
      "outputs": [
        {
          "output_type": "stream",
          "name": "stdout",
          "text": [
            "x inside: global\n",
            "x outside: global\n"
          ]
        }
      ],
      "source": [
        "# a variable declared outside the function or in global scope is known as a global variables.\n",
        "#  global variable can be accessed inside or outside of the function.\n",
        "x = \"global\"\n",
        "def foo():\n",
        "    print(\"x inside:\", x)\n",
        "foo()\n",
        "print(\"x outside:\", x)"
      ]
    },
    {
      "cell_type": "code",
      "source": [
        "x = \"global\"\n",
        "def foo():\n",
        "    x = x * 2\n",
        "    print(x)\n",
        "foo()"
      ],
      "metadata": {
        "id": "c0rEv-PVI7Zr"
      },
      "execution_count": null,
      "outputs": []
    },
    {
      "cell_type": "code",
      "source": [
        "# Rules for global keyword\n",
        "# When we create a variable inside a function, it is local by default.\n",
        "# When we define a variable outside of a function, it is global by default. You don't have to use global keyword.\n",
        "# We use global keyword to read and write a global variable inside a function.\n",
        "# Use of global keyword outside a function has no effect.\n",
        "c = 1 # global variable\n",
        "def add():\n",
        "    print(c)\n",
        "add()"
      ],
      "metadata": {
        "colab": {
          "base_uri": "https://localhost:8080/"
        },
        "id": "mmdelUCzJYuK",
        "outputId": "a2f741f8-4795-49f6-d1c5-0ad7887620d6"
      },
      "execution_count": null,
      "outputs": [
        {
          "output_type": "stream",
          "name": "stdout",
          "text": [
            "1\n"
          ]
        }
      ]
    },
    {
      "cell_type": "code",
      "source": [
        "c = 1 # global variable  \n",
        "def add():\n",
        "    c = c + 2 # increment c by 2\n",
        "    print(c)\n",
        "add()\n",
        "# This is because we can only access the global variable but cannot modify it from inside the function.\n",
        "# The solution for this is to use the global keyword."
      ],
      "metadata": {
        "id": "sZ8RG-DGJy8K"
      },
      "execution_count": null,
      "outputs": []
    },
    {
      "cell_type": "code",
      "source": [
        "# Changing Global Variable From Inside a Function using global\n",
        "c = 0 # global variable\n",
        "def add():\n",
        "    global c\n",
        "    c = c + 2 # increment by 2\n",
        "    print(\"Inside add():\", c)\n",
        "add()\n",
        "print(\"In main:\", c)"
      ],
      "metadata": {
        "colab": {
          "base_uri": "https://localhost:8080/"
        },
        "id": "XsfnJfXlKKNd",
        "outputId": "02e45e0b-1237-4d39-bff0-a5713c7692b2"
      },
      "execution_count": null,
      "outputs": [
        {
          "output_type": "stream",
          "name": "stdout",
          "text": [
            "Inside add(): 2\n",
            "In main: 2\n"
          ]
        }
      ]
    },
    {
      "cell_type": "code",
      "source": [
        "# global in nested functions\n",
        "def foo():\n",
        "    x = 20\n",
        "    def bar():\n",
        "        global x\n",
        "        x = 25\n",
        "    print(\"Before calling bar: \", x)\n",
        "    print(\"Calling bar now\")\n",
        "    bar()\n",
        "    print(\"After calling bar: \", x)\n",
        "foo()\n",
        "print(\"x in main: \", x)\n"
      ],
      "metadata": {
        "colab": {
          "base_uri": "https://localhost:8080/"
        },
        "id": "FovCjnq1Knmm",
        "outputId": "62f72778-4aa6-4f2b-9b55-3b3d28990970"
      },
      "execution_count": null,
      "outputs": [
        {
          "output_type": "stream",
          "name": "stdout",
          "text": [
            "Before calling bar:  20\n",
            "Calling bar now\n",
            "After calling bar:  20\n",
            "x in main:  25\n"
          ]
        }
      ]
    },
    {
      "cell_type": "markdown",
      "source": [
        "global variables across python modules\n"
      ],
      "metadata": {
        "id": "elAp6XsogwML"
      }
    },
    {
      "cell_type": "code",
      "source": [
        "# config.py to hold global variables and share information across Python modules within the same program.\n",
        "# a config.py file, to store global variables\n",
        "a = 0\n",
        "b =\"empty\"\n",
        "import config\n",
        "config.a = 10\n",
        "config.b = \"alphabet\""
      ],
      "metadata": {
        "id": "ufJbUn7OgvXu"
      },
      "execution_count": null,
      "outputs": []
    },
    {
      "cell_type": "code",
      "source": [
        "# pdate.py file, to change global variables\n",
        "# main.py file, to test changes in value\n",
        "import config\n",
        "import update\n",
        "print(config.a)\n",
        "print(config.b)\n"
      ],
      "metadata": {
        "id": "Z0-l9kjmhh2L"
      },
      "execution_count": null,
      "outputs": []
    },
    {
      "cell_type": "markdown",
      "source": [
        "Local **Variables**"
      ],
      "metadata": {
        "id": "WByoUDwOh3YR"
      }
    },
    {
      "cell_type": "code",
      "source": [
        "# A variable declared inside the function's body or in the local scope is known as a local variable.\n",
        "#  Accessing local variable outside the scope\n",
        "def foo():\n",
        "    y = \"local\"\n",
        "foo()\n",
        "print(y)\n",
        "# The output shows an error because we are trying to access a local variable y in a global scope whereas the local variable only works inside foo() or local scope.\n",
        "\n"
      ],
      "metadata": {
        "id": "hQnSGTjPh7Ee"
      },
      "execution_count": null,
      "outputs": []
    },
    {
      "cell_type": "code",
      "source": [
        "# Create a local variable\n",
        "def foo():\n",
        "  y = \"local\"\n",
        "  print(y)\n",
        "foo()"
      ],
      "metadata": {
        "colab": {
          "base_uri": "https://localhost:8080/"
        },
        "id": "LAniRxG1iMUh",
        "outputId": "da817cc1-96ab-4e31-cca1-4c0a79812c8f"
      },
      "execution_count": 15,
      "outputs": [
        {
          "output_type": "stream",
          "name": "stdout",
          "text": [
            "local\n"
          ]
        }
      ]
    },
    {
      "cell_type": "markdown",
      "source": [
        "global and local variables"
      ],
      "metadata": {
        "id": "LdkgtkTJiaYA"
      }
    },
    {
      "cell_type": "code",
      "source": [
        "x = \"global \"\n",
        "def foo():\n",
        "    global x\n",
        "    y = \"local\"\n",
        "    x = x * 2\n",
        "    print(x)\n",
        "    print(y)\n",
        "\n",
        "foo()"
      ],
      "metadata": {
        "colab": {
          "base_uri": "https://localhost:8080/"
        },
        "id": "_7F_eN_tife8",
        "outputId": "67c6c1e6-2af2-4e01-bbf2-1ea0b521f0c7"
      },
      "execution_count": 16,
      "outputs": [
        {
          "output_type": "stream",
          "name": "stdout",
          "text": [
            "global global \n",
            "local\n"
          ]
        }
      ]
    },
    {
      "cell_type": "code",
      "source": [
        "# Global variable and Local variable with same name\n",
        "x = 5\n",
        "def foo():\n",
        "    x = 10\n",
        "    print(\"local x:\", x)\n",
        "foo()\n",
        "print(\"global x:\", x)"
      ],
      "metadata": {
        "colab": {
          "base_uri": "https://localhost:8080/"
        },
        "id": "Zf4nWeA-ioYp",
        "outputId": "07a1c259-b401-476d-d0e2-4c7804b5755e"
      },
      "execution_count": 17,
      "outputs": [
        {
          "output_type": "stream",
          "name": "stdout",
          "text": [
            "local x: 10\n",
            "global x: 5\n"
          ]
        }
      ]
    },
    {
      "cell_type": "markdown",
      "source": [
        "Nonlocal Variables"
      ],
      "metadata": {
        "id": "qu671crVizUP"
      }
    },
    {
      "cell_type": "code",
      "source": [
        "# onlocal variables are used in nested functions whose local scope is not defined.\n",
        "# This means that the variable can be neither in the local nor the global scope.\n",
        "# Create a nonlocal variable\n",
        "def outer():\n",
        "    x = \"local\"\n",
        "    def inner():\n",
        "        nonlocal x\n",
        "        x = \"nonlocal\"\n",
        "        print(\"inner:\", x)\n",
        "    inner()\n",
        "    print(\"outer:\", x)\n",
        "outer()"
      ],
      "metadata": {
        "colab": {
          "base_uri": "https://localhost:8080/"
        },
        "id": "nSz0yMfXi2nH",
        "outputId": "048b890b-c8e8-493d-ec78-14b5dc463908"
      },
      "execution_count": 19,
      "outputs": [
        {
          "output_type": "stream",
          "name": "stdout",
          "text": [
            "inner: nonlocal\n",
            "outer: nonlocal\n"
          ]
        }
      ]
    }
  ]
}