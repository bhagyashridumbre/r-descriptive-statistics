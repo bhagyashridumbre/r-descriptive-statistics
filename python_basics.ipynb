{
  "cells": [
    {
      "cell_type": "markdown",
      "metadata": {
        "id": "view-in-github",
        "colab_type": "text"
      },
      "source": [
        "<a href=\"https://colab.research.google.com/github/bhagyashridumbre/r-descriptive-statistics/blob/main/python_basics.ipynb\" target=\"_parent\"><img src=\"https://colab.research.google.com/assets/colab-badge.svg\" alt=\"Open In Colab\"/></a>"
      ]
    },
    {
      "cell_type": "markdown",
      "id": "b6979082",
      "metadata": {
        "id": "b6979082"
      },
      "source": [
        "## Slicing\n"
      ]
    },
    {
      "cell_type": "code",
      "execution_count": null,
      "id": "28089999",
      "metadata": {
        "id": "28089999"
      },
      "outputs": [],
      "source": [
        "str1 = 'hello world'"
      ]
    },
    {
      "cell_type": "code",
      "execution_count": null,
      "id": "a75e3ebd",
      "metadata": {
        "id": "a75e3ebd",
        "outputId": "831cd827-0cbe-43f5-c56a-046b65c2910f"
      },
      "outputs": [
        {
          "data": {
            "text/plain": [
              "'el'"
            ]
          },
          "execution_count": 3,
          "metadata": {},
          "output_type": "execute_result"
        }
      ],
      "source": [
        "str1[1:3]"
      ]
    },
    {
      "cell_type": "code",
      "execution_count": null,
      "id": "6567da55",
      "metadata": {
        "id": "6567da55",
        "outputId": "b5b0e0ae-23d1-4f3a-8ee0-ebd1b12c5c02"
      },
      "outputs": [
        {
          "data": {
            "text/plain": [
              "'hello'"
            ]
          },
          "execution_count": 5,
          "metadata": {},
          "output_type": "execute_result"
        }
      ],
      "source": [
        "str1[0:5]"
      ]
    },
    {
      "cell_type": "code",
      "execution_count": null,
      "id": "74c49147",
      "metadata": {
        "id": "74c49147",
        "outputId": "391c8bec-b4f7-4330-c83b-e722b022bbcf"
      },
      "outputs": [
        {
          "data": {
            "text/plain": [
              "['python', 'c']"
            ]
          },
          "execution_count": 7,
          "metadata": {},
          "output_type": "execute_result"
        }
      ],
      "source": [
        "list1 = ['java','python','c','vba','abc']\n",
        "list1[1:3]"
      ]
    },
    {
      "cell_type": "code",
      "execution_count": null,
      "id": "34b92190",
      "metadata": {
        "id": "34b92190",
        "outputId": "b45bc904-c896-4fbb-ffa6-daeedc3d2cc9"
      },
      "outputs": [
        {
          "data": {
            "text/plain": [
              "['java', 'python', 'c', 'vba']"
            ]
          },
          "execution_count": 11,
          "metadata": {},
          "output_type": "execute_result"
        }
      ],
      "source": [
        "list1[:4]"
      ]
    },
    {
      "cell_type": "code",
      "execution_count": null,
      "id": "c593fc0c",
      "metadata": {
        "id": "c593fc0c",
        "outputId": "a737a8b0-a607-4ae7-e5a2-48a3c4606a45"
      },
      "outputs": [
        {
          "data": {
            "text/plain": [
              "['java', 'python', 'c', 'vba', 'abc']"
            ]
          },
          "execution_count": 13,
          "metadata": {},
          "output_type": "execute_result"
        }
      ],
      "source": [
        "list1[:]"
      ]
    },
    {
      "cell_type": "code",
      "execution_count": null,
      "id": "f50876fe",
      "metadata": {
        "id": "f50876fe",
        "outputId": "a6c678a2-eaa1-4e93-955a-bd6ec542ad89"
      },
      "outputs": [
        {
          "data": {
            "text/plain": [
              "['banana', 'abc', 123]"
            ]
          },
          "execution_count": 15,
          "metadata": {},
          "output_type": "execute_result"
        }
      ],
      "source": [
        "list_new = ['apple','banana','abc',123,'spam','python']\n",
        "list_new[1:4]"
      ]
    },
    {
      "cell_type": "code",
      "execution_count": null,
      "id": "7d23233c",
      "metadata": {
        "id": "7d23233c",
        "outputId": "d215f61a-ccfb-4d49-a322-eed2eaa15c9d"
      },
      "outputs": [
        {
          "data": {
            "text/plain": [
              "['banana', 123]"
            ]
          },
          "execution_count": 17,
          "metadata": {},
          "output_type": "execute_result"
        }
      ],
      "source": [
        "list_new[1:4:2]"
      ]
    },
    {
      "cell_type": "code",
      "execution_count": null,
      "id": "1235d03a",
      "metadata": {
        "id": "1235d03a",
        "outputId": "7088bbce-d22b-45c7-fb44-ace0f6ed2554"
      },
      "outputs": [
        {
          "data": {
            "text/plain": [
              "['java', 'python', 'c', 'vba', 'abc']"
            ]
          },
          "execution_count": 18,
          "metadata": {},
          "output_type": "execute_result"
        }
      ],
      "source": [
        "list1"
      ]
    },
    {
      "cell_type": "code",
      "execution_count": null,
      "id": "53632d31",
      "metadata": {
        "id": "53632d31",
        "outputId": "87ddf6b2-4e5f-4525-fc10-316fc0dbd2b4"
      },
      "outputs": [
        {
          "data": {
            "text/plain": [
              "['java', 'c', 'abc']"
            ]
          },
          "execution_count": 20,
          "metadata": {},
          "output_type": "execute_result"
        }
      ],
      "source": [
        "list1[::2]"
      ]
    },
    {
      "cell_type": "code",
      "execution_count": null,
      "id": "7cb74276",
      "metadata": {
        "id": "7cb74276",
        "outputId": "182b6ab7-ff43-49c3-cefb-a91140753953"
      },
      "outputs": [
        {
          "data": {
            "text/plain": [
              "['abc', 'vba', 'c', 'python', 'java']"
            ]
          },
          "execution_count": 22,
          "metadata": {},
          "output_type": "execute_result"
        }
      ],
      "source": [
        "list1[::-1]"
      ]
    },
    {
      "cell_type": "code",
      "execution_count": null,
      "id": "4d94cefc",
      "metadata": {
        "id": "4d94cefc",
        "outputId": "da9283f6-cea3-47b7-d781-11e0a0bb67ff"
      },
      "outputs": [
        {
          "data": {
            "text/plain": [
              "['java', 'python', 'c', 'vba', 'abc']"
            ]
          },
          "execution_count": 27,
          "metadata": {},
          "output_type": "execute_result"
        }
      ],
      "source": [
        "list1"
      ]
    },
    {
      "cell_type": "code",
      "execution_count": null,
      "id": "0afeaea5",
      "metadata": {
        "id": "0afeaea5",
        "outputId": "4bcef85f-bcb8-48dc-eaba-f2d32b87a20b"
      },
      "outputs": [
        {
          "data": {
            "text/plain": [
              "['abc', 'vba', 'c']"
            ]
          },
          "execution_count": 28,
          "metadata": {},
          "output_type": "execute_result"
        }
      ],
      "source": [
        "list1[4:1:-1]"
      ]
    },
    {
      "cell_type": "code",
      "execution_count": null,
      "id": "074d40c5",
      "metadata": {
        "id": "074d40c5",
        "outputId": "1b9aa8d9-4834-4099-9046-f6afc3096114"
      },
      "outputs": [
        {
          "data": {
            "text/plain": [
              "'Welcome'"
            ]
          },
          "execution_count": 30,
          "metadata": {},
          "output_type": "execute_result"
        }
      ],
      "source": [
        "str1 = \"Welcome\"\n",
        "str1"
      ]
    },
    {
      "cell_type": "code",
      "execution_count": null,
      "id": "ed2cb720",
      "metadata": {
        "id": "ed2cb720",
        "outputId": "37e36d01-0fff-4c46-dcdf-b5651188d69d"
      },
      "outputs": [
        {
          "data": {
            "text/plain": [
              "'emocleW'"
            ]
          },
          "execution_count": 32,
          "metadata": {},
          "output_type": "execute_result"
        }
      ],
      "source": [
        "str1[::-1]"
      ]
    },
    {
      "cell_type": "code",
      "execution_count": null,
      "id": "7eb64520",
      "metadata": {
        "id": "7eb64520",
        "outputId": "2612b022-2b69-4da8-8761-c959fb7b98b4"
      },
      "outputs": [
        {
          "data": {
            "text/plain": [
              "('java', 'python')"
            ]
          },
          "execution_count": 34,
          "metadata": {},
          "output_type": "execute_result"
        }
      ],
      "source": [
        "list1[0],list1[1]"
      ]
    },
    {
      "cell_type": "code",
      "execution_count": null,
      "id": "b1b7212f",
      "metadata": {
        "id": "b1b7212f",
        "outputId": "6210dc7a-4d94-49f7-8220-4293e89dcc1e"
      },
      "outputs": [
        {
          "data": {
            "text/plain": [
              "[(0, 'W'), (1, 'e'), (2, 'l'), (3, 'c'), (4, 'o'), (5, 'm'), (6, 'e')]"
            ]
          },
          "execution_count": 36,
          "metadata": {},
          "output_type": "execute_result"
        }
      ],
      "source": [
        "list(enumerate(str1))"
      ]
    },
    {
      "cell_type": "code",
      "execution_count": null,
      "id": "459c3daf",
      "metadata": {
        "id": "459c3daf",
        "outputId": "ac26cb21-e8ed-4371-8d31-7a0f5af33ecb"
      },
      "outputs": [
        {
          "data": {
            "text/plain": [
              "[(0, 'apple'), (1, 'banana'), (2, 'abc'), (3, 123), (4, 'spam'), (5, 'python')]"
            ]
          },
          "execution_count": 38,
          "metadata": {},
          "output_type": "execute_result"
        }
      ],
      "source": [
        "list(enumerate(list_new))"
      ]
    },
    {
      "cell_type": "code",
      "execution_count": null,
      "id": "78dc5b9a",
      "metadata": {
        "id": "78dc5b9a",
        "outputId": "40ce6e09-05d5-4fcb-ff4b-0d922fd7bdc6"
      },
      "outputs": [
        {
          "name": "stdout",
          "output_type": "stream",
          "text": [
            "4321\n"
          ]
        }
      ],
      "source": [
        "num = 1234\n",
        "str(num)\n",
        "revers_num = str(num)[::-1]\n",
        "print(revers_num)"
      ]
    },
    {
      "cell_type": "markdown",
      "id": "6b2fff6c",
      "metadata": {
        "id": "6b2fff6c"
      },
      "source": [
        "num1 = 3456\n",
        "reverse_num = 0\n",
        "while num1 != 0:\n",
        "    digit = num1 % 10\n",
        "    reverse_num = reverse_num * 10 +  digit\n",
        "    num1 //= 10\n",
        "\n",
        "print(\"reverse_num:\", str(reverse_num))\n"
      ]
    },
    {
      "cell_type": "markdown",
      "id": "6e49d5f6",
      "metadata": {
        "id": "6e49d5f6"
      },
      "source": [
        "## Python Program to Check if a Number is Positive, Negative or 0\n"
      ]
    },
    {
      "cell_type": "code",
      "execution_count": null,
      "id": "9f6779bc",
      "metadata": {
        "id": "9f6779bc",
        "outputId": "26ee09eb-3f03-4736-d99f-bfb72efae482"
      },
      "outputs": [
        {
          "name": "stdout",
          "output_type": "stream",
          "text": [
            "Enter a number: 10\n",
            "Positive number\n"
          ]
        }
      ],
      "source": [
        "num = float(input(\"Enter a number: \"))\n",
        "if num > 0:\n",
        "   print(\"Positive number\")\n",
        "elif num == 0:\n",
        "   print(\"Zero\")\n",
        "else:\n",
        "   print(\"Negative number\")"
      ]
    },
    {
      "cell_type": "code",
      "execution_count": null,
      "id": "db17b94a",
      "metadata": {
        "id": "db17b94a",
        "outputId": "dc94861e-6ffc-4c93-be80-789e9876eb85"
      },
      "outputs": [
        {
          "name": "stdout",
          "output_type": "stream",
          "text": [
            "Enter a number: -1\n",
            "Negative number\n"
          ]
        }
      ],
      "source": [
        "num = float(input(\"Enter a number: \"))\n",
        "if num >= 0:\n",
        "   if num == 0:\n",
        "       print(\"Zero\")\n",
        "   else:\n",
        "       print(\"Positive number\")\n",
        "else:\n",
        "   print(\"Negative number\")"
      ]
    },
    {
      "cell_type": "markdown",
      "id": "4befaf66",
      "metadata": {
        "id": "4befaf66"
      },
      "source": [
        "## Python Program to Check if a Number is Odd or Even"
      ]
    },
    {
      "cell_type": "code",
      "execution_count": null,
      "id": "420d58a8",
      "metadata": {
        "id": "420d58a8",
        "outputId": "c18b93ec-cc57-4d12-e36e-12b50631ea3a"
      },
      "outputs": [
        {
          "name": "stdout",
          "output_type": "stream",
          "text": [
            "Enter a number: 4\n",
            "4 is Even\n"
          ]
        }
      ],
      "source": [
        "# Python program to check if the input number is odd or even.\n",
        "# A number is even if division by 2 gives a remainder of 0.\n",
        "# If the remainder is 1, it is an odd number.\n",
        "\n",
        "num = int(input(\"Enter a number: \"))\n",
        "if (num % 2) == 0:\n",
        "   print(\"{0} is Even\".format(num))\n",
        "else:\n",
        "   print(\"{0} is Odd\".format(num))"
      ]
    },
    {
      "cell_type": "code",
      "execution_count": null,
      "id": "14ffc0b8",
      "metadata": {
        "id": "14ffc0b8",
        "outputId": "5e966112-115c-4c33-d07e-26c1e581bb3c"
      },
      "outputs": [
        {
          "name": "stdout",
          "output_type": "stream",
          "text": [
            "2000 is a leap year\n"
          ]
        }
      ],
      "source": [
        "# Python program to check if year is a leap year or not\n",
        "\n",
        "year = 2000\n",
        "\n",
        "# To get year (integer input) from the user\n",
        "# year = int(input(\"Enter a year: \"))\n",
        "\n",
        "# divided by 100 means century year (ending with 00)\n",
        "# century year divided by 400 is leap year\n",
        "if (year % 400 == 0) and (year % 100 == 0):\n",
        "    print(\"{0} is a leap year\".format(year))\n",
        "\n",
        "# not divided by 100 means not a century year\n",
        "# year divided by 4 is a leap year\n",
        "elif (year % 4 ==0) and (year % 100 != 0):\n",
        "    print(\"{0} is a leap year\".format(year))\n",
        "\n",
        "# if not divided by both 400 (century year) and 4 (not century year)\n",
        "# year is not leap year\n",
        "else:\n",
        "    print(\"{0} is not a leap year\".format(year))"
      ]
    },
    {
      "cell_type": "markdown",
      "id": "eef92d38",
      "metadata": {
        "id": "eef92d38"
      },
      "source": [
        "## Python Program to Find the Largest Among Three Numbers\n"
      ]
    },
    {
      "cell_type": "code",
      "execution_count": null,
      "id": "6fd56a6c",
      "metadata": {
        "id": "6fd56a6c",
        "outputId": "5a160738-bebc-47e2-bd76-c961c3f068f8"
      },
      "outputs": [
        {
          "name": "stdout",
          "output_type": "stream",
          "text": [
            "The largest number is 14\n"
          ]
        }
      ],
      "source": [
        "# Python program to find the largest number among the three input numbers\n",
        "\n",
        "# change the values of num1, num2 and num3\n",
        "# for a different result\n",
        "num1 = 10\n",
        "num2 = 14\n",
        "num3 = 12\n",
        "\n",
        "# uncomment following lines to take three numbers from user\n",
        "#num1 = float(input(\"Enter first number: \"))\n",
        "#num2 = float(input(\"Enter second number: \"))\n",
        "#num3 = float(input(\"Enter third number: \"))\n",
        "\n",
        "if (num1 >= num2) and (num1 >= num3):\n",
        "   largest = num1\n",
        "elif (num2 >= num1) and (num2 >= num3):\n",
        "   largest = num2\n",
        "else:\n",
        "   largest = num3\n",
        "\n",
        "print(\"The largest number is\", largest)"
      ]
    },
    {
      "cell_type": "markdown",
      "id": "9ba75495",
      "metadata": {
        "id": "9ba75495"
      },
      "source": [
        "## Python Program to Check Prime Number"
      ]
    },
    {
      "cell_type": "markdown",
      "id": "a634d19d",
      "metadata": {
        "id": "a634d19d"
      },
      "source": [
        "### Using a flag variable\n"
      ]
    },
    {
      "cell_type": "code",
      "execution_count": null,
      "id": "6184386f",
      "metadata": {
        "id": "6184386f",
        "outputId": "88f8b2ca-b67a-4641-d8c8-800d48461511"
      },
      "outputs": [
        {
          "name": "stdout",
          "output_type": "stream",
          "text": [
            "29 is a prime number\n"
          ]
        }
      ],
      "source": [
        "# Program to check if a number is prime or not\n",
        "\n",
        "num = 29\n",
        "\n",
        "# To take input from the user\n",
        "#num = int(input(\"Enter a number: \"))\n",
        "\n",
        "# define a flag variable\n",
        "flag = False\n",
        "\n",
        "# prime numbers are greater than 1\n",
        "if num > 1:\n",
        "    # check for factors\n",
        "    for i in range(2, num):\n",
        "        if (num % i) == 0:\n",
        "            # if factor is found, set flag to True\n",
        "            flag = True\n",
        "            # break out of loop\n",
        "            break\n",
        "\n",
        "# check if flag is True\n",
        "if flag:\n",
        "    print(num, \"is not a prime number\")\n",
        "else:\n",
        "    print(num, \"is a prime number\")"
      ]
    },
    {
      "cell_type": "markdown",
      "id": "79b2fb62",
      "metadata": {
        "id": "79b2fb62"
      },
      "source": [
        "### Using a for...else statement\n"
      ]
    },
    {
      "cell_type": "code",
      "execution_count": null,
      "id": "b79e0ee9",
      "metadata": {
        "id": "b79e0ee9",
        "outputId": "95a10f7d-f1ec-4d98-d2ac-cf380b5f07b4"
      },
      "outputs": [
        {
          "name": "stdout",
          "output_type": "stream",
          "text": [
            "407 is not a prime number\n",
            "11 times 37 is 407\n"
          ]
        }
      ],
      "source": [
        "# Program to check if a number is prime or not\n",
        "\n",
        "num = 407\n",
        "\n",
        "# To take input from the user\n",
        "#num = int(input(\"Enter a number: \"))\n",
        "\n",
        "# prime numbers are greater than 1\n",
        "if num > 1:\n",
        "   # check for factors\n",
        "   for i in range(2,num):\n",
        "       if (num % i) == 0:\n",
        "           print(num,\"is not a prime number\")\n",
        "           print(i,\"times\",num//i,\"is\",num)\n",
        "           break\n",
        "   else:\n",
        "       print(num,\"is a prime number\")\n",
        "       \n",
        "# if input number is less than\n",
        "# or equal to 1, it is not prime\n",
        "else:\n",
        "   print(num,\"is not a prime number\")"
      ]
    },
    {
      "cell_type": "markdown",
      "id": "6757887e",
      "metadata": {
        "id": "6757887e"
      },
      "source": [
        "## Python Program to Print all Prime Numbers in an Interval"
      ]
    },
    {
      "cell_type": "code",
      "execution_count": null,
      "id": "a0b14e71",
      "metadata": {
        "id": "a0b14e71",
        "outputId": "a0ba35cc-130f-42ef-fc13-790bc4b056ff"
      },
      "outputs": [
        {
          "name": "stdout",
          "output_type": "stream",
          "text": [
            "Prime numbers between 900 and 1000 are:\n",
            "907\n",
            "911\n",
            "919\n",
            "929\n",
            "937\n",
            "941\n",
            "947\n",
            "953\n",
            "967\n",
            "971\n",
            "977\n",
            "983\n",
            "991\n",
            "997\n"
          ]
        }
      ],
      "source": [
        "# Python program to display all the prime numbers within an interval\n",
        "\n",
        "lower = 900\n",
        "upper = 1000\n",
        "\n",
        "print(\"Prime numbers between\", lower, \"and\", upper, \"are:\")\n",
        "\n",
        "for num in range(lower, upper + 1):\n",
        "   # all prime numbers are greater than 1\n",
        "   if num > 1:\n",
        "       for i in range(2, num):\n",
        "           if (num % i) == 0:\n",
        "               break\n",
        "       else:\n",
        "           print(num)"
      ]
    },
    {
      "cell_type": "markdown",
      "id": "28034e98",
      "metadata": {
        "id": "28034e98"
      },
      "source": [
        "## Python Program to Find the Factorial of a Number"
      ]
    },
    {
      "cell_type": "markdown",
      "id": "1fa1ec3b",
      "metadata": {
        "id": "1fa1ec3b"
      },
      "source": [
        "###  Factorial of a Number using Loop"
      ]
    },
    {
      "cell_type": "code",
      "execution_count": null,
      "id": "7b6b78be",
      "metadata": {
        "id": "7b6b78be",
        "outputId": "f351a21e-fca1-4ae9-cc12-99fbd249418c"
      },
      "outputs": [
        {
          "name": "stdout",
          "output_type": "stream",
          "text": [
            "The factorial of 7 is 5040\n"
          ]
        }
      ],
      "source": [
        "# Python program to find the factorial of a number provided by the user.\n",
        "\n",
        "# change the value for a different result\n",
        "num = 7\n",
        "\n",
        "# To take input from the user\n",
        "#num = int(input(\"Enter a number: \"))\n",
        "\n",
        "factorial = 1\n",
        "\n",
        "# check if the number is negative, positive or zero\n",
        "if num < 0:\n",
        "   print(\"Sorry, factorial does not exist for negative numbers\")\n",
        "elif num == 0:\n",
        "   print(\"The factorial of 0 is 1\")\n",
        "else:\n",
        "   for i in range(1,num + 1):\n",
        "       factorial = factorial*i\n",
        "   print(\"The factorial of\",num,\"is\",factorial)"
      ]
    },
    {
      "cell_type": "markdown",
      "id": "354baa4e",
      "metadata": {
        "id": "354baa4e"
      },
      "source": [
        "### Factorial of a Number using Recursion"
      ]
    },
    {
      "cell_type": "code",
      "execution_count": null,
      "id": "8c6ded25",
      "metadata": {
        "id": "8c6ded25",
        "outputId": "47bb6a60-c499-44c1-d8f8-d1fbbe2f2350"
      },
      "outputs": [
        {
          "name": "stdout",
          "output_type": "stream",
          "text": [
            "The factorial of 7 is 5040\n"
          ]
        }
      ],
      "source": [
        "# Python program to find the factorial of a number provided by the user\n",
        "# using recursion\n",
        "\n",
        "def factorial(x):\n",
        "    \"\"\"This is a recursive function\n",
        "    to find the factorial of an integer\"\"\"\n",
        "\n",
        "    if x == 1:\n",
        "        return 1\n",
        "    else:\n",
        "        # recursive call to the function\n",
        "        return (x * factorial(x-1))\n",
        "\n",
        "\n",
        "# change the value for a different result\n",
        "num = 7\n",
        "\n",
        "# to take input from the user\n",
        "# num = int(input(\"Enter a number: \"))\n",
        "\n",
        "# call the factorial function\n",
        "result = factorial(num)\n",
        "print(\"The factorial of\", num, \"is\", result)"
      ]
    },
    {
      "cell_type": "markdown",
      "id": "97b2c760",
      "metadata": {
        "id": "97b2c760"
      },
      "source": [
        "## Python Program to Display the multiplication Table"
      ]
    },
    {
      "cell_type": "code",
      "execution_count": null,
      "id": "f6a67f28",
      "metadata": {
        "id": "f6a67f28",
        "outputId": "bf69bbc9-6ba6-49cb-fd1f-16b3ef9e3ebb"
      },
      "outputs": [
        {
          "name": "stdout",
          "output_type": "stream",
          "text": [
            "12 x 1 = 12\n",
            "12 x 2 = 24\n",
            "12 x 3 = 36\n",
            "12 x 4 = 48\n",
            "12 x 5 = 60\n",
            "12 x 6 = 72\n",
            "12 x 7 = 84\n",
            "12 x 8 = 96\n",
            "12 x 9 = 108\n",
            "12 x 10 = 120\n"
          ]
        }
      ],
      "source": [
        "# Multiplication table (from 1 to 10) in Python\n",
        "\n",
        "num = 12\n",
        "\n",
        "# To take input from the user\n",
        "# num = int(input(\"Display multiplication table of? \"))\n",
        "\n",
        "# Iterate 10 times from i = 1 to 10\n",
        "for i in range(1, 11):\n",
        "   print(num, 'x', i, '=', num*i)"
      ]
    },
    {
      "cell_type": "markdown",
      "id": "9647aaa6",
      "metadata": {
        "id": "9647aaa6"
      },
      "source": [
        "## Python range()"
      ]
    },
    {
      "cell_type": "code",
      "execution_count": null,
      "id": "e66b6213",
      "metadata": {
        "id": "e66b6213",
        "outputId": "f1a8329c-f69d-4303-b9e1-74078c3dc79e"
      },
      "outputs": [
        {
          "name": "stdout",
          "output_type": "stream",
          "text": [
            "0\n",
            "1\n",
            "2\n",
            "3\n"
          ]
        }
      ],
      "source": [
        "# create a sequence of numbers from 0 to 3\n",
        "numbers = range(4)\n",
        "\n",
        "# iterating through the sequence of numbers\n",
        "for i in numbers:\n",
        "    print(i)"
      ]
    },
    {
      "cell_type": "code",
      "execution_count": null,
      "id": "d09d0495",
      "metadata": {
        "id": "d09d0495"
      },
      "outputs": [],
      "source": [
        "#range(start, stop, step)"
      ]
    },
    {
      "cell_type": "markdown",
      "id": "2e8564b7",
      "metadata": {
        "id": "2e8564b7"
      },
      "source": [
        "### range() with Stop Argument"
      ]
    },
    {
      "cell_type": "code",
      "execution_count": null,
      "id": "38972044",
      "metadata": {
        "id": "38972044",
        "outputId": "8edd28c4-67f4-4e49-b7a9-8366d95bb6b4"
      },
      "outputs": [
        {
          "name": "stdout",
          "output_type": "stream",
          "text": [
            "[0, 1, 2, 3]\n",
            "[]\n"
          ]
        }
      ],
      "source": [
        "# numbers from 0 to 3 (4 is not included)\n",
        "numbers = range(4)\n",
        "print(list(numbers))    # [0, 1, 2, 3]\n",
        "\n",
        "# if 0 or negative number is passed, we get an empty sequence\n",
        "numbers = range(-4)\n",
        "print(list(numbers))    # []"
      ]
    },
    {
      "cell_type": "code",
      "execution_count": null,
      "id": "edd89553",
      "metadata": {
        "id": "edd89553",
        "outputId": "fee1d7d5-1e5c-4609-a4a3-ee5a77ec2bd6"
      },
      "outputs": [
        {
          "name": "stdout",
          "output_type": "stream",
          "text": [
            "[2, 3, 4]\n",
            "[-2, -1, 0, 1, 2, 3]\n",
            "[]\n"
          ]
        }
      ],
      "source": [
        "# numbers from 2 to 4 (5 is not included)\n",
        "numbers = range(2, 5)\n",
        "print(list(numbers))    # [2, 3, 4]\n",
        "\n",
        "# numbers from -2 to 3 (4 is not included)\n",
        "numbers = range(-2, 4)    \n",
        "print(list(numbers))    # [-2, -1, 0, 1, 2]\n",
        "\n",
        "# returns an empty sequence of numbers\n",
        "numbers = range(4, 2) \n",
        "print(list(numbers))    # []"
      ]
    },
    {
      "cell_type": "markdown",
      "id": "88633c0a",
      "metadata": {
        "id": "88633c0a"
      },
      "source": [
        "### range() with Start, Stop and Step Arguments"
      ]
    },
    {
      "cell_type": "code",
      "execution_count": null,
      "id": "07a0e4bb",
      "metadata": {
        "id": "07a0e4bb",
        "outputId": "94a2f3f1-2be1-41eb-e8f7-8e5cd0e5fef2"
      },
      "outputs": [
        {
          "name": "stdout",
          "output_type": "stream",
          "text": [
            "[2, 5, 8]\n",
            "[4, 3, 2, 1, 0]\n",
            "[0, 1, 2, 3, 4]\n"
          ]
        }
      ],
      "source": [
        "# numbers from 2 to 10 with increment 3 between numbers\n",
        "numbers = range(2, 10, 3)\n",
        "print(list(numbers))    # [2, 5, 8]\n",
        "\n",
        "# numbers from 4 to -1 with increment of -1\n",
        "numbers = range(4, -1, -1)    \n",
        "print(list(numbers))    # [4, 3, 2, 1, 0]\n",
        "\n",
        "# numbers from 1 to 4 with increment of 1\n",
        "# range(0, 5, 1) is equivalent to range(5)\n",
        "numbers = range(0, 5, 1) \n",
        "print(list(numbers))    # [0, 1, 2, 3, 4]"
      ]
    },
    {
      "cell_type": "markdown",
      "id": "dadb15e1",
      "metadata": {
        "id": "dadb15e1"
      },
      "source": [
        "### range() in for Loop"
      ]
    },
    {
      "cell_type": "code",
      "execution_count": null,
      "id": "a7c1df11",
      "metadata": {
        "id": "a7c1df11",
        "outputId": "8a60e837-aca7-45fa-e0af-d79b16c2be2c"
      },
      "outputs": [
        {
          "name": "stdout",
          "output_type": "stream",
          "text": [
            "0 Hello\n",
            "1 Hello\n",
            "2 Hello\n",
            "3 Hello\n",
            "4 Hello\n"
          ]
        }
      ],
      "source": [
        "# iterate the loop 5 times\n",
        "for i in range(5):\n",
        "    print(i, 'Hello')"
      ]
    },
    {
      "cell_type": "markdown",
      "id": "9e7b9555",
      "metadata": {
        "id": "9e7b9555"
      },
      "source": [
        "## Python repr()"
      ]
    },
    {
      "cell_type": "code",
      "execution_count": null,
      "id": "83b3700b",
      "metadata": {
        "id": "83b3700b",
        "outputId": "fb669492-b435-4fd4-c7b0-02abf189cfe9"
      },
      "outputs": [
        {
          "name": "stdout",
          "output_type": "stream",
          "text": [
            "[1, 2, 3, 4, 5]\n"
          ]
        }
      ],
      "source": [
        "# The repr() function returns a printable representation of the given object.\n",
        "numbers = [1, 2, 3, 4, 5]\n",
        "\n",
        "# create a printable representation of the list\n",
        "printable_numbers = repr(numbers)\n",
        "print(printable_numbers)\n"
      ]
    },
    {
      "cell_type": "markdown",
      "id": "979f7f59",
      "metadata": {
        "id": "979f7f59"
      },
      "source": [
        "###  Implement __repr__() for custom objects"
      ]
    },
    {
      "cell_type": "code",
      "execution_count": null,
      "id": "b2f4558d",
      "metadata": {
        "id": "b2f4558d",
        "outputId": "3f0a49fc-7471-417d-8c9d-a22255774ee7"
      },
      "outputs": [
        {
          "name": "stdout",
          "output_type": "stream",
          "text": [
            "'Hello Adam'\n"
          ]
        }
      ],
      "source": [
        "# Internally, repr()function calls __repr__() of the given object.\n",
        "\n",
        "# You can easily implement/override __repr__() so that repr() works differently.\n",
        "class Person:\n",
        "    name = 'Adam'\n",
        "\n",
        "    def __repr__(self):\n",
        "        return repr('Hello ' + self.name )\n",
        "\n",
        "print(repr(Person()))"
      ]
    },
    {
      "cell_type": "markdown",
      "id": "79519004",
      "metadata": {
        "id": "79519004"
      },
      "source": [
        "### Python reversed()"
      ]
    },
    {
      "cell_type": "code",
      "execution_count": null,
      "id": "4176dde1",
      "metadata": {
        "id": "4176dde1",
        "outputId": "fe4d835e-7355-417e-ca98-e81a4fd21ce0"
      },
      "outputs": [
        {
          "name": "stdout",
          "output_type": "stream",
          "text": [
            "['n', 'o', 'h', 't', 'y', 'P']\n"
          ]
        }
      ],
      "source": [
        "# The reversed() method computes the reverse of a given sequence object and returns it in the form of a list.\n",
        "seq_string = 'Python'\n",
        "\n",
        "# reverse of a string\n",
        "print(list(reversed(seq_string)))"
      ]
    },
    {
      "cell_type": "markdown",
      "id": "19665a7a",
      "metadata": {
        "id": "19665a7a"
      },
      "source": [
        "### Python reversed() with Built-In Sequence Objects"
      ]
    },
    {
      "cell_type": "code",
      "execution_count": null,
      "id": "3b964478",
      "metadata": {
        "id": "3b964478",
        "outputId": "1d304db5-9e1d-4ea1-fc88-d3b83a40f1d4"
      },
      "outputs": [
        {
          "name": "stdout",
          "output_type": "stream",
          "text": [
            "['n', 'o', 'h', 't', 'y', 'P']\n",
            "[8, 7, 6, 5]\n",
            "[5, 3, 4, 2, 1]\n"
          ]
        }
      ],
      "source": [
        "seq_tuple = ('P', 'y', 't', 'h', 'o', 'n')\n",
        "\n",
        "# reverse of a tuple object\n",
        "print(list(reversed(seq_tuple)))\n",
        "\n",
        "seq_range = range(5, 9)\n",
        "\n",
        "# reverse of a range\n",
        "print(list(reversed(seq_range)))\n",
        "\n",
        "seq_list = [1, 2, 4, 3, 5]\n",
        "\n",
        "# reverse of a list\n",
        "print(list(reversed(seq_list)))"
      ]
    },
    {
      "cell_type": "markdown",
      "id": "0266f359",
      "metadata": {
        "id": "0266f359"
      },
      "source": [
        "### reversed() with Custom Objects"
      ]
    },
    {
      "cell_type": "code",
      "execution_count": null,
      "id": "64cf2732",
      "metadata": {
        "id": "64cf2732",
        "outputId": "f3e5336e-e1e3-4224-d21d-2236e5d5bab3"
      },
      "outputs": [
        {
          "name": "stdout",
          "output_type": "stream",
          "text": [
            "['u', 'o', 'i', 'e', 'a']\n"
          ]
        }
      ],
      "source": [
        "class Vowels:\n",
        "    vowels = ['a', 'e', 'i', 'o', 'u']\n",
        "\n",
        "    def __reversed__(self):\n",
        "        return reversed(self.vowels)\n",
        "\n",
        "v = Vowels()\n",
        "\n",
        "# reverse a custom object v\n",
        "print(list(reversed(v)))"
      ]
    },
    {
      "cell_type": "markdown",
      "id": "86d97516",
      "metadata": {
        "id": "86d97516"
      },
      "source": [
        "## Python round()"
      ]
    },
    {
      "cell_type": "code",
      "execution_count": null,
      "id": "9ddc304e",
      "metadata": {
        "id": "9ddc304e",
        "outputId": "02f703c7-d222-4e5b-87e1-9a856d01d893"
      },
      "outputs": [
        {
          "name": "stdout",
          "output_type": "stream",
          "text": [
            "13\n"
          ]
        }
      ],
      "source": [
        "# The round() function returns a floating-point number rounded to the specified number of decimals.\n",
        "number = 13.46\n",
        "\n",
        "# round 13.46 to the nearest integer\n",
        "rounded_number = round(number)\n",
        "print(rounded_number)"
      ]
    },
    {
      "cell_type": "code",
      "execution_count": null,
      "id": "3dbbb0e1",
      "metadata": {
        "id": "3dbbb0e1",
        "outputId": "5cd68ebc-7384-48ce-d96c-6190d3e2a2b1"
      },
      "outputs": [
        {
          "name": "stdout",
          "output_type": "stream",
          "text": [
            "10\n",
            "11\n",
            "6\n"
          ]
        }
      ],
      "source": [
        "# How round() works in Python?\n",
        "# for integers\n",
        "print(round(10))\n",
        "\n",
        "# for floating point\n",
        "print(round(10.7))\n",
        "\n",
        "# even choice\n",
        "print(round(5.5))"
      ]
    },
    {
      "cell_type": "code",
      "execution_count": null,
      "id": "824b5b62",
      "metadata": {
        "id": "824b5b62",
        "outputId": "7006202b-b480-4730-b920-da1532784272"
      },
      "outputs": [
        {
          "name": "stdout",
          "output_type": "stream",
          "text": [
            "2.67\n",
            "2.67\n"
          ]
        }
      ],
      "source": [
        "# Round a number to the given number of decimal places\n",
        "print(round(2.665, 2))\n",
        "print(round(2.675, 2))"
      ]
    },
    {
      "cell_type": "code",
      "execution_count": null,
      "id": "5205732a",
      "metadata": {
        "id": "5205732a",
        "outputId": "96d4d0f6-4ee8-4c86-f7e7-a5c395e248fb"
      },
      "outputs": [
        {
          "name": "stdout",
          "output_type": "stream",
          "text": [
            "2.67\n",
            "2.68\n"
          ]
        }
      ],
      "source": [
        "from decimal import Decimal\n",
        "\n",
        "# normal float\n",
        "num = 2.675\n",
        "print(round(num, 2))\n",
        "\n",
        "# using decimal.Decimal (passed float as string for precision)\n",
        "num = Decimal('2.675')\n",
        "print(round(num, 2))"
      ]
    },
    {
      "cell_type": "markdown",
      "id": "7f80661a",
      "metadata": {
        "id": "7f80661a"
      },
      "source": [
        "## Python set()"
      ]
    },
    {
      "cell_type": "code",
      "execution_count": null,
      "id": "cd2c69e6",
      "metadata": {
        "id": "cd2c69e6",
        "outputId": "bc954387-3fcf-4b83-fcf9-a744586fa44f"
      },
      "outputs": [
        {
          "name": "stdout",
          "output_type": "stream",
          "text": [
            "{1, 2, 3, 4, 5}\n"
          ]
        }
      ],
      "source": [
        "# The set() function creates a set in Python.\n",
        "list_numbers = [1, 2, 3, 4, 2, 5]\n",
        "\n",
        "# create set from list\n",
        "numbers_set = set(list_numbers)\n",
        "print(numbers_set)"
      ]
    },
    {
      "cell_type": "markdown",
      "id": "1184ae43",
      "metadata": {
        "id": "1184ae43"
      },
      "source": [
        "### Create sets from string, tuple, list, and range"
      ]
    },
    {
      "cell_type": "code",
      "execution_count": null,
      "id": "787ddbc6",
      "metadata": {
        "id": "787ddbc6",
        "outputId": "68a48ef1-2943-44c5-9df2-a08159233196"
      },
      "outputs": [
        {
          "name": "stdout",
          "output_type": "stream",
          "text": [
            "set()\n",
            "{'o', 'n', 't', 'y', 'h', 'P'}\n",
            "{'o', 'i', 'u', 'a', 'e'}\n",
            "{'o', 'i', 'u', 'a', 'e'}\n",
            "{0, 1, 2, 3, 4}\n"
          ]
        }
      ],
      "source": [
        "# empty set\n",
        "print(set())\n",
        "\n",
        "# from string\n",
        "print(set('Python'))\n",
        "\n",
        "# from tuple\n",
        "print(set(('a', 'e', 'i', 'o', 'u')))\n",
        "\n",
        "# from list\n",
        "print(set(['a', 'e', 'i', 'o', 'u']))\n",
        "\n",
        "# from range\n",
        "print(set(range(5)))"
      ]
    },
    {
      "cell_type": "markdown",
      "id": "5a33debe",
      "metadata": {
        "id": "5a33debe"
      },
      "source": [
        "### Create sets from another set, dictionary and frozen set"
      ]
    },
    {
      "cell_type": "code",
      "execution_count": null,
      "id": "898b3d75",
      "metadata": {
        "id": "898b3d75",
        "outputId": "9e1ca5c0-fe60-4482-946c-46b095e35d5f"
      },
      "outputs": [
        {
          "name": "stdout",
          "output_type": "stream",
          "text": [
            "{'o', 'e', 'i', 'a', 'u'}\n",
            "{'o', 'i', 'a', 'u', 'e'}\n",
            "{'o', 'e', 'i', 'a', 'u'}\n"
          ]
        }
      ],
      "source": [
        "# from set\n",
        "print(set({'a', 'e', 'i', 'o', 'u'}))\n",
        "\n",
        "# from dictionary\n",
        "print(set({'a':1, 'e': 2, 'i':3, 'o':4, 'u':5}))\n",
        "\n",
        "# from frozen set\n",
        "frozen_set = frozenset(('a', 'e', 'i', 'o', 'u'))\n",
        "print(set(frozen_set))"
      ]
    },
    {
      "cell_type": "markdown",
      "id": "c1488b14",
      "metadata": {
        "id": "c1488b14"
      },
      "source": [
        "### Create set() for a custom iterable object"
      ]
    },
    {
      "cell_type": "code",
      "execution_count": null,
      "id": "a634e021",
      "metadata": {
        "id": "a634e021",
        "outputId": "9dfefee7-6d91-4cbb-882c-467e5e87e7c7"
      },
      "outputs": [
        {
          "name": "stdout",
          "output_type": "stream",
          "text": [
            "{1, 2, 3, 4, 5}\n"
          ]
        }
      ],
      "source": [
        "class PrintNumber:\n",
        "    def __init__(self, max):\n",
        "        self.max = max\n",
        "\n",
        "    def __iter__(self):\n",
        "        self.num = 0\n",
        "        return self\n",
        "\n",
        "    def __next__(self):\n",
        "        if(self.num >= self.max):\n",
        "            raise StopIteration\n",
        "        self.num += 1\n",
        "        return self.num\n",
        "\n",
        "# print_num is an iterable\n",
        "print_num = PrintNumber(5)\n",
        "\n",
        "# creating a set\n",
        "print(set(print_num))"
      ]
    },
    {
      "cell_type": "markdown",
      "id": "0d1fe301",
      "metadata": {
        "id": "0d1fe301"
      },
      "source": [
        "## Python setattr()"
      ]
    },
    {
      "cell_type": "code",
      "execution_count": null,
      "id": "58be777d",
      "metadata": {
        "id": "58be777d",
        "outputId": "9786ef78-b56b-4b1f-d33c-40c5c0ac96cd"
      },
      "outputs": [
        {
          "name": "stdout",
          "output_type": "stream",
          "text": [
            "Adam\n",
            "78\n"
          ]
        }
      ],
      "source": [
        "# The setattr() function sets the value of the attribute of an object.\n",
        "class Student:\n",
        "  marks = 88\n",
        "  name = 'Sheeran'\n",
        "\n",
        "person = Student()\n",
        "\n",
        "# set value of name to Adam\n",
        "setattr(person, 'name', 'Adam')\n",
        "print(person.name)\n",
        "\n",
        "# set value of marks to 78\n",
        "setattr(person, 'marks', 78)\n",
        "print(person.marks)"
      ]
    },
    {
      "cell_type": "code",
      "execution_count": null,
      "id": "88511fe9",
      "metadata": {
        "id": "88511fe9",
        "outputId": "36c8b1e5-9a88-4403-8365-825d5fa91ade"
      },
      "outputs": [
        {
          "name": "stdout",
          "output_type": "stream",
          "text": [
            "Before modification: Adam\n",
            "After modification: John\n"
          ]
        }
      ],
      "source": [
        "# How setattr() works in Python?\n",
        "class Person:\n",
        "    name = 'Adam'\n",
        "    \n",
        "p = Person()\n",
        "print('Before modification:', p.name)\n",
        "\n",
        "# setting name to 'John'\n",
        "setattr(p, 'name', 'John')\n",
        "\n",
        "print('After modification:', p.name)"
      ]
    },
    {
      "cell_type": "code",
      "execution_count": null,
      "id": "f8519169",
      "metadata": {
        "id": "f8519169",
        "outputId": "50f2935a-73a8-4a0e-8aa6-24df05ef4675"
      },
      "outputs": [
        {
          "name": "stdout",
          "output_type": "stream",
          "text": [
            "Name is: John\n",
            "Age is: 23\n"
          ]
        }
      ],
      "source": [
        "# When the attribute is not found in setattr()\n",
        "class Person:\n",
        "    name = 'Adam'\n",
        "    \n",
        "p = Person()\n",
        "\n",
        "# setting attribute name to John\n",
        "setattr(p, 'name', 'John')\n",
        "print('Name is:', p.name)\n",
        "\n",
        "# setting an attribute not present in Person\n",
        "setattr(p, 'age', 23)\n",
        "print('Age is:', p.age)"
      ]
    },
    {
      "cell_type": "markdown",
      "id": "f4783515",
      "metadata": {
        "id": "f4783515"
      },
      "source": [
        "## Python slice()"
      ]
    },
    {
      "cell_type": "code",
      "execution_count": null,
      "id": "0079649a",
      "metadata": {
        "id": "0079649a",
        "outputId": "8b477bc1-7303-4d16-d798-cda21bf605cc"
      },
      "outputs": [
        {
          "name": "stdout",
          "output_type": "stream",
          "text": [
            "Python\n"
          ]
        }
      ],
      "source": [
        "# The slice() function returns a slice object that is used to slice any sequence (string, tuple, list, range, or bytes).\n",
        "text = 'Python Programing'\n",
        "\n",
        "# get slice object to slice Python\n",
        "sliced_text = slice(6)\n",
        "print(text[sliced_text])"
      ]
    },
    {
      "cell_type": "code",
      "execution_count": null,
      "id": "4719c6ab",
      "metadata": {
        "id": "4719c6ab",
        "outputId": "c2a888a5-c6bc-4280-d877-21ee3242d754"
      },
      "outputs": [
        {
          "name": "stdout",
          "output_type": "stream",
          "text": [
            "slice(None, 3, None)\n",
            "slice(1, 5, 2)\n"
          ]
        }
      ],
      "source": [
        "# Create a slice object for slicing\n",
        "# contains indices (0, 1, 2)\n",
        "result1 = slice(3)\n",
        "print(result1)\n",
        "\n",
        "# contains indices (1, 3)\n",
        "result2 = slice(1, 5, 2)\n",
        "print(slice(1, 5, 2))"
      ]
    },
    {
      "cell_type": "code",
      "execution_count": null,
      "id": "63af7020",
      "metadata": {
        "id": "63af7020",
        "outputId": "2757d9a7-794d-417a-e9dd-1df44c6002cd"
      },
      "outputs": [
        {
          "ename": "IndentationError",
          "evalue": "unexpected indent (Temp/ipykernel_2332/775954781.py, line 2)",
          "output_type": "error",
          "traceback": [
            "\u001b[1;36m  File \u001b[1;32m\"C:\\Users\\vinit\\AppData\\Local\\Temp/ipykernel_2332/775954781.py\"\u001b[1;36m, line \u001b[1;32m2\u001b[0m\n\u001b[1;33m    Program to get a substring from the given string\u001b[0m\n\u001b[1;37m    ^\u001b[0m\n\u001b[1;31mIndentationError\u001b[0m\u001b[1;31m:\u001b[0m unexpected indent\n"
          ]
        }
      ],
      "source": [
        "# Get substring using slice object\n",
        " Program to get a substring from the given string \n",
        "\n",
        "py_string = 'Python'\n",
        "\n",
        "# stop = 3\n",
        "# contains 0, 1 and 2 indices\n",
        "slice_object = slice(3) \n",
        "print(py_string[slice_object])  # Pyt\n",
        "\n",
        "# start = 1, stop = 6, step = 2\n",
        "# contains 1, 3 and 5 indices\n",
        "slice_object = slice(1, 6, 2)\n",
        "print(py_string[slice_object])   # yhn"
      ]
    },
    {
      "cell_type": "code",
      "execution_count": null,
      "id": "ff39d452",
      "metadata": {
        "id": "ff39d452",
        "outputId": "4c4990dc-7376-45b0-bb31-96cdddfc9919"
      },
      "outputs": [
        {
          "name": "stdout",
          "output_type": "stream",
          "text": [
            "noh\n"
          ]
        }
      ],
      "source": [
        "#Get substring using negative index\n",
        "py_string = 'Python'\n",
        "\n",
        "# start = -1, stop = -4, step = -1\n",
        "# contains indices -1, -2 and -3\n",
        "slice_object = slice(-1, -4, -1)\n",
        "\n",
        "print(py_string[slice_object])   # noh"
      ]
    },
    {
      "cell_type": "code",
      "execution_count": null,
      "id": "bd2310fb",
      "metadata": {
        "id": "bd2310fb",
        "outputId": "c44cb275-e90d-4441-f989-75e107572538"
      },
      "outputs": [
        {
          "name": "stdout",
          "output_type": "stream",
          "text": [
            "['P', 'y', 't']\n",
            "('y', 'h')\n"
          ]
        }
      ],
      "source": [
        "# Get sublist and sub-tuple\n",
        "py_list = ['P', 'y', 't', 'h', 'o', 'n']\n",
        "py_tuple = ('P', 'y', 't', 'h', 'o', 'n')\n",
        "\n",
        "# contains indices 0, 1 and 2\n",
        "slice_object = slice(3)\n",
        "print(py_list[slice_object]) # ['P', 'y', 't']\n",
        "\n",
        "# contains indices 1 and 3\n",
        "slice_object = slice(1, 5, 2)\n",
        "print(py_tuple[slice_object]) # ('y', 'h')    "
      ]
    },
    {
      "cell_type": "code",
      "execution_count": null,
      "id": "2c8cd32a",
      "metadata": {
        "id": "2c8cd32a",
        "outputId": "3f685cdd-00d8-49b9-a92f-9f5086adf5f6"
      },
      "outputs": [
        {
          "name": "stdout",
          "output_type": "stream",
          "text": [
            "['n', 'o', 'h']\n",
            "('n', 'h')\n"
          ]
        }
      ],
      "source": [
        "# Get sublist and sub-tuple using negative index\n",
        "py_list = ['P', 'y', 't', 'h', 'o', 'n']\n",
        "py_tuple = ('P', 'y', 't', 'h', 'o', 'n')\n",
        "\n",
        "# contains indices -1, -2 and -3\n",
        "slice_object = slice(-1, -4, -1) \n",
        "print(py_list[slice_object])  # ['n', 'o', 'h']\n",
        "\n",
        "# contains indices -1 and -3\n",
        "slice_object = slice(-1, -5, -2)\n",
        "print(py_tuple[slice_object]) # ('n', 'h')"
      ]
    },
    {
      "cell_type": "code",
      "execution_count": null,
      "id": "5898cd49",
      "metadata": {
        "id": "5898cd49",
        "outputId": "593ffdd6-b5bd-402e-f9b4-41e87ecf770f"
      },
      "outputs": [
        {
          "name": "stdout",
          "output_type": "stream",
          "text": [
            "Pyt\n",
            "yh\n"
          ]
        }
      ],
      "source": [
        "# Using Indexing Syntax for Slicing\n",
        "py_string = 'Python'\n",
        "\n",
        "# contains indices 0, 1 and 2\n",
        "print(py_string[0:3])  # Pyt\n",
        "\n",
        "# contains indices 1 and 3\n",
        "print(py_string[1:5:2]) # yh"
      ]
    },
    {
      "cell_type": "markdown",
      "id": "7a1eaf46",
      "metadata": {
        "id": "7a1eaf46"
      },
      "source": [
        "## Python sorted()"
      ]
    },
    {
      "cell_type": "code",
      "execution_count": null,
      "id": "d2ead981",
      "metadata": {
        "id": "d2ead981",
        "outputId": "74af1edc-5a62-4874-c217-72731ae9e0e6"
      },
      "outputs": [
        {
          "name": "stdout",
          "output_type": "stream",
          "text": [
            "[2, 4, 8, 12]\n"
          ]
        }
      ],
      "source": [
        "# The sorted() function sorts the elements of a given iterable in a specific order (ascending or descending) and returns it as a list.\n",
        "numbers = [4, 2, 12, 8]\n",
        "\n",
        "sorted_numbers = sorted(numbers)\n",
        "print(sorted_numbers)"
      ]
    },
    {
      "cell_type": "markdown",
      "id": "5464d67b",
      "metadata": {
        "id": "5464d67b"
      },
      "source": [
        "### Sort string, list, and tuple"
      ]
    },
    {
      "cell_type": "code",
      "execution_count": null,
      "id": "228ff619",
      "metadata": {
        "id": "228ff619",
        "outputId": "09d4df8c-3c99-43d1-83a0-044e271222c9"
      },
      "outputs": [
        {
          "name": "stdout",
          "output_type": "stream",
          "text": [
            "['a', 'e', 'i', 'o', 'u']\n",
            "['P', 'h', 'n', 'o', 't', 'y']\n",
            "['a', 'e', 'i', 'o', 'u']\n"
          ]
        }
      ],
      "source": [
        "# vowels list\n",
        "py_list = ['e', 'a', 'u', 'o', 'i']\n",
        "print(sorted(py_list))\n",
        "\n",
        "# string\n",
        "py_string = 'Python'\n",
        "print(sorted(py_string))\n",
        "\n",
        "# vowels tuple\n",
        "py_tuple = ('e', 'a', 'u', 'o', 'i')\n",
        "print(sorted(py_tuple))"
      ]
    },
    {
      "cell_type": "markdown",
      "id": "cf392549",
      "metadata": {
        "id": "cf392549"
      },
      "source": [
        "### Sort in descending order"
      ]
    },
    {
      "cell_type": "code",
      "execution_count": null,
      "id": "bb4be6b3",
      "metadata": {
        "id": "bb4be6b3",
        "outputId": "3aea6f1e-0ed9-461c-9cec-30245e2a408f"
      },
      "outputs": [
        {
          "name": "stdout",
          "output_type": "stream",
          "text": [
            "['u', 'o', 'i', 'e', 'a']\n",
            "['u', 'o', 'i', 'e', 'a']\n",
            "['u', 'o', 'i', 'e', 'a']\n"
          ]
        }
      ],
      "source": [
        "# set\n",
        "py_set = {'e', 'a', 'u', 'o', 'i'}\n",
        "print(sorted(py_set, reverse=True))\n",
        "\n",
        "# dictionary\n",
        "py_dict = {'e': 1, 'a': 2, 'u': 3, 'o': 4, 'i': 5}\n",
        "print(sorted(py_dict, reverse=True))\n",
        "\n",
        "# frozen set\n",
        "frozen_set = frozenset(('e', 'a', 'u', 'o', 'i'))\n",
        "print(sorted(frozen_set, reverse=True))"
      ]
    },
    {
      "cell_type": "markdown",
      "id": "06a4214f",
      "metadata": {
        "id": "06a4214f"
      },
      "source": [
        "### Sort the list using sorted() having a key function"
      ]
    },
    {
      "cell_type": "code",
      "execution_count": null,
      "id": "5ff467b3",
      "metadata": {
        "id": "5ff467b3",
        "outputId": "89915e47-c9e3-4bf7-a6c7-199f82c6d050"
      },
      "outputs": [
        {
          "name": "stdout",
          "output_type": "stream",
          "text": [
            "Sorted list: [(4, 1), (2, 2), (1, 3), (3, 4)]\n"
          ]
        }
      ],
      "source": [
        "# take the second element for sort\n",
        "def take_second(elem):\n",
        "    return elem[1]\n",
        "\n",
        "\n",
        "# random list\n",
        "random = [(2, 2), (3, 4), (4, 1), (1, 3)]\n",
        "\n",
        "# sort list with key\n",
        "sorted_list = sorted(random, key=take_second)\n",
        "\n",
        "# print list\n",
        "print('Sorted list:', sorted_list)"
      ]
    },
    {
      "cell_type": "markdown",
      "id": "145d0f4b",
      "metadata": {
        "id": "145d0f4b"
      },
      "source": [
        "### Sorting with multiple keys"
      ]
    },
    {
      "cell_type": "code",
      "execution_count": null,
      "id": "91c80786",
      "metadata": {
        "id": "91c80786"
      },
      "outputs": [],
      "source": [
        "# Nested list of student's info in a Science Olympiad\n",
        "# List elements: (Student's Name, Marks out of 100, Age)\n",
        "\n",
        "participant_list = [\n",
        "    ('Alison', 50, 18),\n",
        "    ('Terence', 75, 12),\n",
        "    ('David', 75, 20),\n",
        "    ('Jimmy', 90, 22),\n",
        "    ('John', 45, 12)\n",
        "]"
      ]
    },
    {
      "cell_type": "code",
      "execution_count": null,
      "id": "4a8e8065",
      "metadata": {
        "id": "4a8e8065",
        "outputId": "67914562-1715-4981-8674-7b3bb1b30cfd"
      },
      "outputs": [
        {
          "name": "stdout",
          "output_type": "stream",
          "text": [
            "[('Jimmy', 90, 22), ('Terence', 75, 12), ('David', 75, 20), ('Alison', 50, 18), ('John', 45, 12)]\n"
          ]
        }
      ],
      "source": [
        "# Nested list of student's info in a Science Olympiad\n",
        "# List elements: (Student's Name, Marks out of 100 , Age)\n",
        "participant_list = [\n",
        "    ('Alison', 50, 18),\n",
        "    ('Terence', 75, 12),\n",
        "    ('David', 75, 20),\n",
        "    ('Jimmy', 90, 22),\n",
        "    ('John', 45, 12)\n",
        "]\n",
        "\n",
        "\n",
        "def sorter(item):\n",
        "    # Since highest marks first, least error = most marks\n",
        "    error = 100 - item[1]\n",
        "    age = item[2]\n",
        "    return (error, age)\n",
        "\n",
        "\n",
        "sorted_list = sorted(participant_list, key=sorter)\n",
        "print(sorted_list)"
      ]
    },
    {
      "cell_type": "code",
      "execution_count": null,
      "id": "e3d68156",
      "metadata": {
        "id": "e3d68156",
        "outputId": "1fedef0e-bf33-4a93-fa2a-17044f0532c6"
      },
      "outputs": [
        {
          "name": "stdout",
          "output_type": "stream",
          "text": [
            "[('Jimmy', 90, 22), ('Terence', 75, 12), ('David', 75, 20), ('Alison', 50, 18), ('John', 45, 12)]\n"
          ]
        }
      ],
      "source": [
        "# Nested list of student's info in a Science Olympiad\n",
        "# List elements: (Student's Name, Marks out of 100 , Age)\n",
        "participant_list = [\n",
        "    ('Alison', 50, 18),\n",
        "    ('Terence', 75, 12),\n",
        "    ('David', 75, 20),\n",
        "    ('Jimmy', 90, 22),\n",
        "    ('John', 45, 12)\n",
        "]\n",
        "\n",
        "sorted_list = sorted(participant_list, key=lambda item: (100-item[1], item[2]))\n",
        "print(sorted_list)"
      ]
    },
    {
      "cell_type": "markdown",
      "id": "48a9cbc8",
      "metadata": {
        "id": "48a9cbc8"
      },
      "source": [
        "## Python str()"
      ]
    },
    {
      "cell_type": "code",
      "execution_count": null,
      "id": "babe7d42",
      "metadata": {
        "id": "babe7d42",
        "outputId": "2508adba-7035-4938-9c4f-7bc6efe360c9"
      },
      "outputs": [
        {
          "name": "stdout",
          "output_type": "stream",
          "text": [
            "Adam\n"
          ]
        }
      ],
      "source": [
        "# The str() method returns the string representation of a given object.\n",
        "# string representation of Adam\n",
        "print(str('Adam'))"
      ]
    },
    {
      "cell_type": "code",
      "execution_count": null,
      "id": "73054701",
      "metadata": {
        "id": "73054701",
        "outputId": "662c93b5-00fc-48e2-c31b-e882a84c9120"
      },
      "outputs": [
        {
          "name": "stdout",
          "output_type": "stream",
          "text": [
            "Luke\n",
            "40\n",
            "7ft\n"
          ]
        }
      ],
      "source": [
        "# Python() String\n",
        "# string representation of Luke\n",
        "name = str('Luke')\n",
        "print(name)\n",
        "\n",
        "# string representation of an integer 40\n",
        "age = str(40)\n",
        "print(age)\n",
        "\n",
        "# string representation of a numeric string 7ft\n",
        "height = str('7ft')\n",
        "print(height)"
      ]
    },
    {
      "cell_type": "code",
      "execution_count": null,
      "id": "a3024a5f",
      "metadata": {
        "id": "a3024a5f",
        "outputId": "187e170b-85c5-4391-fc2f-5b95bf9be41b"
      },
      "outputs": [
        {
          "name": "stdout",
          "output_type": "stream",
          "text": [
            "pythn\n"
          ]
        },
        {
          "ename": "UnicodeDecodeError",
          "evalue": "'ascii' codec can't decode byte 0xc3 in position 4: ordinal not in range(128)",
          "output_type": "error",
          "traceback": [
            "\u001b[1;31m---------------------------------------------------------------------------\u001b[0m",
            "\u001b[1;31mUnicodeDecodeError\u001b[0m                        Traceback (most recent call last)",
            "\u001b[1;32m~\\AppData\\Local\\Temp/ipykernel_2332/1909190539.py\u001b[0m in \u001b[0;36m<module>\u001b[1;34m\u001b[0m\n\u001b[0;32m      7\u001b[0m \u001b[1;33m\u001b[0m\u001b[0m\n\u001b[0;32m      8\u001b[0m \u001b[1;31m# convert a utf-8 byte object to ascii with strict error\u001b[0m\u001b[1;33m\u001b[0m\u001b[1;33m\u001b[0m\u001b[0m\n\u001b[1;32m----> 9\u001b[1;33m \u001b[0mprint\u001b[0m\u001b[1;33m(\u001b[0m\u001b[0mstr\u001b[0m\u001b[1;33m(\u001b[0m\u001b[0mb\u001b[0m\u001b[1;33m,\u001b[0m \u001b[0mencoding\u001b[0m\u001b[1;33m=\u001b[0m\u001b[1;34m'ascii'\u001b[0m\u001b[1;33m,\u001b[0m \u001b[0merrors\u001b[0m\u001b[1;33m=\u001b[0m\u001b[1;34m'strict'\u001b[0m\u001b[1;33m)\u001b[0m\u001b[1;33m)\u001b[0m\u001b[1;33m\u001b[0m\u001b[1;33m\u001b[0m\u001b[0m\n\u001b[0m",
            "\u001b[1;31mUnicodeDecodeError\u001b[0m: 'ascii' codec can't decode byte 0xc3 in position 4: ordinal not in range(128)"
          ]
        }
      ],
      "source": [
        "# str() with Byte Objects\n",
        "# declare a byte object\n",
        "b = bytes('pythön', encoding='utf-8')\n",
        "\n",
        "# convert a utf-8 byte object to ascii with errors ignored\n",
        "print(str(b, encoding='ascii', errors='ignore'))\n",
        "\n",
        "# convert a utf-8 byte object to ascii with strict error\n",
        "print(str(b, encoding='ascii', errors='strict'))"
      ]
    },
    {
      "cell_type": "markdown",
      "id": "8b578f35",
      "metadata": {
        "id": "8b578f35"
      },
      "source": [
        "## Python sum()"
      ]
    },
    {
      "cell_type": "code",
      "execution_count": null,
      "id": "bfed761c",
      "metadata": {
        "id": "bfed761c",
        "outputId": "d8c09169-284b-4204-c0d7-0aeb5b82bca5"
      },
      "outputs": [
        {
          "name": "stdout",
          "output_type": "stream",
          "text": [
            "339\n"
          ]
        }
      ],
      "source": [
        "# The sum() function adds the items of an iterable and returns the sum.\n",
        "marks = [65, 71, 68, 74, 61]\n",
        "\n",
        "# find sum of all marks\n",
        "total_marks = sum(marks)\n",
        "print(total_marks)"
      ]
    },
    {
      "cell_type": "code",
      "execution_count": null,
      "id": "f2cc78fd",
      "metadata": {
        "id": "f2cc78fd",
        "outputId": "53fe4c61-ee8f-4f1e-aaf0-2394e394dbbb"
      },
      "outputs": [
        {
          "name": "stdout",
          "output_type": "stream",
          "text": [
            "4.5\n",
            "14.5\n"
          ]
        }
      ],
      "source": [
        "# Working of Python sum()\n",
        "numbers = [2.5, 3, 4, -5]\n",
        "\n",
        "# start parameter is not provided\n",
        "numbers_sum = sum(numbers)\n",
        "print(numbers_sum)\n",
        "\n",
        "# start = 10\n",
        "numbers_sum = sum(numbers, 10)\n",
        "print(numbers_sum)"
      ]
    },
    {
      "cell_type": "markdown",
      "id": "92f1ed95",
      "metadata": {
        "id": "92f1ed95"
      },
      "source": [
        "## Python tuple()"
      ]
    },
    {
      "cell_type": "code",
      "execution_count": null,
      "id": "935a9480",
      "metadata": {
        "id": "935a9480",
        "outputId": "97b32d7b-3eb0-4893-e421-b13a63e124dd"
      },
      "outputs": [
        {
          "name": "stdout",
          "output_type": "stream",
          "text": [
            "t1 = ()\n",
            "t2 = (1, 4, 6)\n",
            "t1 = ('P', 'y', 't', 'h', 'o', 'n')\n",
            "t1 = (1, 2)\n"
          ]
        }
      ],
      "source": [
        "# In Python, a tuple is an immutable sequence type. One of the ways of creating tuple is by using the tuple() construct.\n",
        "# Create tuples using tuple()\n",
        "t1 = tuple()\n",
        "print('t1 =', t1)\n",
        "\n",
        "# creating a tuple from a list\n",
        "t2 = tuple([1, 4, 6])\n",
        "print('t2 =', t2)\n",
        "\n",
        "# creating a tuple from a string\n",
        "t1 = tuple('Python')\n",
        "print('t1 =',t1)\n",
        "\n",
        "# creating a tuple from a dictionary\n",
        "t1 = tuple({1: 'one', 2: 'two'})\n",
        "print('t1 =',t1)\n",
        "\n"
      ]
    },
    {
      "cell_type": "markdown",
      "id": "08dd5dd1",
      "metadata": {
        "id": "08dd5dd1"
      },
      "source": [
        "## Python type()"
      ]
    },
    {
      "cell_type": "code",
      "execution_count": null,
      "id": "92c521a7",
      "metadata": {
        "id": "92c521a7",
        "outputId": "a8aba8c9-562f-4030-81fb-c9710ebafd1a"
      },
      "outputs": [
        {
          "name": "stdout",
          "output_type": "stream",
          "text": [
            "<class 'list'>\n"
          ]
        }
      ],
      "source": [
        "# The type() function either returns the type of the object or returns a new type object based on the arguments passed.\n",
        "prime_numbers = [2, 3, 5, 7]\n",
        "\n",
        "# check type of prime_numbers\n",
        "result = type(prime_numbers)\n",
        "print(result)"
      ]
    },
    {
      "cell_type": "code",
      "execution_count": null,
      "id": "ac14581b",
      "metadata": {
        "id": "ac14581b",
        "outputId": "d0ca0511-1102-426d-f9f9-46d910ee0510"
      },
      "outputs": [
        {
          "name": "stdout",
          "output_type": "stream",
          "text": [
            "<class 'list'>\n",
            "<class 'dict'>\n",
            "<class '__main__.Foo'>\n"
          ]
        }
      ],
      "source": [
        "#ype() with Object parameter\n",
        "numbers_list = [1, 2]\n",
        "print(type(numbers_list))\n",
        "\n",
        "numbers_dict = {1: 'one', 2: 'two'}\n",
        "print(type(numbers_dict))\n",
        "\n",
        "class Foo:\n",
        "    a = 0\n",
        "\n",
        "foo = Foo()\n",
        "print(type(foo))"
      ]
    },
    {
      "cell_type": "code",
      "execution_count": null,
      "id": "243dc825",
      "metadata": {
        "id": "243dc825",
        "outputId": "71b3917f-a97f-4aae-91e0-6916b83a84d2"
      },
      "outputs": [
        {
          "name": "stdout",
          "output_type": "stream",
          "text": [
            "<class 'type'>\n",
            "{'a': 'Foo', 'b': 12, '__module__': '__main__', '__dict__': <attribute '__dict__' of 'X' objects>, '__weakref__': <attribute '__weakref__' of 'X' objects>, '__doc__': None}\n",
            "<class 'type'>\n",
            "{'a': 'Foo', 'b': 12, '__module__': '__main__', '__doc__': None}\n"
          ]
        }
      ],
      "source": [
        "# type() With 3 Parameters\n",
        "o1 = type('X', (object,), dict(a='Foo', b=12))\n",
        "print(type(o1))\n",
        "\n",
        "print(vars(o1))\n",
        "\n",
        "class test:\n",
        "  a = 'Foo'\n",
        "  b = 12\n",
        "  \n",
        "o2 = type('Y', (test,), dict(a='Foo', b=12))\n",
        "print(type(o2))\n",
        "print(vars(o2))"
      ]
    },
    {
      "cell_type": "markdown",
      "id": "3c4b2138",
      "metadata": {
        "id": "3c4b2138"
      },
      "source": [
        "## Python vars()"
      ]
    },
    {
      "cell_type": "code",
      "execution_count": null,
      "id": "ca3a34cd",
      "metadata": {
        "id": "ca3a34cd",
        "outputId": "9f7d8f63-89d9-4081-8633-7f28f414b62f"
      },
      "outputs": [
        {
          "name": "stdout",
          "output_type": "stream",
          "text": [
            "{'__repr__': <slot wrapper '__repr__' of 'list' objects>, '__hash__': None, '__getattribute__': <slot wrapper '__getattribute__' of 'list' objects>, '__lt__': <slot wrapper '__lt__' of 'list' objects>, '__le__': <slot wrapper '__le__' of 'list' objects>, '__eq__': <slot wrapper '__eq__' of 'list' objects>, '__ne__': <slot wrapper '__ne__' of 'list' objects>, '__gt__': <slot wrapper '__gt__' of 'list' objects>, '__ge__': <slot wrapper '__ge__' of 'list' objects>, '__iter__': <slot wrapper '__iter__' of 'list' objects>, '__init__': <slot wrapper '__init__' of 'list' objects>, '__len__': <slot wrapper '__len__' of 'list' objects>, '__getitem__': <method '__getitem__' of 'list' objects>, '__setitem__': <slot wrapper '__setitem__' of 'list' objects>, '__delitem__': <slot wrapper '__delitem__' of 'list' objects>, '__add__': <slot wrapper '__add__' of 'list' objects>, '__mul__': <slot wrapper '__mul__' of 'list' objects>, '__rmul__': <slot wrapper '__rmul__' of 'list' objects>, '__contains__': <slot wrapper '__contains__' of 'list' objects>, '__iadd__': <slot wrapper '__iadd__' of 'list' objects>, '__imul__': <slot wrapper '__imul__' of 'list' objects>, '__new__': <built-in method __new__ of type object at 0x00007FFD720D0AF0>, '__reversed__': <method '__reversed__' of 'list' objects>, '__sizeof__': <method '__sizeof__' of 'list' objects>, 'clear': <method 'clear' of 'list' objects>, 'copy': <method 'copy' of 'list' objects>, 'append': <method 'append' of 'list' objects>, 'insert': <method 'insert' of 'list' objects>, 'extend': <method 'extend' of 'list' objects>, 'pop': <method 'pop' of 'list' objects>, 'remove': <method 'remove' of 'list' objects>, 'index': <method 'index' of 'list' objects>, 'count': <method 'count' of 'list' objects>, 'reverse': <method 'reverse' of 'list' objects>, 'sort': <method 'sort' of 'list' objects>, '__class_getitem__': <method '__class_getitem__' of 'list' objects>, '__doc__': 'Built-in mutable sequence.\\n\\nIf no argument is given, the constructor creates a new empty list.\\nThe argument must be an iterable if specified.'}\n"
          ]
        }
      ],
      "source": [
        "# The vars() method returns the __dict__ (dictionary mapping) attribute of the given object.\n",
        "# returns __dict__ of a list\n",
        "print(vars(list))"
      ]
    },
    {
      "cell_type": "markdown",
      "id": "64300b8d",
      "metadata": {
        "id": "64300b8d"
      },
      "source": [
        "### vars() with No __dict__ Attribute Argument"
      ]
    },
    {
      "cell_type": "code",
      "execution_count": null,
      "id": "3eab370c",
      "metadata": {
        "id": "3eab370c",
        "outputId": "8f6abd43-1d9d-44a3-ecb8-005d40152fdd"
      },
      "outputs": [
        {
          "ename": "TypeError",
          "evalue": "vars() argument must have __dict__ attribute",
          "output_type": "error",
          "traceback": [
            "\u001b[1;31m---------------------------------------------------------------------------\u001b[0m",
            "\u001b[1;31mTypeError\u001b[0m                                 Traceback (most recent call last)",
            "\u001b[1;32m~\\AppData\\Local\\Temp/ipykernel_2332/4213680531.py\u001b[0m in \u001b[0;36m<module>\u001b[1;34m\u001b[0m\n\u001b[0;32m      2\u001b[0m \u001b[1;33m\u001b[0m\u001b[0m\n\u001b[0;32m      3\u001b[0m \u001b[1;31m# vars() with a string\u001b[0m\u001b[1;33m\u001b[0m\u001b[1;33m\u001b[0m\u001b[0m\n\u001b[1;32m----> 4\u001b[1;33m \u001b[0mprint\u001b[0m\u001b[1;33m(\u001b[0m\u001b[0mvars\u001b[0m\u001b[1;33m(\u001b[0m\u001b[0mstring\u001b[0m\u001b[1;33m)\u001b[0m\u001b[1;33m)\u001b[0m\u001b[1;33m\u001b[0m\u001b[1;33m\u001b[0m\u001b[0m\n\u001b[0m",
            "\u001b[1;31mTypeError\u001b[0m: vars() argument must have __dict__ attribute"
          ]
        }
      ],
      "source": [
        "string = \"Jones\"\n",
        "\n",
        "# vars() with a string\n",
        "print(vars(string))"
      ]
    },
    {
      "cell_type": "markdown",
      "id": "ac9d4ba9",
      "metadata": {
        "id": "ac9d4ba9"
      },
      "source": [
        "### vars() with a custom object"
      ]
    },
    {
      "cell_type": "code",
      "execution_count": null,
      "id": "7643e5bb",
      "metadata": {
        "id": "7643e5bb",
        "outputId": "64b38bf0-5e81-45bd-e373-0a9a97636eae"
      },
      "outputs": [
        {
          "name": "stdout",
          "output_type": "stream",
          "text": [
            "{'apple': 5, 'banana': 10}\n"
          ]
        }
      ],
      "source": [
        "class Fruit:\n",
        "  def __init__(self, apple = 5, banana = 10):\n",
        "    self.apple = apple\n",
        "    self.banana = banana\n",
        "  \n",
        "eat = Fruit()\n",
        "\n",
        "# returns __dict__ of the eat object\n",
        "print(vars(eat))"
      ]
    },
    {
      "cell_type": "markdown",
      "id": "dd4dc6ea",
      "metadata": {
        "id": "dd4dc6ea"
      },
      "source": [
        "### Python zip()"
      ]
    },
    {
      "cell_type": "code",
      "execution_count": null,
      "id": "1d350544",
      "metadata": {
        "id": "1d350544",
        "outputId": "b0a237bb-3f80-4584-88ca-b5aee2b3fa46"
      },
      "outputs": [
        {
          "name": "stdout",
          "output_type": "stream",
          "text": [
            "[('Java', 14), ('Python', 3), ('JavaScript', 6)]\n"
          ]
        }
      ],
      "source": [
        "# The zip() function takes iterables (can be zero or more), aggregates them in a tuple, and returns it.\n",
        "languages = ['Java', 'Python', 'JavaScript']\n",
        "versions = [14, 3, 6]\n",
        "\n",
        "result = zip(languages, versions)\n",
        "print(list(result))"
      ]
    },
    {
      "cell_type": "code",
      "execution_count": null,
      "id": "32a28878",
      "metadata": {
        "id": "32a28878",
        "outputId": "0a84552b-00cd-41a6-f669-68ab99feeb36"
      },
      "outputs": [
        {
          "name": "stdout",
          "output_type": "stream",
          "text": [
            "[]\n",
            "{(3, 'three'), (2, 'two'), (1, 'one')}\n"
          ]
        }
      ],
      "source": [
        "# iterables- can be built-in iterables (like: list, string, dict), or user-defined iterables\n",
        "# Python zip()\n",
        "number_list = [1, 2, 3]\n",
        "str_list = ['one', 'two', 'three']\n",
        "\n",
        "# No iterables are passed\n",
        "result = zip()\n",
        "\n",
        "# Converting iterator to list\n",
        "result_list = list(result)\n",
        "print(result_list)\n",
        "\n",
        "# Two iterables are passed\n",
        "result = zip(number_list, str_list)\n",
        "\n",
        "# Converting iterator to set\n",
        "result_set = set(result)\n",
        "print(result_set)"
      ]
    },
    {
      "cell_type": "code",
      "execution_count": null,
      "id": "fe2f2906",
      "metadata": {
        "id": "fe2f2906",
        "outputId": "4dc506d6-9c3e-4d8d-d0bb-2037e49554a5"
      },
      "outputs": [
        {
          "name": "stdout",
          "output_type": "stream",
          "text": [
            "{(1, 'ONE'), (2, 'TWO'), (3, 'THREE')}\n",
            "{(2, 'two', 'TWO'), (1, 'one', 'ONE')}\n"
          ]
        }
      ],
      "source": [
        "# Different number of iterable elements\n",
        "numbersList = [1, 2, 3]\n",
        "str_list = ['one', 'two']\n",
        "numbers_tuple = ('ONE', 'TWO', 'THREE', 'FOUR')\n",
        "\n",
        "# Notice, the size of numbersList and numbers_tuple is different\n",
        "result = zip(numbersList, numbers_tuple)\n",
        "\n",
        "# Converting to set\n",
        "result_set = set(result)\n",
        "print(result_set)\n",
        "\n",
        "result = zip(numbersList, str_list, numbers_tuple)\n",
        "\n",
        "# Converting to set\n",
        "result_set = set(result)\n",
        "print(result_set)"
      ]
    },
    {
      "cell_type": "code",
      "execution_count": null,
      "id": "cc26f75e",
      "metadata": {
        "id": "cc26f75e",
        "outputId": "08afb025-6efa-4543-ed80-7decb1a28523"
      },
      "outputs": [
        {
          "name": "stdout",
          "output_type": "stream",
          "text": [
            "[('x', 3), ('y', 4), ('z', 5)]\n",
            "c = ('x', 'y', 'z')\n",
            "v = (3, 4, 5)\n"
          ]
        }
      ],
      "source": [
        "# Unzipping the Value Using zip()\n",
        "coordinate = ['x', 'y', 'z']\n",
        "value = [3, 4, 5]\n",
        "\n",
        "result = zip(coordinate, value)\n",
        "result_list = list(result)\n",
        "print(result_list)\n",
        "\n",
        "c, v =  zip(*result_list)\n",
        "print('c =', c)\n",
        "print('v =', v)"
      ]
    },
    {
      "cell_type": "markdown",
      "id": "c9dd87ee",
      "metadata": {
        "id": "c9dd87ee"
      },
      "source": [
        "### Python __import__()"
      ]
    },
    {
      "cell_type": "code",
      "execution_count": null,
      "id": "8bb45e96",
      "metadata": {
        "id": "8bb45e96",
        "outputId": "dcb9d144-f643-4391-a6c1-189224c970f4"
      },
      "outputs": [
        {
          "name": "stdout",
          "output_type": "stream",
          "text": [
            "2.5\n"
          ]
        }
      ],
      "source": [
        "# The __import__() is a function that is called by the import statement.\n",
        "\n",
        "# The syntax of the __import__() function is:  __import__(name, globals=None, locals=None, fromlist=(), level=0)\n",
        "# How __import()__ works?\n",
        "mathematics = __import__('math', globals(), locals(), [], 0)\n",
        "print(mathematics.fabs(-2.5))"
      ]
    },
    {
      "cell_type": "code",
      "execution_count": null,
      "id": "146fd56d",
      "metadata": {
        "id": "146fd56d",
        "outputId": "2dcc8ed9-4b64-44b6-9830-f4bdb275af61"
      },
      "outputs": [
        {
          "ename": "NameError",
          "evalue": "name 'x' is not defined",
          "output_type": "error",
          "traceback": [
            "\u001b[1;31m---------------------------------------------------------------------------\u001b[0m",
            "\u001b[1;31mNameError\u001b[0m                                 Traceback (most recent call last)",
            "\u001b[1;32m~\\AppData\\Local\\Temp/ipykernel_2332/1181524408.py\u001b[0m in \u001b[0;36m<module>\u001b[1;34m\u001b[0m\n\u001b[0;32m      1\u001b[0m \u001b[1;32mimport\u001b[0m \u001b[0mmath\u001b[0m\u001b[1;33m\u001b[0m\u001b[1;33m\u001b[0m\u001b[0m\n\u001b[1;32m----> 2\u001b[1;33m \u001b[0mmath\u001b[0m\u001b[1;33m.\u001b[0m\u001b[0mfabs\u001b[0m\u001b[1;33m(\u001b[0m\u001b[0mx\u001b[0m\u001b[1;33m)\u001b[0m\u001b[1;33m\u001b[0m\u001b[1;33m\u001b[0m\u001b[0m\n\u001b[0m",
            "\u001b[1;31mNameError\u001b[0m: name 'x' is not defined"
          ]
        }
      ],
      "source": [
        "import math\n",
        "math.fabs(x)"
      ]
    },
    {
      "cell_type": "markdown",
      "id": "ecfb9498",
      "metadata": {
        "id": "ecfb9498"
      },
      "source": [
        "### Python super()"
      ]
    },
    {
      "cell_type": "code",
      "execution_count": null,
      "id": "2eaf155c",
      "metadata": {
        "id": "2eaf155c",
        "outputId": "6ba41145-2b35-42af-9001-0aeeac84280a"
      },
      "outputs": [
        {
          "name": "stdout",
          "output_type": "stream",
          "text": [
            "Animal Type: Mammal\n",
            "Mammals give birth directly\n"
          ]
        }
      ],
      "source": [
        "# The super() builtin returns a proxy object (temporary object of the superclass) that allows us to access methods of the base class.\n",
        "class Animal(object):\n",
        "  def __init__(self, animal_type):\n",
        "    print('Animal Type:', animal_type)\n",
        "    \n",
        "class Mammal(Animal):\n",
        "  def __init__(self):\n",
        "\n",
        "    # call superclass\n",
        "    super().__init__('Mammal')\n",
        "    print('Mammals give birth directly')\n",
        "    \n",
        "dog = Mammal()\n"
      ]
    },
    {
      "cell_type": "code",
      "execution_count": null,
      "id": "899b0b9c",
      "metadata": {
        "id": "899b0b9c",
        "outputId": "bdc9b869-89bc-4dbb-97e6-581c0e83c34e"
      },
      "outputs": [
        {
          "name": "stdout",
          "output_type": "stream",
          "text": [
            "Dog has four legs.\n",
            "Dog is a warm-blooded animal.\n"
          ]
        }
      ],
      "source": [
        "# super() with Single Inheritance\n",
        "class Mammal(object):\n",
        "  def __init__(self, mammalName):\n",
        "    print(mammalName, 'is a warm-blooded animal.')\n",
        "    \n",
        "class Dog(Mammal):\n",
        "  def __init__(self):\n",
        "    print('Dog has four legs.')\n",
        "    super().__init__('Dog')\n",
        "    \n",
        "d1 = Dog()"
      ]
    },
    {
      "cell_type": "code",
      "execution_count": null,
      "id": "6f2d7ab1",
      "metadata": {
        "id": "6f2d7ab1",
        "outputId": "2bf9499c-b05f-44d4-8a59-3cf2962965f4"
      },
      "outputs": [
        {
          "ename": "NameError",
          "evalue": "name 'CanidaeFamily' is not defined",
          "output_type": "error",
          "traceback": [
            "\u001b[1;31m---------------------------------------------------------------------------\u001b[0m",
            "\u001b[1;31mNameError\u001b[0m                                 Traceback (most recent call last)",
            "\u001b[1;32m~\\AppData\\Local\\Temp/ipykernel_2332/3758178634.py\u001b[0m in \u001b[0;36m<module>\u001b[1;34m\u001b[0m\n\u001b[0;32m      1\u001b[0m \u001b[1;31m#  changing base class to CanidaeFamily\u001b[0m\u001b[1;33m\u001b[0m\u001b[1;33m\u001b[0m\u001b[0m\n\u001b[1;32m----> 2\u001b[1;33m \u001b[1;32mclass\u001b[0m \u001b[0mDog\u001b[0m\u001b[1;33m(\u001b[0m\u001b[0mCanidaeFamily\u001b[0m\u001b[1;33m)\u001b[0m\u001b[1;33m:\u001b[0m\u001b[1;33m\u001b[0m\u001b[1;33m\u001b[0m\u001b[0m\n\u001b[0m\u001b[0;32m      3\u001b[0m   \u001b[1;32mdef\u001b[0m \u001b[0m__init__\u001b[0m\u001b[1;33m(\u001b[0m\u001b[0mself\u001b[0m\u001b[1;33m)\u001b[0m\u001b[1;33m:\u001b[0m\u001b[1;33m\u001b[0m\u001b[1;33m\u001b[0m\u001b[0m\n\u001b[0;32m      4\u001b[0m     \u001b[0mprint\u001b[0m\u001b[1;33m(\u001b[0m\u001b[1;34m'Dog has four legs.'\u001b[0m\u001b[1;33m)\u001b[0m\u001b[1;33m\u001b[0m\u001b[1;33m\u001b[0m\u001b[0m\n\u001b[0;32m      5\u001b[0m \u001b[1;33m\u001b[0m\u001b[0m\n",
            "\u001b[1;31mNameError\u001b[0m: name 'CanidaeFamily' is not defined"
          ]
        }
      ],
      "source": [
        "#  changing base class to CanidaeFamily\n",
        "class Dog(CanidaeFamily):\n",
        "  def __init__(self):\n",
        "    print('Dog has four legs.')\n",
        "\n",
        "    # no need to change this\n",
        "    super().__init__('Dog')"
      ]
    },
    {
      "cell_type": "code",
      "execution_count": null,
      "id": "7b51904c",
      "metadata": {
        "id": "7b51904c",
        "outputId": "98b80b1e-98de-4eea-9df4-2399853235f9"
      },
      "outputs": [
        {
          "name": "stdout",
          "output_type": "stream",
          "text": [
            "Dog has 4 legs.\n",
            "Dog can't swim.\n",
            "Dog can't fly.\n",
            "Dog is a warm-blooded animal.\n",
            "Dog is an animal.\n",
            "\n",
            "Bat can't swim.\n",
            "Bat is a warm-blooded animal.\n",
            "Bat is an animal.\n"
          ]
        }
      ],
      "source": [
        "# super() with Multiple Inheritance\n",
        "class Animal:\n",
        "  def __init__(self, Animal):\n",
        "    print(Animal, 'is an animal.');\n",
        "\n",
        "class Mammal(Animal):\n",
        "  def __init__(self, mammalName):\n",
        "    print(mammalName, 'is a warm-blooded animal.')\n",
        "    super().__init__(mammalName)\n",
        "    \n",
        "class NonWingedMammal(Mammal):\n",
        "  def __init__(self, NonWingedMammal):\n",
        "    print(NonWingedMammal, \"can't fly.\")\n",
        "    super().__init__(NonWingedMammal)\n",
        "\n",
        "class NonMarineMammal(Mammal):\n",
        "  def __init__(self, NonMarineMammal):\n",
        "    print(NonMarineMammal, \"can't swim.\")\n",
        "    super().__init__(NonMarineMammal)\n",
        "\n",
        "class Dog(NonMarineMammal, NonWingedMammal):\n",
        "  def __init__(self):\n",
        "    print('Dog has 4 legs.');\n",
        "    super().__init__('Dog')\n",
        "    \n",
        "d = Dog()\n",
        "print('')\n",
        "bat = NonMarineMammal('Bat')"
      ]
    },
    {
      "cell_type": "code",
      "execution_count": null,
      "id": "1378a120",
      "metadata": {
        "id": "1378a120"
      },
      "outputs": [],
      "source": [
        ""
      ]
    }
  ],
  "metadata": {
    "kernelspec": {
      "display_name": "Python 3 (ipykernel)",
      "language": "python",
      "name": "python3"
    },
    "language_info": {
      "codemirror_mode": {
        "name": "ipython",
        "version": 3
      },
      "file_extension": ".py",
      "mimetype": "text/x-python",
      "name": "python",
      "nbconvert_exporter": "python",
      "pygments_lexer": "ipython3",
      "version": "3.9.7"
    },
    "colab": {
      "name": "python_basics.ipynb",
      "provenance": [],
      "include_colab_link": true
    }
  },
  "nbformat": 4,
  "nbformat_minor": 5
}