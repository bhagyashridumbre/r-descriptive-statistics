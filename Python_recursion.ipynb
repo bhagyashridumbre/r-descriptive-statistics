{
  "nbformat": 4,
  "nbformat_minor": 0,
  "metadata": {
    "colab": {
      "name": "Python_recursion.ipynb",
      "provenance": [],
      "collapsed_sections": [],
      "authorship_tag": "ABX9TyN3Pq4QvCiRMAHx6ZcCuJkB",
      "include_colab_link": true
    },
    "kernelspec": {
      "name": "python3",
      "display_name": "Python 3"
    },
    "language_info": {
      "name": "python"
    }
  },
  "cells": [
    {
      "cell_type": "markdown",
      "metadata": {
        "id": "view-in-github",
        "colab_type": "text"
      },
      "source": [
        "<a href=\"https://colab.research.google.com/github/bhagyashridumbre/r-descriptive-statistics/blob/main/Python_recursion.ipynb\" target=\"_parent\"><img src=\"https://colab.research.google.com/assets/colab-badge.svg\" alt=\"Open In Colab\"/></a>"
      ]
    },
    {
      "cell_type": "code",
      "execution_count": null,
      "metadata": {
        "id": "-xuKLO0XCRjW"
      },
      "outputs": [],
      "source": [
        ""
      ]
    },
    {
      "cell_type": "markdown",
      "source": [
        "Python Recursion\n",
        "a recursive function (a function that calls itself)."
      ],
      "metadata": {
        "id": "V7U9kl09CazE"
      }
    },
    {
      "cell_type": "code",
      "source": [
        "# Recursion is the process of defining something in terms of itself.\n",
        "# two parallel mirrors facing each other. Any object in between them would be reflected recursively.\n",
        "\n"
      ],
      "metadata": {
        "id": "1LzJz3sLCkMA"
      },
      "execution_count": null,
      "outputs": []
    },
    {
      "cell_type": "markdown",
      "source": [
        "Factorial of 6!"
      ],
      "metadata": {
        "id": "9Uhk8ub8C3-8"
      }
    },
    {
      "cell_type": "code",
      "source": [
        "def factorial(x):\n",
        "    \"\"\"This is a recursive function\n",
        "    to find the factorial of an integer\"\"\"\n",
        "    if x == 1:\n",
        "        return 1\n",
        "    else:\n",
        "        return (x * factorial(x-1))"
      ],
      "metadata": {
        "id": "e0M1-VtKC7pY"
      },
      "execution_count": 2,
      "outputs": []
    },
    {
      "cell_type": "code",
      "source": [
        "num = 3\n",
        "print(\"The factorial of\", num, \"is\", factorial(num))\n",
        "# factorial() is a recursive function as it calls itself.\n",
        "#factorial(3)          # 1st call with 3\n",
        "#3 * factorial(2)      # 2nd call with 2\n",
        "#3 * 2 * factorial(1)  # 3rd call with 1\n",
        "#3 * 2 * 1             # return from 3rd call as number=1\n",
        "#3 * 2                 # return from 2nd call\n",
        "#6                     # return from 1st call"
      ],
      "metadata": {
        "colab": {
          "base_uri": "https://localhost:8080/"
        },
        "id": "Mbpa7gOPDG4S",
        "outputId": "04a4c3ee-ccc9-4d1e-bfa0-65d9d9d47ea6"
      },
      "execution_count": 3,
      "outputs": [
        {
          "output_type": "stream",
          "name": "stdout",
          "text": [
            "The factorial of 3 is 6\n"
          ]
        }
      ]
    },
    {
      "cell_type": "code",
      "source": [
        "# Our recursion ends when the number reduces to 1. This is called the base condition.\n",
        "# Every recursive function must have a base condition that stops the recursion or else the function calls itself infinitely.\n",
        "# By default, the maximum depth of recursion is 1000. If the limit is crossed, it results in RecursionError\n",
        "def recursor():\n",
        "    recursor()\n",
        "recursor()"
      ],
      "metadata": {
        "id": "vvyVMFbwEH4I"
      },
      "execution_count": null,
      "outputs": []
    },
    {
      "cell_type": "code",
      "source": [
        "# Advantages of recursion\n",
        "# Recursive functions make the code look clean and elegant.\n",
        "# A complex task can be broken down into simpler sub-problems using recursion.\n",
        "# Sequence generation is easier with recursion than using some nested iteration."
      ],
      "metadata": {
        "id": "LJ0Yhl2IEcfL"
      },
      "execution_count": null,
      "outputs": []
    },
    {
      "cell_type": "code",
      "source": [
        "#disad\n",
        "# Sometimes the logic behind recursion is hard to follow through.\n",
        "# Recursive calls are expensive (inefficient) as they take up a lot of memory and time.\n",
        "# Recursive functions are hard to debug."
      ],
      "metadata": {
        "id": "jHvPAohWEmrs"
      },
      "execution_count": null,
      "outputs": []
    }
  ]
}