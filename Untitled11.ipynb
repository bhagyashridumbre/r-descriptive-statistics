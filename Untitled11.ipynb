{
  "nbformat": 4,
  "nbformat_minor": 0,
  "metadata": {
    "colab": {
      "name": "Untitled11.ipynb",
      "provenance": [],
      "collapsed_sections": [],
      "authorship_tag": "ABX9TyNq+tZqUtDn6MRIETcUUjI7",
      "include_colab_link": true
    },
    "kernelspec": {
      "name": "python3",
      "display_name": "Python 3"
    },
    "language_info": {
      "name": "python"
    }
  },
  "cells": [
    {
      "cell_type": "markdown",
      "metadata": {
        "id": "view-in-github",
        "colab_type": "text"
      },
      "source": [
        "<a href=\"https://colab.research.google.com/github/bhagyashridumbre/r-descriptive-statistics/blob/main/Untitled11.ipynb\" target=\"_parent\"><img src=\"https://colab.research.google.com/assets/colab-badge.svg\" alt=\"Open In Colab\"/></a>"
      ]
    },
    {
      "cell_type": "markdown",
      "source": [
        "Python Functions"
      ],
      "metadata": {
        "id": "6f380bdQ7uCy"
      }
    },
    {
      "cell_type": "code",
      "execution_count": null,
      "metadata": {
        "id": "ixDenF8N7p_N"
      },
      "outputs": [],
      "source": [
        "# function is a group of related statements that performs a specific task\n",
        "# function helps to break our program into smaller and module chunks.\n",
        "# function make our program more organized and manageable\n",
        "# it avoids repetition and make the code reusable.\n",
        "def function_name(parameters):\n",
        "\t\"\"\"docstring\"\"\"  # to describe what the func does.\n",
        "\tstatement(s)     # return stmnt to return value from the function"
      ]
    },
    {
      "cell_type": "code",
      "source": [
        "def greet(name):\n",
        "    \"\"\" This function greets to the person passed in as a parameter \"\"\"\n",
        "    print(\"Hello, \" + name + \". Good morning!\")"
      ],
      "metadata": {
        "id": "VVLldXT08sHx"
      },
      "execution_count": 1,
      "outputs": []
    },
    {
      "cell_type": "code",
      "source": [
        "#  To call a function we simply type the function name with appropriate parameters.\n",
        "greet('Paul')"
      ],
      "metadata": {
        "colab": {
          "base_uri": "https://localhost:8080/"
        },
        "id": "0AOh62ZN875e",
        "outputId": "ba719180-c3a6-4042-e110-24c9cfdd4def"
      },
      "execution_count": 3,
      "outputs": [
        {
          "output_type": "stream",
          "name": "stdout",
          "text": [
            "Hello, Paul. Good morning!\n"
          ]
        }
      ]
    },
    {
      "cell_type": "code",
      "source": [
        "''' In python, the function definition should always be present before the function call. \n",
        "Otherwise, we will get an error. '''\n",
        "# function call\n",
        "meet('Paul')\n",
        "\n",
        "# function definition\n",
        "def meet(name):\n",
        "    \"\"\"\n",
        "    This function greets to\n",
        "    the person passed in as\n",
        "    a parameter\n",
        "    \"\"\"\n",
        "    print(\"Hello, \" + name + \". Good morning!\")\n"
      ],
      "metadata": {
        "id": "pRV5dHoG9OUO"
      },
      "execution_count": null,
      "outputs": []
    },
    {
      "cell_type": "markdown",
      "source": [
        "Docstring(Documentation string)"
      ],
      "metadata": {
        "id": "I2Lt7y9m92HC"
      }
    },
    {
      "cell_type": "code",
      "source": [
        "# The first string after the function header is called the docstring\n",
        "# It is briefly used to explain what a function does.\n",
        "# This string is available to us as the __doc__ attribute of the function.\n",
        "# we have a docstring immediately below the function header.\n",
        "print(greet.__doc__)\n",
        "   ''' This function greets to the person passed in as a parameter'''"
      ],
      "metadata": {
        "id": "dbpweUE09xd9"
      },
      "execution_count": null,
      "outputs": []
    },
    {
      "cell_type": "code",
      "source": [
        "def square(n):\n",
        "    '''Takes in a number n, returns the square of n'''\n",
        "    return n**2"
      ],
      "metadata": {
        "id": "Gmtxu_2p-l4_"
      },
      "execution_count": 6,
      "outputs": []
    },
    {
      "cell_type": "code",
      "source": [
        "\"I am a single-line comment\"\n",
        "'''I am a\n",
        "multi-line comment!\n",
        "'''\n",
        "print(\"Hello World\")"
      ],
      "metadata": {
        "id": "-vS4vHr5-xw2"
      },
      "execution_count": null,
      "outputs": []
    },
    {
      "cell_type": "code",
      "source": [
        "def square(n):\n",
        "    '''Takes in a number n, returns the square of n'''\n",
        "    return n**2\n",
        "print(square.__doc__)"
      ],
      "metadata": {
        "colab": {
          "base_uri": "https://localhost:8080/"
        },
        "id": "mJFQHbNW-1qc",
        "outputId": "298f7ccf-2e30-4307-bcba-55471cc6e8db"
      },
      "execution_count": 7,
      "outputs": [
        {
          "output_type": "stream",
          "name": "stdout",
          "text": [
            "Takes in a number n, returns the square of n\n"
          ]
        }
      ]
    },
    {
      "cell_type": "code",
      "source": [
        "# Docstrings for the built-in print() function\n",
        "print(print.__doc__)"
      ],
      "metadata": {
        "id": "zArwFAcb_Hvg"
      },
      "execution_count": null,
      "outputs": []
    },
    {
      "cell_type": "code",
      "source": [
        "''' The docstrings for Python Modules should list all the available classes, functions, objects and exceptions that are imported when the module is imported.'''\n",
        "import pickle\n",
        "print(pickle.__doc__)"
      ],
      "metadata": {
        "id": "kyfmqN7y_XZ-"
      },
      "execution_count": null,
      "outputs": []
    },
    {
      "cell_type": "code",
      "source": [
        "# Docstrings for Python functions\n",
        "def add_binary(a, b):\n",
        "    '''\n",
        "    Returns the sum of two decimal numbers in binary digits.\n",
        "\n",
        "            Parameters:\n",
        "                    a (int): A decimal integer\n",
        "                    b (int): Another decimal integer\n",
        "\n",
        "            Returns:\n",
        "                    binary_sum (str): Binary string of the sum of a and b\n",
        "    '''\n",
        "    binary_sum = bin(a+b)[2:]\n",
        "    return binary_sum\n",
        "\n",
        "\n",
        "print(add_binary.__doc__)"
      ],
      "metadata": {
        "id": "EbF8CV58_o0G"
      },
      "execution_count": null,
      "outputs": []
    },
    {
      "cell_type": "code",
      "source": [
        "class Person:\n",
        "    \"\"\"\n",
        "    A class to represent a person.\n",
        "    ...\n",
        "    Attributes\n",
        "    ----------\n",
        "    name : str\n",
        "        first name of the person\n",
        "    surname : str\n",
        "        family name of the person\n",
        "    age : int\n",
        "        age of the person\n",
        "    Methods\n",
        "    -------\n",
        "    info(additional=\"\"):\n",
        "        Prints the person's name and age.\n",
        "    \"\"\"\n",
        "    def __init__(self, name, surname, age):\n",
        "        \"\"\"\n",
        "        Constructs all the necessary attributes for the person object.\n",
        "        Parameters\n",
        "        ----------\n",
        "            name : str\n",
        "                first name of the person\n",
        "            surname : str\n",
        "                family name of the person\n",
        "            age : int\n",
        "                age of the person\n",
        "        \"\"\"\n",
        "\n",
        "        self.name = name\n",
        "        self.surname = surname\n",
        "        self.age = age\n",
        "\n",
        "    def info(self, additional=\"\"):\n",
        "        \"\"\"\n",
        "        Prints the person's name and age.\n",
        "\n",
        "        If the argument 'additional' is passed, then it is appended after the main info.\n",
        "\n",
        "        Parameters\n",
        "        ----------\n",
        "        additional : str, optional\n",
        "            More info to be displayed (default is None)\n",
        "\n",
        "        Returns\n",
        "        -------\n",
        "        None\n",
        "        \"\"\"\n",
        "        print(f'My name is {self.name} {self.surname}. I am {self.age} years old.' + additional)"
      ],
      "metadata": {
        "id": "_i4BanaEADLM"
      },
      "execution_count": 11,
      "outputs": []
    },
    {
      "cell_type": "code",
      "source": [
        "# Docstrings for Python Packages\n",
        "# The docstrings for a Python package is written in the package's __init__.py file."
      ],
      "metadata": {
        "id": "wimfMnL1BRtU"
      },
      "execution_count": null,
      "outputs": []
    }
  ]
}