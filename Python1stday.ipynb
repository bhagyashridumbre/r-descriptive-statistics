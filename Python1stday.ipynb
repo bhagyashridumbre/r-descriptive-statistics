{
  "cells": [
    {
      "cell_type": "markdown",
      "metadata": {
        "id": "view-in-github",
        "colab_type": "text"
      },
      "source": [
        "<a href=\"https://colab.research.google.com/github/bhagyashridumbre/r-descriptive-statistics/blob/main/Python1stday.ipynb\" target=\"_parent\"><img src=\"https://colab.research.google.com/assets/colab-badge.svg\" alt=\"Open In Colab\"/></a>"
      ]
    },
    {
      "cell_type": "markdown",
      "metadata": {
        "id": "yR2N5yRftfX8"
      },
      "source": [
        "## statements in python"
      ]
    },
    {
      "cell_type": "code",
      "execution_count": null,
      "metadata": {
        "id": "d-eUImvvtfYA"
      },
      "outputs": [],
      "source": [
        "# My first code in Python\n",
        "# assignment statements\n",
        "# storing value in a variable\n",
        "\n",
        "x = 'abc' # abc is a string \n",
        "\n",
        "# print statement/function\n",
        "print('hello world', x)"
      ]
    },
    {
      "cell_type": "code",
      "execution_count": null,
      "metadata": {
        "id": "vJcvk69ptfYB"
      },
      "outputs": [],
      "source": [
        "x=11\n",
        "if x>10 and \\\n",
        "    x<13:\n",
        "    print(x)"
      ]
    },
    {
      "cell_type": "code",
      "execution_count": null,
      "metadata": {
        "id": "vLPOf-j5tfYC",
        "outputId": "cecb0543-0b26-463a-95a9-da7c5d8225fa"
      },
      "outputs": [
        {
          "data": {
            "text/plain": [
              "10"
            ]
          },
          "execution_count": 13,
          "metadata": {},
          "output_type": "execute_result"
        }
      ],
      "source": [
        "x = 10 # dynamic typing\n",
        "x"
      ]
    },
    {
      "cell_type": "code",
      "execution_count": null,
      "metadata": {
        "id": "K-7KqRZZtfYC",
        "outputId": "6d38406d-4225-471f-b943-92760f28d64c"
      },
      "outputs": [
        {
          "data": {
            "text/plain": [
              "1557257546320"
            ]
          },
          "execution_count": 14,
          "metadata": {},
          "output_type": "execute_result"
        }
      ],
      "source": [
        "id(x) # address in memory"
      ]
    },
    {
      "cell_type": "code",
      "execution_count": null,
      "metadata": {
        "id": "Q2Oq57OztfYD",
        "outputId": "4af514e8-693b-4436-d195-ede816b9fbec"
      },
      "outputs": [
        {
          "data": {
            "text/plain": [
              "10"
            ]
          },
          "execution_count": 15,
          "metadata": {},
          "output_type": "execute_result"
        }
      ],
      "source": [
        "y = 10\n",
        "y"
      ]
    },
    {
      "cell_type": "code",
      "execution_count": null,
      "metadata": {
        "id": "Fj_Ft6Z6tfYD",
        "outputId": "c870ce28-513b-497e-9e56-8db74f7de384"
      },
      "outputs": [
        {
          "data": {
            "text/plain": [
              "1557257546320"
            ]
          },
          "execution_count": 16,
          "metadata": {},
          "output_type": "execute_result"
        }
      ],
      "source": [
        "id(y) # address in memory"
      ]
    },
    {
      "cell_type": "code",
      "execution_count": null,
      "metadata": {
        "id": "OHLGb781tfYE",
        "outputId": "46fb3b9c-7706-442a-9cc9-b28102a87c57"
      },
      "outputs": [
        {
          "data": {
            "text/plain": [
              "15"
            ]
          },
          "execution_count": 2,
          "metadata": {},
          "output_type": "execute_result"
        }
      ],
      "source": [
        "x =15\n",
        "x"
      ]
    },
    {
      "cell_type": "code",
      "execution_count": null,
      "metadata": {
        "id": "oraWI90ctfYE",
        "outputId": "8bebcba4-bed9-4c19-eafa-6eec5a414620"
      },
      "outputs": [
        {
          "data": {
            "text/plain": [
              "140708619002704"
            ]
          },
          "execution_count": 3,
          "metadata": {},
          "output_type": "execute_result"
        }
      ],
      "source": [
        "id(x)"
      ]
    },
    {
      "cell_type": "code",
      "execution_count": null,
      "metadata": {
        "id": "UkMHD-OTtfYF",
        "outputId": "df9f3db9-4887-48e7-90f8-e1ad2f89ec64"
      },
      "outputs": [
        {
          "data": {
            "text/plain": [
              "'0x7ff94740a350'"
            ]
          },
          "execution_count": 4,
          "metadata": {},
          "output_type": "execute_result"
        }
      ],
      "source": [
        "hex(id(x))"
      ]
    },
    {
      "cell_type": "code",
      "execution_count": null,
      "metadata": {
        "id": "DooaJFoTtfYF",
        "outputId": "0b584e41-45f2-4a8b-80e8-59a1840ae00d"
      },
      "outputs": [
        {
          "data": {
            "text/plain": [
              "7"
            ]
          },
          "execution_count": 17,
          "metadata": {},
          "output_type": "execute_result"
        }
      ],
      "source": [
        "2+5"
      ]
    },
    {
      "cell_type": "code",
      "execution_count": null,
      "metadata": {
        "id": "MSF30ZaktfYG",
        "outputId": "ee6d58d7-6766-4ff9-9696-b52f4a7e8db1"
      },
      "outputs": [
        {
          "data": {
            "text/plain": [
              "-2"
            ]
          },
          "execution_count": 18,
          "metadata": {},
          "output_type": "execute_result"
        }
      ],
      "source": [
        "5-7"
      ]
    },
    {
      "cell_type": "code",
      "execution_count": null,
      "metadata": {
        "id": "9DVKkDu1tfYG",
        "outputId": "4b7c9a15-0e2c-4029-819d-6b530ed45200"
      },
      "outputs": [
        {
          "data": {
            "text/plain": [
              "35"
            ]
          },
          "execution_count": 19,
          "metadata": {},
          "output_type": "execute_result"
        }
      ],
      "source": [
        "5*7"
      ]
    },
    {
      "cell_type": "code",
      "execution_count": null,
      "metadata": {
        "id": "zFcS0ypdtfYG",
        "outputId": "30ea917a-039a-46a8-a13d-eac476026c7c"
      },
      "outputs": [
        {
          "data": {
            "text/plain": [
              "4.0"
            ]
          },
          "execution_count": 20,
          "metadata": {},
          "output_type": "execute_result"
        }
      ],
      "source": [
        "16/4 # result is a float. Float is a data type. "
      ]
    },
    {
      "cell_type": "code",
      "execution_count": null,
      "metadata": {
        "id": "yJFycDg-tfYH",
        "outputId": "15132cbd-51a1-4e32-b3ca-d11a863eca5b"
      },
      "outputs": [
        {
          "data": {
            "text/plain": [
              "4"
            ]
          },
          "execution_count": 21,
          "metadata": {},
          "output_type": "execute_result"
        }
      ],
      "source": [
        "16//4 # result/quotient is an integer"
      ]
    },
    {
      "cell_type": "code",
      "execution_count": null,
      "metadata": {
        "id": "1P0RK3s8tfYH",
        "outputId": "4b91860e-febd-42ff-aab0-f411d3aa07ca"
      },
      "outputs": [
        {
          "data": {
            "text/plain": [
              "3"
            ]
          },
          "execution_count": 23,
          "metadata": {},
          "output_type": "execute_result"
        }
      ],
      "source": [
        "13//4 # floor division"
      ]
    },
    {
      "cell_type": "code",
      "execution_count": null,
      "metadata": {
        "id": "8K_BkUgNtfYH"
      },
      "outputs": [],
      "source": [
        "% : modulus"
      ]
    },
    {
      "cell_type": "code",
      "execution_count": null,
      "metadata": {
        "id": "j9UuVaoatfYH",
        "outputId": "efac6cad-0c05-4354-b9ec-f8c7457c06f4"
      },
      "outputs": [
        {
          "data": {
            "text/plain": [
              "1"
            ]
          },
          "execution_count": 24,
          "metadata": {},
          "output_type": "execute_result"
        }
      ],
      "source": [
        "13%4 # reminder after dividing;"
      ]
    },
    {
      "cell_type": "code",
      "execution_count": null,
      "metadata": {
        "id": "s825po0VtfYI",
        "outputId": "a1eb1441-03ae-4e43-9dd6-2d4b15ce8f4b"
      },
      "outputs": [
        {
          "data": {
            "text/plain": [
              "1"
            ]
          },
          "execution_count": 34,
          "metadata": {},
          "output_type": "execute_result"
        }
      ],
      "source": [
        "27%2"
      ]
    },
    {
      "cell_type": "code",
      "execution_count": null,
      "metadata": {
        "id": "EYzOiKFltfYI",
        "outputId": "add13b74-d23a-4069-df88-c8a2111c8060"
      },
      "outputs": [
        {
          "data": {
            "text/plain": [
              "(3, 1)"
            ]
          },
          "execution_count": 36,
          "metadata": {},
          "output_type": "execute_result"
        }
      ],
      "source": [
        "13//4, 13%4"
      ]
    },
    {
      "cell_type": "code",
      "execution_count": null,
      "metadata": {
        "id": "949J9IlMtfYI",
        "outputId": "1ab10b25-6416-4945-f180-35ad68a8c456"
      },
      "outputs": [
        {
          "data": {
            "text/plain": [
              "(-4, 3)"
            ]
          },
          "execution_count": 37,
          "metadata": {},
          "output_type": "execute_result"
        }
      ],
      "source": [
        "-13//4,-13%4"
      ]
    },
    {
      "cell_type": "code",
      "execution_count": null,
      "metadata": {
        "id": "wcHPf-FEtfYI",
        "outputId": "36578197-0db1-4841-85b5-fbe6ce488908"
      },
      "outputs": [
        {
          "data": {
            "text/plain": [
              "(-4, -3)"
            ]
          },
          "execution_count": 38,
          "metadata": {},
          "output_type": "execute_result"
        }
      ],
      "source": [
        "13//-4,13%-4"
      ]
    },
    {
      "cell_type": "code",
      "execution_count": null,
      "metadata": {
        "id": "t1nOPkJXtfYJ",
        "outputId": "417c9567-3641-40ab-88d7-cf3c32394cf4"
      },
      "outputs": [
        {
          "data": {
            "text/plain": [
              "(3, -1)"
            ]
          },
          "execution_count": 1,
          "metadata": {},
          "output_type": "execute_result"
        }
      ],
      "source": [
        "-13//-4,-13%-4"
      ]
    },
    {
      "cell_type": "code",
      "execution_count": null,
      "metadata": {
        "id": "eR_7uRaUtfYJ",
        "outputId": "d88a3a9c-53f8-4115-db4f-1da9c5c4fadd"
      },
      "outputs": [
        {
          "name": "stdout",
          "output_type": "stream",
          "text": [
            "True\n",
            "False\n"
          ]
        }
      ],
      "source": [
        "x = 3\n",
        "y = 3\n",
        "print(x == y) # comparison\n",
        "print(x > 3)"
      ]
    },
    {
      "cell_type": "code",
      "execution_count": null,
      "metadata": {
        "id": "dgIBQqVmtfYJ",
        "outputId": "522e02f0-9a54-46fc-edee-cf33e2ca5bb3"
      },
      "outputs": [
        {
          "data": {
            "text/plain": [
              "True"
            ]
          },
          "execution_count": 47,
          "metadata": {},
          "output_type": "execute_result"
        }
      ],
      "source": [
        "x = 'abc'\n",
        "y = 'abc'\n",
        "x == y"
      ]
    },
    {
      "cell_type": "code",
      "execution_count": null,
      "metadata": {
        "id": "SrQOCNS1tfYJ"
      },
      "outputs": [],
      "source": [
        "a = 3*1.1\n",
        "b = 3.3"
      ]
    },
    {
      "cell_type": "code",
      "execution_count": null,
      "metadata": {
        "id": "7S5eYSeAtfYJ",
        "outputId": "d02db901-61a7-4b1a-e093-15a6cf6ccf48"
      },
      "outputs": [
        {
          "data": {
            "text/plain": [
              "False"
            ]
          },
          "execution_count": 43,
          "metadata": {},
          "output_type": "execute_result"
        }
      ],
      "source": [
        "a == b # boolean operation ; returns a True or False"
      ]
    },
    {
      "cell_type": "code",
      "execution_count": null,
      "metadata": {
        "id": "53gBdxcYtfYK",
        "outputId": "ff5e084f-64e0-481f-bdbf-bd6e3f9e5122"
      },
      "outputs": [
        {
          "data": {
            "text/plain": [
              "3.3000000000000003"
            ]
          },
          "execution_count": 44,
          "metadata": {},
          "output_type": "execute_result"
        }
      ],
      "source": [
        "3*1.1"
      ]
    },
    {
      "cell_type": "code",
      "execution_count": null,
      "metadata": {
        "id": "LqsOyEDEtfYK"
      },
      "outputs": [],
      "source": [
        "import math"
      ]
    },
    {
      "cell_type": "code",
      "execution_count": null,
      "metadata": {
        "id": "WfeD8mcGtfYK"
      },
      "outputs": [],
      "source": [
        "math.isclose(a,b)"
      ]
    },
    {
      "cell_type": "code",
      "execution_count": null,
      "metadata": {
        "id": "XPGLh7bZtfYK"
      },
      "outputs": [],
      "source": [
        ""
      ]
    },
    {
      "cell_type": "code",
      "execution_count": null,
      "metadata": {
        "id": "uqtQllYAtfYK",
        "outputId": "a7a80d3b-fc9a-4926-c8e4-4e027433e4cb"
      },
      "outputs": [
        {
          "data": {
            "text/plain": [
              "True"
            ]
          },
          "execution_count": 48,
          "metadata": {},
          "output_type": "execute_result"
        }
      ],
      "source": [
        "False and True or True # chain"
      ]
    },
    {
      "cell_type": "code",
      "execution_count": null,
      "metadata": {
        "id": "p6NpClrUtfYL",
        "outputId": "e77134d2-4df4-43b9-b379-bcd2e71fc124"
      },
      "outputs": [
        {
          "data": {
            "text/plain": [
              "False"
            ]
          },
          "execution_count": 49,
          "metadata": {},
          "output_type": "execute_result"
        }
      ],
      "source": [
        "False or True and False # False or True is True; True and False "
      ]
    },
    {
      "cell_type": "code",
      "execution_count": null,
      "metadata": {
        "id": "d2zccB62tfYL",
        "outputId": "e30f0d76-573c-48a0-be78-79f634106e37"
      },
      "outputs": [
        {
          "data": {
            "text/plain": [
              "False"
            ]
          },
          "execution_count": 50,
          "metadata": {},
          "output_type": "execute_result"
        }
      ],
      "source": [
        "False and (True or False)"
      ]
    },
    {
      "cell_type": "code",
      "execution_count": null,
      "metadata": {
        "id": "0qVOiiqstfYL",
        "outputId": "7f5d296c-7246-4877-e701-94a20efb4baf"
      },
      "outputs": [
        {
          "data": {
            "text/plain": [
              "True"
            ]
          },
          "execution_count": 51,
          "metadata": {},
          "output_type": "execute_result"
        }
      ],
      "source": [
        "not False"
      ]
    },
    {
      "cell_type": "code",
      "execution_count": null,
      "metadata": {
        "id": "EweSEbudtfYL",
        "outputId": "6478cce4-b8d6-41db-b5bc-5c30d38e2840"
      },
      "outputs": [
        {
          "data": {
            "text/plain": [
              "False"
            ]
          },
          "execution_count": 52,
          "metadata": {},
          "output_type": "execute_result"
        }
      ],
      "source": [
        "not True"
      ]
    },
    {
      "cell_type": "markdown",
      "metadata": {
        "id": "xO2gCvFytfYL"
      },
      "source": [
        "## Data structures"
      ]
    },
    {
      "cell_type": "code",
      "execution_count": null,
      "metadata": {
        "id": "H9VKfM2AtfYM"
      },
      "outputs": [],
      "source": [
        "# List, Tuple, Set, Dictionary..\n",
        "list1 = [1,2,3,4,5, 'abc'] # mutable"
      ]
    },
    {
      "cell_type": "code",
      "execution_count": null,
      "metadata": {
        "id": "UJcdvQmrtfYM",
        "outputId": "4b32976e-f069-4c0a-ab82-8672aad34f43"
      },
      "outputs": [
        {
          "data": {
            "text/plain": [
              "list"
            ]
          },
          "execution_count": 2,
          "metadata": {},
          "output_type": "execute_result"
        }
      ],
      "source": [
        "type(list1) # to check data type"
      ]
    },
    {
      "cell_type": "code",
      "execution_count": null,
      "metadata": {
        "id": "yaDil24ZtfYM",
        "outputId": "2162f886-8e41-49cf-ad81-26c7b9e0d712"
      },
      "outputs": [
        {
          "data": {
            "text/plain": [
              "(10, 20, 30, 40, 50)"
            ]
          },
          "execution_count": 63,
          "metadata": {},
          "output_type": "execute_result"
        }
      ],
      "source": [
        "tup1 = (10,20,30,40,50) # immutable - cannot change contents\n",
        "tup1"
      ]
    },
    {
      "cell_type": "code",
      "execution_count": null,
      "metadata": {
        "id": "CylwxgTntfYM",
        "outputId": "3e4b2b3f-dfb7-42cf-c622-f13faff03bc1"
      },
      "outputs": [
        {
          "data": {
            "text/plain": [
              "tuple"
            ]
          },
          "execution_count": 64,
          "metadata": {},
          "output_type": "execute_result"
        }
      ],
      "source": [
        "type(tup1)"
      ]
    },
    {
      "cell_type": "code",
      "execution_count": null,
      "metadata": {
        "id": "JvfV3puEtfYM",
        "outputId": "724c08cf-5e27-443b-af0b-e23da8515077"
      },
      "outputs": [
        {
          "data": {
            "text/plain": [
              "'hello world123'"
            ]
          },
          "execution_count": 5,
          "metadata": {},
          "output_type": "execute_result"
        }
      ],
      "source": [
        "str1 = 'hello world123'\n",
        "str1"
      ]
    },
    {
      "cell_type": "code",
      "execution_count": null,
      "metadata": {
        "id": "7aE6aOvEtfYM",
        "outputId": "ac999932-5d73-49ff-c2c7-b997bc129c55"
      },
      "outputs": [
        {
          "data": {
            "text/plain": [
              "str"
            ]
          },
          "execution_count": 6,
          "metadata": {},
          "output_type": "execute_result"
        }
      ],
      "source": [
        "type(str1)"
      ]
    },
    {
      "cell_type": "code",
      "execution_count": null,
      "metadata": {
        "id": "cgMr1hLttfYM",
        "outputId": "d9a2f33d-947a-4b71-a177-d9b3a0f66f24"
      },
      "outputs": [
        {
          "data": {
            "text/plain": [
              "[1, 2, 3, 4, 5]"
            ]
          },
          "execution_count": 65,
          "metadata": {},
          "output_type": "execute_result"
        }
      ],
      "source": [
        "list1"
      ]
    },
    {
      "cell_type": "markdown",
      "metadata": {
        "id": "DvyUSF1MtfYN"
      },
      "source": [
        "# Indexing"
      ]
    },
    {
      "cell_type": "code",
      "execution_count": null,
      "metadata": {
        "id": "xjJSc7H5tfYN",
        "outputId": "f8b93dcd-3493-4e63-f77a-68c422b58ecd"
      },
      "outputs": [
        {
          "data": {
            "text/plain": [
              "4"
            ]
          },
          "execution_count": 66,
          "metadata": {},
          "output_type": "execute_result"
        }
      ],
      "source": [
        "# indexing\n",
        "\n",
        "list1[3] # give element in the third index position"
      ]
    },
    {
      "cell_type": "code",
      "execution_count": null,
      "metadata": {
        "id": "XL9EjbhNtfYN",
        "outputId": "1ded3827-dfb2-4f35-99f8-29be90870a2f"
      },
      "outputs": [
        {
          "data": {
            "text/plain": [
              "(10, 20, 30, 40, 50)"
            ]
          },
          "execution_count": 67,
          "metadata": {},
          "output_type": "execute_result"
        }
      ],
      "source": [
        "tup1"
      ]
    },
    {
      "cell_type": "code",
      "execution_count": null,
      "metadata": {
        "id": "WubXvei-tfYN",
        "outputId": "31e900da-7749-4214-abe4-b3a541da0d7b"
      },
      "outputs": [
        {
          "data": {
            "text/plain": [
              "40"
            ]
          },
          "execution_count": 73,
          "metadata": {},
          "output_type": "execute_result"
        }
      ],
      "source": [
        "tup1[3] # 3 refers to the index position. Index pos. starts from 0."
      ]
    },
    {
      "cell_type": "code",
      "execution_count": null,
      "metadata": {
        "id": "JPCZTYv6tfYN",
        "outputId": "146c8454-d90d-42fa-db8e-96a7a8e24aed"
      },
      "outputs": [
        {
          "data": {
            "text/plain": [
              "50"
            ]
          },
          "execution_count": 71,
          "metadata": {},
          "output_type": "execute_result"
        }
      ],
      "source": [
        "tup1[-1]"
      ]
    },
    {
      "cell_type": "markdown",
      "metadata": {
        "id": "bWE_DEJgtfYN"
      },
      "source": [
        "## Slicing"
      ]
    },
    {
      "cell_type": "code",
      "execution_count": null,
      "metadata": {
        "id": "NxoiTGChtfYN"
      },
      "outputs": [],
      "source": [
        "str1 = 'hello world'"
      ]
    },
    {
      "cell_type": "code",
      "execution_count": null,
      "metadata": {
        "id": "WrV-ibUgtfYN",
        "outputId": "3b636b06-f761-4263-b19a-3bc44816b450"
      },
      "outputs": [
        {
          "data": {
            "text/plain": [
              "'el'"
            ]
          },
          "execution_count": 8,
          "metadata": {},
          "output_type": "execute_result"
        }
      ],
      "source": [
        "str1[1:3] #want index pos 1 to 3. "
      ]
    },
    {
      "cell_type": "code",
      "execution_count": null,
      "metadata": {
        "id": "_HKeSb3WtfYO",
        "outputId": "225fd339-fc0b-449c-91c3-275aa06cb1c7"
      },
      "outputs": [
        {
          "data": {
            "text/plain": [
              "'hello'"
            ]
          },
          "execution_count": 9,
          "metadata": {},
          "output_type": "execute_result"
        }
      ],
      "source": [
        "str1[0:5]"
      ]
    },
    {
      "cell_type": "code",
      "execution_count": null,
      "metadata": {
        "id": "EfsIVkjstfYO",
        "outputId": "81b07be0-5a5e-415d-f01d-a1312e373bad"
      },
      "outputs": [
        {
          "data": {
            "text/plain": [
              "[1, 2, 3, 4, 5, 'abc']"
            ]
          },
          "execution_count": 10,
          "metadata": {},
          "output_type": "execute_result"
        }
      ],
      "source": [
        "list1"
      ]
    },
    {
      "cell_type": "code",
      "execution_count": null,
      "metadata": {
        "id": "tvtyIoVktfYO",
        "outputId": "20ab7561-b251-4b8d-918e-389b7a291812"
      },
      "outputs": [
        {
          "data": {
            "text/plain": [
              "[2, 3]"
            ]
          },
          "execution_count": 75,
          "metadata": {},
          "output_type": "execute_result"
        }
      ],
      "source": [
        "list1[1:3] #start index pos is included, end pos is Not"
      ]
    },
    {
      "cell_type": "code",
      "execution_count": null,
      "metadata": {
        "id": "bqSa4rRAtfYO",
        "outputId": "9564ac6d-107f-4c7b-93d5-848954037e08"
      },
      "outputs": [
        {
          "data": {
            "text/plain": [
              "[1, 2, 3, 4]"
            ]
          },
          "execution_count": 76,
          "metadata": {},
          "output_type": "execute_result"
        }
      ],
      "source": [
        "list1[:4] # if u omit starting pos, it means from index 0"
      ]
    },
    {
      "cell_type": "code",
      "execution_count": null,
      "metadata": {
        "id": "HC4zSVlrtfYO"
      },
      "outputs": [],
      "source": [
        "list1[:]"
      ]
    },
    {
      "cell_type": "code",
      "execution_count": null,
      "metadata": {
        "id": "LEcbtLEFtfYO"
      },
      "outputs": [],
      "source": [
        "list_new = ['apple', 'banana', 'abc', 123, 'spam', 'python']"
      ]
    },
    {
      "cell_type": "code",
      "execution_count": null,
      "metadata": {
        "id": "F-IDrQnotfYO",
        "outputId": "dfe096fc-1e83-4964-b53f-6fa13de994ab"
      },
      "outputs": [
        {
          "data": {
            "text/plain": [
              "['banana', 'abc', 123]"
            ]
          },
          "execution_count": 24,
          "metadata": {},
          "output_type": "execute_result"
        }
      ],
      "source": [
        "list_new[1:4] "
      ]
    },
    {
      "cell_type": "code",
      "execution_count": null,
      "metadata": {
        "id": "5SUmQjPRtfYO",
        "outputId": "a799c823-2b34-4559-8804-b570fe6b2dc4"
      },
      "outputs": [
        {
          "data": {
            "text/plain": [
              "['banana', 123]"
            ]
          },
          "execution_count": 25,
          "metadata": {},
          "output_type": "execute_result"
        }
      ],
      "source": [
        "list_new[1:4:2] # index pos of \"banana\" + 2"
      ]
    },
    {
      "cell_type": "code",
      "execution_count": null,
      "metadata": {
        "id": "vbonel1OtfYP",
        "outputId": "dde38c3b-57fe-45fc-dd47-90b19c3328d9"
      },
      "outputs": [
        {
          "data": {
            "text/plain": [
              "[2, 4]"
            ]
          },
          "execution_count": 11,
          "metadata": {},
          "output_type": "execute_result"
        }
      ],
      "source": [
        "list1[1:4:2] # start pos: end pos: step_size"
      ]
    },
    {
      "cell_type": "code",
      "execution_count": null,
      "metadata": {
        "id": "GI1cOswptfYP",
        "outputId": "51d7e670-dd70-467d-8bc8-0fab222f59a1"
      },
      "outputs": [
        {
          "data": {
            "text/plain": [
              "[1, 2, 3, 4, 5, 'abc']"
            ]
          },
          "execution_count": 14,
          "metadata": {},
          "output_type": "execute_result"
        }
      ],
      "source": [
        "list1"
      ]
    },
    {
      "cell_type": "code",
      "execution_count": null,
      "metadata": {
        "id": "0_6hKOoRtfYP",
        "outputId": "e2cc250e-97f1-4150-f08e-b309efc38947"
      },
      "outputs": [
        {
          "data": {
            "text/plain": [
              "[1, 3, 5]"
            ]
          },
          "execution_count": 13,
          "metadata": {},
          "output_type": "execute_result"
        }
      ],
      "source": [
        "list1[::2]"
      ]
    },
    {
      "cell_type": "code",
      "execution_count": null,
      "metadata": {
        "id": "5x-ziGFetfYP",
        "outputId": "6f7c6c46-921a-4f1e-ca67-bc2ec2647356"
      },
      "outputs": [
        {
          "data": {
            "text/plain": [
              "['abc', 5, 4, 3, 2, 1]"
            ]
          },
          "execution_count": 28,
          "metadata": {},
          "output_type": "execute_result"
        }
      ],
      "source": [
        "list1[::-1] # step size : -1, reversing the order in a list"
      ]
    },
    {
      "cell_type": "code",
      "execution_count": null,
      "metadata": {
        "id": "HlPo9b-XtfYP",
        "outputId": "58b642c1-0988-49ed-ac9b-1c928240cd19"
      },
      "outputs": [
        {
          "data": {
            "text/plain": [
              "'Welcome'"
            ]
          },
          "execution_count": 29,
          "metadata": {},
          "output_type": "execute_result"
        }
      ],
      "source": [
        "str1=\"Welcome\"\n",
        "str1"
      ]
    },
    {
      "cell_type": "code",
      "execution_count": null,
      "metadata": {
        "id": "BwwNDKj2tfYP",
        "outputId": "f9a317f8-1bf8-410e-de6f-3d9064487dbb"
      },
      "outputs": [
        {
          "data": {
            "text/plain": [
              "'emocleW'"
            ]
          },
          "execution_count": 30,
          "metadata": {},
          "output_type": "execute_result"
        }
      ],
      "source": [
        "str1[::-1] "
      ]
    },
    {
      "cell_type": "code",
      "execution_count": null,
      "metadata": {
        "id": "v30BvXlWtfYP",
        "outputId": "1e48ee25-9029-4f0e-f8d4-2e86b31a384d"
      },
      "outputs": [
        {
          "data": {
            "text/plain": [
              "[(0, 'W'), (1, 'e'), (2, 'l'), (3, 'c'), (4, 'o'), (5, 'm'), (6, 'e')]"
            ]
          },
          "execution_count": 33,
          "metadata": {},
          "output_type": "execute_result"
        }
      ],
      "source": [
        "list(enumerate(str1))"
      ]
    },
    {
      "cell_type": "code",
      "execution_count": null,
      "metadata": {
        "id": "haIVQjTytfYP",
        "outputId": "a2f626af-eea0-4b91-8027-9fd2445bd0d6"
      },
      "outputs": [
        {
          "data": {
            "text/plain": [
              "[(0, 'apple'), (1, 'banana'), (2, 'abc'), (3, 123), (4, 'spam'), (5, 'python')]"
            ]
          },
          "execution_count": 35,
          "metadata": {},
          "output_type": "execute_result"
        }
      ],
      "source": [
        "list(enumerate(list_new)) "
      ]
    },
    {
      "cell_type": "markdown",
      "metadata": {
        "id": "qXcVSKF5tfYQ"
      },
      "source": [
        "This is a new topic - Iterables"
      ]
    },
    {
      "cell_type": "code",
      "execution_count": null,
      "metadata": {
        "id": "xALnxMS9tfYQ"
      },
      "outputs": [],
      "source": [
        ""
      ]
    }
  ],
  "metadata": {
    "kernelspec": {
      "display_name": "Python 3 (ipykernel)",
      "language": "python",
      "name": "python3"
    },
    "language_info": {
      "codemirror_mode": {
        "name": "ipython",
        "version": 3
      },
      "file_extension": ".py",
      "mimetype": "text/x-python",
      "name": "python",
      "nbconvert_exporter": "python",
      "pygments_lexer": "ipython3",
      "version": "3.9.12"
    },
    "colab": {
      "name": "Python1stday.ipynb",
      "provenance": [],
      "collapsed_sections": [
        "xO2gCvFytfYL",
        "bWE_DEJgtfYN"
      ],
      "include_colab_link": true
    }
  },
  "nbformat": 4,
  "nbformat_minor": 0
}