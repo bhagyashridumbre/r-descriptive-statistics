{
  "nbformat": 4,
  "nbformat_minor": 0,
  "metadata": {
    "colab": {
      "name": "Python Anonymous/Lambda function.ipynb",
      "provenance": [],
      "collapsed_sections": [],
      "authorship_tag": "ABX9TyPAu99H0OWTn6/otqJYLh6d",
      "include_colab_link": true
    },
    "kernelspec": {
      "name": "python3",
      "display_name": "Python 3"
    },
    "language_info": {
      "name": "python"
    }
  },
  "cells": [
    {
      "cell_type": "markdown",
      "metadata": {
        "id": "view-in-github",
        "colab_type": "text"
      },
      "source": [
        "<a href=\"https://colab.research.google.com/github/bhagyashridumbre/r-descriptive-statistics/blob/main/Python_Anonymous_Lambda_function.ipynb\" target=\"_parent\"><img src=\"https://colab.research.google.com/assets/colab-badge.svg\" alt=\"Open In Colab\"/></a>"
      ]
    },
    {
      "cell_type": "markdown",
      "source": [
        "Lambda functions\n"
      ],
      "metadata": {
        "id": "EO8CDU5aE_Kt"
      }
    },
    {
      "cell_type": "code",
      "execution_count": 1,
      "metadata": {
        "colab": {
          "base_uri": "https://localhost:8080/"
        },
        "id": "AGsdhvmpE9v9",
        "outputId": "9f24eb21-db06-4650-c052-d148ff0e9105"
      },
      "outputs": [
        {
          "output_type": "execute_result",
          "data": {
            "text/plain": [
              "<function __main__.<lambda>(arguments)>"
            ]
          },
          "metadata": {},
          "execution_count": 1
        }
      ],
      "source": [
        "# In Python, an anonymous function is a function that is defined without a name\n",
        "# anonymous functions are defined using the lambda keyword.\n",
        "# Lambda functions can be used wherever function objects are required.\n",
        "# syntax\n",
        "lambda arguments: expression\n"
      ]
    },
    {
      "cell_type": "code",
      "source": [
        "# Program to show the use of lambda functions\n",
        "double = lambda x: x * 2\n",
        "print(double(5))"
      ],
      "metadata": {
        "colab": {
          "base_uri": "https://localhost:8080/"
        },
        "id": "ygrb9E7ZFklF",
        "outputId": "fcfe0ff3-5da5-46ba-82da-02edb9e51ac3"
      },
      "execution_count": 3,
      "outputs": [
        {
          "output_type": "stream",
          "name": "stdout",
          "text": [
            "10\n"
          ]
        }
      ]
    },
    {
      "cell_type": "code",
      "source": [
        "# double = lambda x: x * 2\n",
        "# is nearly same as\n",
        "# def double(x):\n",
        "   #return x * 2"
      ],
      "metadata": {
        "id": "nqbUhjD2FotQ"
      },
      "execution_count": null,
      "outputs": []
    },
    {
      "cell_type": "code",
      "source": [
        "# use of lamda function\n",
        "# We use lambda functions when we require a nameless function for a short period of time.\n",
        "#  Lambda functions are used along with built-in functions like filter(), map()\n",
        "# filter() function to filter out only even numbers from a list."
      ],
      "metadata": {
        "id": "uEm_qiNFF45m"
      },
      "execution_count": null,
      "outputs": []
    },
    {
      "cell_type": "code",
      "source": [
        "# Program to filter out only the even items from a list\n",
        "my_list = [1, 5, 4, 6, 8, 11, 3, 12]\n",
        "new_list = list(filter(lambda x: (x%2 == 0) , my_list))\n",
        "print(new_list)"
      ],
      "metadata": {
        "colab": {
          "base_uri": "https://localhost:8080/"
        },
        "id": "AqXYnw0EGQoH",
        "outputId": "b92b7f79-0386-470d-f499-a248ff664968"
      },
      "execution_count": 4,
      "outputs": [
        {
          "output_type": "stream",
          "name": "stdout",
          "text": [
            "[4, 6, 8, 12]\n"
          ]
        }
      ]
    },
    {
      "cell_type": "code",
      "source": [
        "# The map() function in Python takes in a function and a list.\n",
        "# map() function to double all the items in a list.\n",
        "# Program to double each item in a list using map()\n",
        "my_list = [1, 5, 4, 6, 8, 11, 3, 12]\n",
        "new_list = list(map(lambda x: x * 2 , my_list))\n",
        "print(new_list)"
      ],
      "metadata": {
        "colab": {
          "base_uri": "https://localhost:8080/"
        },
        "id": "TzdL5ZbRGoL2",
        "outputId": "de12683c-b998-49e2-8289-451f60cb404f"
      },
      "execution_count": 5,
      "outputs": [
        {
          "output_type": "stream",
          "name": "stdout",
          "text": [
            "[2, 10, 8, 12, 16, 22, 6, 24]\n"
          ]
        }
      ]
    }
  ]
}