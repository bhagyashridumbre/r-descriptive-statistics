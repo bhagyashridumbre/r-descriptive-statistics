{
  "nbformat": 4,
  "nbformat_minor": 0,
  "metadata": {
    "colab": {
      "name": "Python_loops.ipynb",
      "provenance": [],
      "collapsed_sections": [],
      "authorship_tag": "ABX9TyOxf/cew0MVwV5F/kA0s76r",
      "include_colab_link": true
    },
    "kernelspec": {
      "name": "python3",
      "display_name": "Python 3"
    },
    "language_info": {
      "name": "python"
    }
  },
  "cells": [
    {
      "cell_type": "markdown",
      "metadata": {
        "id": "view-in-github",
        "colab_type": "text"
      },
      "source": [
        "<a href=\"https://colab.research.google.com/github/bhagyashridumbre/r-descriptive-statistics/blob/main/Python_loops.ipynb\" target=\"_parent\"><img src=\"https://colab.research.google.com/assets/colab-badge.svg\" alt=\"Open In Colab\"/></a>"
      ]
    },
    {
      "cell_type": "code",
      "execution_count": null,
      "metadata": {
        "id": "twAk1N06o6oT"
      },
      "outputs": [],
      "source": [
        "# Loops are used in programming to repeat a specific block of code"
      ]
    },
    {
      "cell_type": "markdown",
      "source": [
        "Python Flow control"
      ],
      "metadata": {
        "id": "9Z7Yc5_oo_-p"
      }
    },
    {
      "cell_type": "code",
      "source": [
        "# The if…elif…else statement is used in Python for decision making.\n",
        "# If the number is positive, we print an appropriate message\n",
        "\n",
        "num = 3\n",
        "if num > 0:\n",
        "    print(num, \"is a positive number.\")\n",
        "print(\"This is always printed.\")\n",
        "\n"
      ],
      "metadata": {
        "colab": {
          "base_uri": "https://localhost:8080/"
        },
        "id": "JZUPBvVBwT0o",
        "outputId": "95b896e6-47ce-4694-db5a-6f5a98b96f74"
      },
      "execution_count": 4,
      "outputs": [
        {
          "output_type": "stream",
          "name": "stdout",
          "text": [
            "3 is a positive number.\n",
            "This is always printed.\n"
          ]
        }
      ]
    },
    {
      "cell_type": "code",
      "source": [
        "num = -1\n",
        "if num > 0:\n",
        "    print(num, \"is a positive number.\")\n",
        "print(\"This is also always printed.\")"
      ],
      "metadata": {
        "colab": {
          "base_uri": "https://localhost:8080/"
        },
        "id": "sA8YNEz2wnjr",
        "outputId": "d73598a7-6260-4cbb-f57a-f8068364c940"
      },
      "execution_count": 5,
      "outputs": [
        {
          "output_type": "stream",
          "name": "stdout",
          "text": [
            "This is also always printed.\n"
          ]
        }
      ]
    },
    {
      "cell_type": "markdown",
      "source": [
        "Python if...else **Statement**"
      ],
      "metadata": {
        "id": "TpRaPQm1w-B7"
      }
    },
    {
      "cell_type": "code",
      "source": [
        "num = 3\n",
        "if num >= 0:\n",
        "  print(\"Positive or zero\")\n",
        "else:\n",
        "  print(\"Negative Number\")"
      ],
      "metadata": {
        "colab": {
          "base_uri": "https://localhost:8080/"
        },
        "id": "SnIL6UZlxB0n",
        "outputId": "7b4cbf33-5584-489f-d4ff-d98b2901a93a"
      },
      "execution_count": 6,
      "outputs": [
        {
          "output_type": "stream",
          "name": "stdout",
          "text": [
            "Positive or zero\n"
          ]
        }
      ]
    },
    {
      "cell_type": "markdown",
      "source": [
        "If....elif...else statement"
      ],
      "metadata": {
        "id": "RYybq1LQxf9_"
      }
    },
    {
      "cell_type": "code",
      "source": [
        "num = 3.4\n",
        "if num > 0:\n",
        "  print(\"Positive number\")\n",
        "elif num == 0:\n",
        "  print(\"Zero\")\n",
        "else:\n",
        "  print(\"Negative number\")"
      ],
      "metadata": {
        "colab": {
          "base_uri": "https://localhost:8080/"
        },
        "id": "3rEwrdtmxYz6",
        "outputId": "3617b5ea-f8a0-4213-b2a2-6b15d2047823"
      },
      "execution_count": 7,
      "outputs": [
        {
          "output_type": "stream",
          "name": "stdout",
          "text": [
            "Positive number\n"
          ]
        }
      ]
    },
    {
      "cell_type": "markdown",
      "source": [
        "Python Nested if statement"
      ],
      "metadata": {
        "id": "lANNgvW9yCQu"
      }
    },
    {
      "cell_type": "code",
      "source": [
        "number = float(input(\"Enter a number: \"))\n",
        "if num >= 0:\n",
        "  if num == 0:\n",
        "    print(\"Zero\")\n",
        "  else:\n",
        "    print(\"Positive number\")\n",
        "else:\n",
        "  print(\"Negative number\")"
      ],
      "metadata": {
        "colab": {
          "base_uri": "https://localhost:8080/"
        },
        "id": "ErAyfowUyF5A",
        "outputId": "380b8666-3d10-4722-d0d4-c0bb69ae159b"
      },
      "execution_count": 8,
      "outputs": [
        {
          "output_type": "stream",
          "name": "stdout",
          "text": [
            "Enter a number: 10.10\n",
            "Positive number\n"
          ]
        }
      ]
    },
    {
      "cell_type": "markdown",
      "source": [
        "Python for loop\n"
      ],
      "metadata": {
        "id": "mc65V44JyqhI"
      }
    },
    {
      "cell_type": "code",
      "source": [
        "# The for loop in Python is used to iterate over a sequence (list, tuple, string) or other iterable objects. Iterating over a sequence is called traversal.\n"
      ],
      "metadata": {
        "id": "EluWZlMpyp4h"
      },
      "execution_count": null,
      "outputs": []
    },
    {
      "cell_type": "code",
      "source": [
        "numbers = [6,5,4,3,2,1,8,9,10] # list of numbers\n",
        "sum = 0 # variable to store the sum\n",
        "# Iterate over the list\n",
        "for val in numbers:\n",
        "  sum = sum + val\n",
        "print(\"The sum is:\", sum)"
      ],
      "metadata": {
        "colab": {
          "base_uri": "https://localhost:8080/"
        },
        "id": "xMKtS4CHy4qz",
        "outputId": "3b13dd2b-aa9e-4925-e439-adb8555aea9d"
      },
      "execution_count": 9,
      "outputs": [
        {
          "output_type": "stream",
          "name": "stdout",
          "text": [
            "The sum is: 48\n"
          ]
        }
      ]
    },
    {
      "cell_type": "markdown",
      "source": [
        "Range function"
      ],
      "metadata": {
        "id": "jXPsqtfjzodZ"
      }
    },
    {
      "cell_type": "code",
      "source": [
        "# using range() function. range(10) will generate numbers from 0 to 9 (10 numbers).\n",
        "# range(start, stop,step_size)\n",
        "# it supports in, len and __getitem__ operations.\n",
        "print(range(10))\n",
        "print(list(range(10)))\n",
        "print(list(range(2, 8)))\n",
        "print(list(range(2, 20, 3)))\n",
        "\n"
      ],
      "metadata": {
        "colab": {
          "base_uri": "https://localhost:8080/"
        },
        "id": "mTw8ITjXzsGM",
        "outputId": "ae850b27-68e6-49d3-d8c5-e74882d6ab51"
      },
      "execution_count": 10,
      "outputs": [
        {
          "output_type": "stream",
          "name": "stdout",
          "text": [
            "range(0, 10)\n",
            "[0, 1, 2, 3, 4, 5, 6, 7, 8, 9]\n",
            "[2, 3, 4, 5, 6, 7]\n",
            "[2, 5, 8, 11, 14, 17]\n"
          ]
        }
      ]
    },
    {
      "cell_type": "code",
      "source": [
        "# Program to iterate through a list using indexing\n",
        "genre = ['pop', 'rock', 'jazz']\n",
        "# iterate over the list using index\n",
        "for i in range(len(genre)):\n",
        "    print(\"I like\", genre[i])"
      ],
      "metadata": {
        "colab": {
          "base_uri": "https://localhost:8080/"
        },
        "id": "STAJ9xAXzvgc",
        "outputId": "e7baf79e-87c8-4290-bb7f-f560e3c0a1d2"
      },
      "execution_count": 11,
      "outputs": [
        {
          "output_type": "stream",
          "name": "stdout",
          "text": [
            "I like pop\n",
            "I like rock\n",
            "I like jazz\n"
          ]
        }
      ]
    },
    {
      "cell_type": "markdown",
      "source": [
        "for loop with else"
      ],
      "metadata": {
        "id": "iNOrXypy0hDY"
      }
    },
    {
      "cell_type": "code",
      "source": [
        "# A for loop can have an optional else block as well. The else part is executed if the items in the sequence used in for loop exhausts.\n",
        "# The break keyword can be used to stop a for loop. In such cases, the else part is ignored.\n",
        "digits = [0,1,5]\n",
        "for i in digits:\n",
        "  print(i)\n",
        "else:\n",
        "  print(\"No items left.\")"
      ],
      "metadata": {
        "colab": {
          "base_uri": "https://localhost:8080/"
        },
        "id": "rqJWibWf0lPa",
        "outputId": "46b8c57a-7b5e-4f5a-895a-5dab07449336"
      },
      "execution_count": 12,
      "outputs": [
        {
          "output_type": "stream",
          "name": "stdout",
          "text": [
            "0\n",
            "1\n",
            "5\n",
            "No items left.\n"
          ]
        }
      ]
    },
    {
      "cell_type": "code",
      "source": [
        "# program to display student's marks from record\n",
        "student_name = 'Soyuj'\n",
        "marks = {'James': 90, 'Jules': 55, 'Arthur': 77}\n",
        "for student in marks:\n",
        "    if student == student_name:\n",
        "        print(marks[student])\n",
        "        break\n",
        "else:\n",
        "    print('No entry with that name found.')"
      ],
      "metadata": {
        "colab": {
          "base_uri": "https://localhost:8080/"
        },
        "id": "DINF9yjg1Ems",
        "outputId": "19cd65ff-264a-4bb6-cc34-a4ee1fbae76c"
      },
      "execution_count": 15,
      "outputs": [
        {
          "output_type": "stream",
          "name": "stdout",
          "text": [
            "No entry with that name found.\n"
          ]
        }
      ]
    },
    {
      "cell_type": "markdown",
      "source": [
        "Python While loop"
      ],
      "metadata": {
        "id": "nu55tb7k1qNK"
      }
    },
    {
      "cell_type": "code",
      "source": [
        "# The while loop in Python is used to iterate over a block of code as long as the test expression (condition) is true.\n",
        "# We generally use this loop when we don't know the number of times to iterate beforehand.\n",
        "# Program to add natural\n",
        "# numbers up to \n",
        "# sum = 1+2+3+...+n\n",
        "# To take input from the user,\n",
        "# n = int(input(\"Enter n: \"))\n",
        "\n",
        "n = 10\n",
        "# initialize sum and counter\n",
        "sum = 0\n",
        "i = 1\n",
        "while i <= n:\n",
        "    sum = sum + i\n",
        "    i = i+1    # update counter\n",
        "# print the sum\n",
        "print(\"The sum is\", sum)"
      ],
      "metadata": {
        "colab": {
          "base_uri": "https://localhost:8080/"
        },
        "id": "O5qpxmfY1z-3",
        "outputId": "262690d0-84e1-431f-93f3-c4f63e948441"
      },
      "execution_count": 16,
      "outputs": [
        {
          "output_type": "stream",
          "name": "stdout",
          "text": [
            "The sum is 55\n"
          ]
        }
      ]
    },
    {
      "cell_type": "code",
      "source": [
        "# We need to increase the value of the counter variable in the body of the loop. This is very important (and mostly forgotten). Failing to do so will result in an infinite loop (never-ending loop)."
      ],
      "metadata": {
        "id": "ysx_UpYc2a0Y"
      },
      "execution_count": null,
      "outputs": []
    },
    {
      "cell_type": "markdown",
      "source": [
        "While loop with else"
      ],
      "metadata": {
        "id": "RAqvDGaJ2fCQ"
      }
    },
    {
      "cell_type": "code",
      "source": [
        "'''Example to illustrate the use of else statement with the while loop'''\n",
        "counter = 0\n",
        "while counter < 3:\n",
        "    print(\"Inside loop\")\n",
        "    counter = counter + 1\n",
        "else:\n",
        "    print(\"Inside else\")"
      ],
      "metadata": {
        "colab": {
          "base_uri": "https://localhost:8080/"
        },
        "id": "u5-nwcUJ2dW7",
        "outputId": "0db39c6f-9f74-4a67-d595-61485a76f3d7"
      },
      "execution_count": 17,
      "outputs": [
        {
          "output_type": "stream",
          "name": "stdout",
          "text": [
            "Inside loop\n",
            "Inside loop\n",
            "Inside loop\n",
            "Inside else\n"
          ]
        }
      ]
    }
  ]
}