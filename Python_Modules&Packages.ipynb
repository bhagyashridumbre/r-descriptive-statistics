{
  "nbformat": 4,
  "nbformat_minor": 0,
  "metadata": {
    "colab": {
      "name": "Python Modules&Packages.ipynb",
      "provenance": [],
      "collapsed_sections": [],
      "authorship_tag": "ABX9TyMfLxUtjsL26xo7M1/80qbA",
      "include_colab_link": true
    },
    "kernelspec": {
      "name": "python3",
      "display_name": "Python 3"
    },
    "language_info": {
      "name": "python"
    }
  },
  "cells": [
    {
      "cell_type": "markdown",
      "metadata": {
        "id": "view-in-github",
        "colab_type": "text"
      },
      "source": [
        "<a href=\"https://colab.research.google.com/github/bhagyashridumbre/r-descriptive-statistics/blob/main/Python_Modules%26Packages.ipynb\" target=\"_parent\"><img src=\"https://colab.research.google.com/assets/colab-badge.svg\" alt=\"Open In Colab\"/></a>"
      ]
    },
    {
      "cell_type": "markdown",
      "source": [
        "Python Modules"
      ],
      "metadata": {
        "id": "qe09HENLmHNf"
      }
    },
    {
      "cell_type": "code",
      "execution_count": null,
      "metadata": {
        "id": "WVclvgG_kQ_w"
      },
      "outputs": [],
      "source": [
        "# you will learn to create and import custom modules in Python\n",
        "# you will find different techniques to import and use custom and built-in modules in Python.\n",
        "# We use modules to break down large programs into small manageable and organized files\n"
      ]
    },
    {
      "cell_type": "code",
      "source": [
        "# save it as example.py\n",
        "# Python Module example\n",
        "def add(a, b):\n",
        "   \"\"\"This program adds two\n",
        "   numbers and return the result\"\"\"\n",
        "   result = a + b\n",
        "   return result"
      ],
      "metadata": {
        "id": "tYchaTAemG63"
      },
      "execution_count": 1,
      "outputs": []
    },
    {
      "cell_type": "markdown",
      "source": [
        "How to import modules in python"
      ],
      "metadata": {
        "id": "6OE9wxG9myG3"
      }
    },
    {
      "cell_type": "code",
      "source": [
        "# To import our previously defined module example, we type the following in the Python prompt.\n",
        "import example\n",
        "example.add(4,5.5)"
      ],
      "metadata": {
        "id": "G4rqVO6Qm7tj"
      },
      "execution_count": null,
      "outputs": []
    },
    {
      "cell_type": "code",
      "source": [
        "# import statement example\n",
        "# to import standard module math\n",
        "import math\n",
        "print(\"The value of pi is\", math.pi)"
      ],
      "metadata": {
        "id": "hjhgfVeBnRP0"
      },
      "execution_count": null,
      "outputs": []
    },
    {
      "cell_type": "code",
      "source": [
        "# import module by renaming it\n",
        "import math as m\n",
        "print(\"The value of pi is\", m.pi)"
      ],
      "metadata": {
        "id": "AlTaqkL5nWbh"
      },
      "execution_count": null,
      "outputs": []
    },
    {
      "cell_type": "code",
      "source": [
        "# import only pi from math module\n",
        "from math import pi\n",
        "print(\"The value of pi is\", pi)"
      ],
      "metadata": {
        "id": "I34hKcoRnfj1"
      },
      "execution_count": null,
      "outputs": []
    },
    {
      "cell_type": "code",
      "source": [
        "from math import pi, e\n",
        "pi,e"
      ],
      "metadata": {
        "colab": {
          "base_uri": "https://localhost:8080/"
        },
        "id": "dHyTf_n9nlWp",
        "outputId": "0a9c6d46-7fda-4e0d-bd6e-74062d60a759"
      },
      "execution_count": 5,
      "outputs": [
        {
          "output_type": "execute_result",
          "data": {
            "text/plain": [
              "(3.141592653589793, 2.718281828459045)"
            ]
          },
          "metadata": {},
          "execution_count": 5
        }
      ]
    },
    {
      "cell_type": "markdown",
      "source": [
        "import all names\n",
        "We can import all names(definitions) from a module\n"
      ],
      "metadata": {
        "id": "Rkl4pFBKnwMh"
      }
    },
    {
      "cell_type": "code",
      "source": [
        "# import all names from the standard module math\n",
        "from math import *\n",
        "print(\"The value of pi is\", pi)"
      ],
      "metadata": {
        "colab": {
          "base_uri": "https://localhost:8080/"
        },
        "id": "RLtqZd9cn-ZZ",
        "outputId": "77f6aab4-86ef-47a0-fe28-61dd25d122c8"
      },
      "execution_count": 6,
      "outputs": [
        {
          "output_type": "stream",
          "name": "stdout",
          "text": [
            "The value of pi is 3.141592653589793\n"
          ]
        }
      ]
    },
    {
      "cell_type": "markdown",
      "source": [
        "Python module search path"
      ],
      "metadata": {
        "id": "TpVeGJAdoJQC"
      }
    },
    {
      "cell_type": "code",
      "source": [
        "# While importing a module, Python looks at several places. Interpreter first looks for a built-in module. Then(if built-in module not found), Python looks into a list of directories defined in sys.path.\n",
        "# import path\n",
        "# sys.path\n"
      ],
      "metadata": {
        "id": "_AuCcZLwoI4b"
      },
      "execution_count": null,
      "outputs": []
    },
    {
      "cell_type": "markdown",
      "source": [
        "The dir() built-in function"
      ],
      "metadata": {
        "id": "ifwIiLDlotmj"
      }
    },
    {
      "cell_type": "code",
      "source": [
        "# We can use the dir() function to find out names that are defined inside a module\n",
        "dir(list)\n",
        "dir()"
      ],
      "metadata": {
        "id": "uF2P-0mlovjX"
      },
      "execution_count": null,
      "outputs": []
    },
    {
      "cell_type": "markdown",
      "source": [
        "Python Packages\n",
        "\"Python has packages for directories and modules for files.\"\n",
        "\n"
      ],
      "metadata": {
        "id": "a0lPiygtpaQG"
      }
    },
    {
      "cell_type": "code",
      "source": [
        "# A directory must contain a file named __init__.py in order for Python to consider it as a package\n",
        "# Importing module from a package\n",
        "# We can import modules from packages using the dot (.) operator\n",
        "# import Game.Level.start\n",
        "# from Game.Level import start\n",
        "\n"
      ],
      "metadata": {
        "id": "SFaTUke3pxd0"
      },
      "execution_count": null,
      "outputs": []
    }
  ]
}