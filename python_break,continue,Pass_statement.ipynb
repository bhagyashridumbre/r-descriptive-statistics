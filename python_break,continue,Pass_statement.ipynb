{
  "nbformat": 4,
  "nbformat_minor": 0,
  "metadata": {
    "colab": {
      "name": "python break,continue,Pass statement.ipynb",
      "provenance": [],
      "collapsed_sections": [],
      "authorship_tag": "ABX9TyOzZkRIQGzyIPM2cM4gWAph",
      "include_colab_link": true
    },
    "kernelspec": {
      "name": "python3",
      "display_name": "Python 3"
    },
    "language_info": {
      "name": "python"
    }
  },
  "cells": [
    {
      "cell_type": "markdown",
      "metadata": {
        "id": "view-in-github",
        "colab_type": "text"
      },
      "source": [
        "<a href=\"https://colab.research.google.com/github/bhagyashridumbre/r-descriptive-statistics/blob/main/python_break%2Ccontinue%2CPass_statement.ipynb\" target=\"_parent\"><img src=\"https://colab.research.google.com/assets/colab-badge.svg\" alt=\"Open In Colab\"/></a>"
      ]
    },
    {
      "cell_type": "code",
      "execution_count": 1,
      "metadata": {
        "colab": {
          "base_uri": "https://localhost:8080/",
          "height": 35
        },
        "id": "5uTnP7JF3EBL",
        "outputId": "2754bd07-d0bf-44d0-f54d-4f4bf12608b7"
      },
      "outputs": [
        {
          "output_type": "execute_result",
          "data": {
            "text/plain": [
              "' but sometimes we wish to terminate the current iteration or even the whole loop without checking test expression.'"
            ],
            "application/vnd.google.colaboratory.intrinsic+json": {
              "type": "string"
            }
          },
          "metadata": {},
          "execution_count": 1
        }
      ],
      "source": [
        "\"\"\" Python, break and continue statements can alter the flow of a normal loop.\"\"\"\n",
        "\"\"\" Loops iterate over a block of code until the test expression is false\"\"\"\n",
        "\"\"\" but sometimes we wish to terminate the current iteration or even the whole loop without checking test expression.\"\"\""
      ]
    },
    {
      "cell_type": "code",
      "source": [
        "for var in sequence:\n",
        "  # codes inside for loop\n",
        "  if condition:\n",
        "    break\n",
        "  # codes inside for loop\n",
        "# codes outside for loop"
      ],
      "metadata": {
        "id": "Hx_4UJ3J3kYp"
      },
      "execution_count": null,
      "outputs": []
    },
    {
      "cell_type": "code",
      "source": [
        "while test expression:\n",
        "  # codes inside while loop\n",
        "  if condition:\n",
        "    break\n",
        "  # codes inside while loop\n",
        "# codes outside while loop"
      ],
      "metadata": {
        "id": "MnsOTmVh4Lq6"
      },
      "execution_count": null,
      "outputs": []
    },
    {
      "cell_type": "markdown",
      "source": [
        "Python Break"
      ],
      "metadata": {
        "id": "BAxvqa8N4dEx"
      }
    },
    {
      "cell_type": "code",
      "source": [
        "# use break statement inside the loop\n",
        "for val in \"string\":\n",
        "  if val == \"i\":\n",
        "    break\n",
        "  print(val)\n",
        "print(\"The end\")"
      ],
      "metadata": {
        "colab": {
          "base_uri": "https://localhost:8080/"
        },
        "id": "ESzUL5u24bfY",
        "outputId": "85abe2d1-b29c-4c11-d59c-dd71f51be6c9"
      },
      "execution_count": 3,
      "outputs": [
        {
          "output_type": "stream",
          "name": "stdout",
          "text": [
            "s\n",
            "t\n",
            "r\n",
            "The end\n"
          ]
        }
      ]
    },
    {
      "cell_type": "markdown",
      "source": [
        "Python Continue Statement"
      ],
      "metadata": {
        "id": "ErcVFcfg46yn"
      }
    },
    {
      "cell_type": "code",
      "source": [
        "# The continue statement is used to skip the rest of the code inside a loop for the current iteration only. Loop does not terminate but continues on with the next iteration.\n"
      ],
      "metadata": {
        "id": "NZtwhDrX42Pr"
      },
      "execution_count": null,
      "outputs": []
    },
    {
      "cell_type": "code",
      "source": [
        "# for var in sequence:\n",
        "  # codes inside for loop\n",
        "  #if condition:\n",
        "    #continue\n",
        "  # codes inside for loop\n",
        "# codes outside for loop \n"
      ],
      "metadata": {
        "id": "tGweR2xP5G4z"
      },
      "execution_count": null,
      "outputs": []
    },
    {
      "cell_type": "code",
      "source": [
        "#while test expression:\n",
        "  #codes inside while loop\n",
        "  #if condition:\n",
        "    #continue\n",
        "  #codes inside while loop\n",
        "#codes outside while loop"
      ],
      "metadata": {
        "id": "ASFMJkpL5Wsb"
      },
      "execution_count": 5,
      "outputs": []
    },
    {
      "cell_type": "code",
      "source": [
        "for val in \"string\":\n",
        "  if val == \"i\":\n",
        "    continue\n",
        "  print(val)\n",
        "print(\"The end\")"
      ],
      "metadata": {
        "colab": {
          "base_uri": "https://localhost:8080/"
        },
        "id": "EwZ9tKr_5zD7",
        "outputId": "a05ec80c-a42a-4daf-bb03-46d40809e033"
      },
      "execution_count": 6,
      "outputs": [
        {
          "output_type": "stream",
          "name": "stdout",
          "text": [
            "s\n",
            "t\n",
            "r\n",
            "n\n",
            "g\n",
            "The end\n"
          ]
        }
      ]
    },
    {
      "cell_type": "markdown",
      "source": [
        "Python Pass Statement"
      ],
      "metadata": {
        "id": "_Rvr0kbN6ZMs"
      }
    },
    {
      "cell_type": "code",
      "source": [
        "# In this article, you'll learn about pass statement. It is used as a placeholder for future implementation of functions, loops, etc.\n",
        "# pass stmnt is a null statement\n",
        "# interpreter ignores the comment statement entirely, pass is not ignored\n",
        "# nothing happen when pass is executed, results in no operation(NOP)."
      ],
      "metadata": {
        "id": "Fyo-dnhG6UFg"
      },
      "execution_count": null,
      "outputs": []
    },
    {
      "cell_type": "code",
      "source": [
        "'''pass is just a placeholder for functionality to be added later.'''\n",
        "sequence = {'p', 'a', 's', 's'}\n",
        "for val in sequence:\n",
        "    pass"
      ],
      "metadata": {
        "id": "PPvdEpfU7Fva"
      },
      "execution_count": 8,
      "outputs": []
    },
    {
      "cell_type": "code",
      "source": [
        "def function(args):\n",
        "    pass"
      ],
      "metadata": {
        "id": "L3UMo10J7PhP"
      },
      "execution_count": null,
      "outputs": []
    },
    {
      "cell_type": "code",
      "source": [
        "class Example:\n",
        "    pass"
      ],
      "metadata": {
        "id": "QGS38TvQ7QgQ"
      },
      "execution_count": null,
      "outputs": []
    }
  ]
}