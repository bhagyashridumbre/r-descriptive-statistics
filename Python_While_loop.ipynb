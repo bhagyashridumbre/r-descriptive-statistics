{
  "nbformat": 4,
  "nbformat_minor": 0,
  "metadata": {
    "colab": {
      "name": "Python_While_loop.ipynb",
      "provenance": [],
      "collapsed_sections": [],
      "authorship_tag": "ABX9TyNJ8ambXQZlVNe+znT/J64k",
      "include_colab_link": true
    },
    "kernelspec": {
      "name": "python3",
      "display_name": "Python 3"
    },
    "language_info": {
      "name": "python"
    }
  },
  "cells": [
    {
      "cell_type": "markdown",
      "metadata": {
        "id": "view-in-github",
        "colab_type": "text"
      },
      "source": [
        "<a href=\"https://colab.research.google.com/github/bhagyashridumbre/r-descriptive-statistics/blob/main/Python_While_loop.ipynb\" target=\"_parent\"><img src=\"https://colab.research.google.com/assets/colab-badge.svg\" alt=\"Open In Colab\"/></a>"
      ]
    },
    {
      "cell_type": "markdown",
      "source": [
        "**While Loop**"
      ],
      "metadata": {
        "id": "7vqWYpAu2niJ"
      }
    },
    {
      "cell_type": "code",
      "execution_count": null,
      "metadata": {
        "id": "2ccYsKh1HIXq",
        "colab": {
          "base_uri": "https://localhost:8080/"
        },
        "outputId": "3bc56fdf-4577-461a-f43c-0c730011abb2"
      },
      "outputs": [
        {
          "output_type": "stream",
          "name": "stdout",
          "text": [
            "The sum is 10\n"
          ]
        }
      ],
      "source": [
        "# initialize sum1 and counter\n",
        "n = 4\n",
        "sum1 = 0\n",
        "i = 1\n",
        "\n",
        "while i <= n:  # while CONDITION = True\n",
        "  sum1 = sum1 + i\n",
        "  i = i + 1    # update counter\n",
        "  # i += 1\n",
        "# print the sum\n",
        "print(\"The sum is\", sum1)\n",
        "\n",
        "# while True:\n",
        "  # print('something')"
      ]
    },
    {
      "cell_type": "code",
      "source": [
        "# While Loop with else\n",
        "# Example to illustrate\n",
        "# the use of else statement\n",
        "# with the while Loop\n",
        "\n",
        "counter = 0\n",
        "while counter < 3:\n",
        "  print(\"Inside Loop\")\n",
        "  counter = counter + 1\n",
        "else:\n",
        "  print(\"Inside else\")\n"
      ],
      "metadata": {
        "colab": {
          "base_uri": "https://localhost:8080/"
        },
        "id": "hYI1cIR-32zB",
        "outputId": "e7a3b503-c8d9-4192-e7c8-d6907725031a"
      },
      "execution_count": null,
      "outputs": [
        {
          "output_type": "stream",
          "name": "stdout",
          "text": [
            "Inside Loop\n",
            "Inside Loop\n",
            "Inside Loop\n",
            "Inside else\n"
          ]
        }
      ]
    },
    {
      "cell_type": "code",
      "source": [
        "# Ex:1\n",
        "count = 0\n",
        "while count < 5:\n",
        "  print(\"Digit:\", count)\n",
        "# count = count + 1 # incrementing the counter\n",
        "  count += 1 # shortform for incrementing by a value of 1\n",
        "print(\"Thank you\")\n",
        "\n"
      ],
      "metadata": {
        "colab": {
          "base_uri": "https://localhost:8080/"
        },
        "id": "JN8kyOgM48d1",
        "outputId": "cfb7e6a9-4615-47f5-909e-dfe15cf0c48a"
      },
      "execution_count": null,
      "outputs": [
        {
          "output_type": "stream",
          "name": "stdout",
          "text": [
            "Digit: 0\n",
            "Digit: 1\n",
            "Digit: 2\n",
            "Digit: 3\n",
            "Digit: 4\n",
            "Thank you\n"
          ]
        }
      ]
    },
    {
      "cell_type": "markdown",
      "source": [
        "**Functions**"
      ],
      "metadata": {
        "id": "QUD-pX9Q5g-L"
      }
    },
    {
      "cell_type": "code",
      "source": [
        "def myfunc():\n",
        "  print(\"Hello\")"
      ],
      "metadata": {
        "id": "goqoJvWo5fXx"
      },
      "execution_count": null,
      "outputs": []
    },
    {
      "cell_type": "code",
      "source": [
        "myfunc() # calling/invoking a function"
      ],
      "metadata": {
        "colab": {
          "base_uri": "https://localhost:8080/"
        },
        "id": "kTXtHiUm5py2",
        "outputId": "d814f41b-d0bd-477f-8541-d1b49fed3193"
      },
      "execution_count": null,
      "outputs": [
        {
          "output_type": "stream",
          "name": "stdout",
          "text": [
            "Hello\n"
          ]
        }
      ]
    },
    {
      "cell_type": "code",
      "source": [
        "def myfunc1():\n",
        "  return \"Hello\""
      ],
      "metadata": {
        "id": "U3bE_n5U9uH-"
      },
      "execution_count": null,
      "outputs": []
    },
    {
      "cell_type": "code",
      "source": [
        "x = myfunc1()\n",
        "print(x)\n"
      ],
      "metadata": {
        "colab": {
          "base_uri": "https://localhost:8080/"
        },
        "id": "bhUGjNN0-gPK",
        "outputId": "73105f4a-d879-4aa4-9e57-b4d7402e04fc"
      },
      "execution_count": null,
      "outputs": [
        {
          "output_type": "stream",
          "name": "stdout",
          "text": [
            "Hello\n"
          ]
        }
      ]
    },
    {
      "cell_type": "code",
      "source": [
        "def myfunc(name): # a single parameter\n",
        "  print(\"Hello\", name)"
      ],
      "metadata": {
        "id": "Y6DKiyYr5vKL"
      },
      "execution_count": null,
      "outputs": []
    },
    {
      "cell_type": "code",
      "source": [
        "myfunc(\"Bhagyashri\") # invoke and call a function"
      ],
      "metadata": {
        "colab": {
          "base_uri": "https://localhost:8080/"
        },
        "id": "fkjCO3aZ559k",
        "outputId": "e18cfbed-898f-4723-d86e-72c3c0aec8f9"
      },
      "execution_count": null,
      "outputs": [
        {
          "output_type": "stream",
          "name": "stdout",
          "text": [
            "Hello Bhagyashri\n"
          ]
        }
      ]
    },
    {
      "cell_type": "code",
      "source": [
        "# return is different than print\n",
        "# return store the value of variable\n",
        "# print only print the value\n",
        "# return means over. "
      ],
      "metadata": {
        "id": "0afez--u6Dvf"
      },
      "execution_count": null,
      "outputs": []
    },
    {
      "cell_type": "code",
      "source": [
        "def squares(x):\n",
        "  return x**2"
      ],
      "metadata": {
        "id": "0QAhCwOV_mbw"
      },
      "execution_count": null,
      "outputs": []
    },
    {
      "cell_type": "code",
      "source": [
        "squares(3)"
      ],
      "metadata": {
        "id": "MzCJfZGy_sGG"
      },
      "execution_count": null,
      "outputs": []
    },
    {
      "cell_type": "code",
      "source": [
        "res = squares(25)\n",
        "res"
      ],
      "metadata": {
        "colab": {
          "base_uri": "https://localhost:8080/"
        },
        "id": "M7UDIGQ3_y1s",
        "outputId": "bdce1169-b4ab-4205-9e61-9b0bb96c3a6b"
      },
      "execution_count": null,
      "outputs": [
        {
          "output_type": "execute_result",
          "data": {
            "text/plain": [
              "625"
            ]
          },
          "metadata": {},
          "execution_count": 18
        }
      ]
    },
    {
      "cell_type": "markdown",
      "source": [
        "**Lambda Function**"
      ],
      "metadata": {
        "id": "nepq-KmUAvEQ"
      }
    },
    {
      "cell_type": "code",
      "source": [
        "# def squares(x):\n",
        "# return x ** 2\n",
        "# anonnymus function\n",
        "# is for lazy people\n",
        "# in which no indentation, no return.\n",
        "# it have only input and output\n",
        "# no name for this func.\n",
        "# lambda is only keyword\n",
        "fn = lambda x : x**2"
      ],
      "metadata": {
        "id": "uKez6c6jAkgp"
      },
      "execution_count": 35,
      "outputs": []
    },
    {
      "cell_type": "code",
      "source": [
        "fn(4)"
      ],
      "metadata": {
        "colab": {
          "base_uri": "https://localhost:8080/"
        },
        "id": "U3QGJgdwBgXZ",
        "outputId": "92dd11c2-57fe-440f-b17d-b7568a0e21a5"
      },
      "execution_count": 37,
      "outputs": [
        {
          "output_type": "execute_result",
          "data": {
            "text/plain": [
              "16"
            ]
          },
          "metadata": {},
          "execution_count": 37
        }
      ]
    },
    {
      "cell_type": "code",
      "source": [
        "type(fn)"
      ],
      "metadata": {
        "colab": {
          "base_uri": "https://localhost:8080/"
        },
        "id": "m-M8BhwSCeLh",
        "outputId": "32aa578b-52a9-400b-c6ac-c23e07b90867"
      },
      "execution_count": 39,
      "outputs": [
        {
          "output_type": "execute_result",
          "data": {
            "text/plain": [
              "function"
            ]
          },
          "metadata": {},
          "execution_count": 39
        }
      ]
    },
    {
      "cell_type": "code",
      "source": [
        "lst = ['c++','c','python','java','mysql123']\n",
        "lst"
      ],
      "metadata": {
        "colab": {
          "base_uri": "https://localhost:8080/"
        },
        "id": "Atxx_uRyCj2t",
        "outputId": "3826b106-0f4a-424a-88ae-66963971d552"
      },
      "execution_count": 41,
      "outputs": [
        {
          "output_type": "execute_result",
          "data": {
            "text/plain": [
              "['c++', 'c', 'python', 'java', 'mysql123']"
            ]
          },
          "metadata": {},
          "execution_count": 41
        }
      ]
    },
    {
      "cell_type": "code",
      "source": [
        "lst.sort() # sort by ascending order\n",
        "lst"
      ],
      "metadata": {
        "colab": {
          "base_uri": "https://localhost:8080/"
        },
        "id": "r9fSXCdFC8zZ",
        "outputId": "24794e6e-b9e1-4564-cad7-f50288f5d265"
      },
      "execution_count": 43,
      "outputs": [
        {
          "output_type": "execute_result",
          "data": {
            "text/plain": [
              "['c', 'c++', 'java', 'mysql123', 'python']"
            ]
          },
          "metadata": {},
          "execution_count": 43
        }
      ]
    },
    {
      "cell_type": "code",
      "source": [
        "# another method of sorting list\n",
        "# passing one function inside another function.\n",
        "lst.sort(key = lambda x: len(x))\n",
        "lst"
      ],
      "metadata": {
        "colab": {
          "base_uri": "https://localhost:8080/"
        },
        "id": "Oal9ShfZDN1c",
        "outputId": "612fc38a-3d6a-4b0a-c4f2-ea44e5a52830"
      },
      "execution_count": 46,
      "outputs": [
        {
          "output_type": "execute_result",
          "data": {
            "text/plain": [
              "['c', 'c++', 'java', 'python', 'mysql123']"
            ]
          },
          "metadata": {},
          "execution_count": 46
        }
      ]
    },
    {
      "cell_type": "code",
      "source": [],
      "metadata": {
        "id": "K0t27eutENui"
      },
      "execution_count": null,
      "outputs": []
    }
  ]
}