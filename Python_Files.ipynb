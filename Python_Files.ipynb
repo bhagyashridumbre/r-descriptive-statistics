{
  "nbformat": 4,
  "nbformat_minor": 0,
  "metadata": {
    "colab": {
      "name": "Python_Files.ipynb",
      "provenance": [],
      "collapsed_sections": [],
      "authorship_tag": "ABX9TyOP6xoBNBw5ulWPbd9Afc4/",
      "include_colab_link": true
    },
    "kernelspec": {
      "name": "python3",
      "display_name": "Python 3"
    },
    "language_info": {
      "name": "python"
    }
  },
  "cells": [
    {
      "cell_type": "markdown",
      "metadata": {
        "id": "view-in-github",
        "colab_type": "text"
      },
      "source": [
        "<a href=\"https://colab.research.google.com/github/bhagyashridumbre/r-descriptive-statistics/blob/main/Python_Files.ipynb\" target=\"_parent\"><img src=\"https://colab.research.google.com/assets/colab-badge.svg\" alt=\"Open In Colab\"/></a>"
      ]
    },
    {
      "cell_type": "code",
      "execution_count": null,
      "metadata": {
        "id": "yCCK5uLvU9PN"
      },
      "outputs": [],
      "source": [
        "# file operation in python\n",
        "# open a file\n",
        "# Read or write \n",
        "# close the file"
      ]
    },
    {
      "cell_type": "markdown",
      "source": [
        "Opening files in python\n"
      ],
      "metadata": {
        "id": "qdwrDBBhV3nk"
      }
    },
    {
      "cell_type": "code",
      "source": [
        "# Python has a built-in open() function to open a file.\n",
        "#  it is used to read or modify the file accordingly.\n",
        "f = open(\"test.txt\")    # open file in current directory\n",
        "f = open(\"C:/Python38/README.txt\")  # specifying full path\n",
        "# r - Opens a file for reading. (default)\n",
        "# W - Opens a file for writing. Creates a new file if it does not exist or truncates the file if it exists.\n",
        "# X - Opens a file for exclusive creation. If the file already exists, the operation fails.\n",
        "# a - Opens a file for appending at the end of the file without truncating it. Creates a new file if it does not exist.\n",
        "# t - Opens in text mode. (default)\n",
        "# b - Opens in binary mode.\n",
        "# + - Opens a file for updating (reading and writing)\n",
        "f = open(\"test.txt\")      # equivalent to 'r' or 'rt'\n",
        "f = open(\"test.txt\",'w')  # write in text mode\n",
        "f = open(\"img.bmp\",'r+b') # read and write in binary mode\n",
        "# Moreover, the default encoding is platform dependent. In windows, it is cp1252 but utf-8 in Linux.\n",
        "f = open(\"test.txt\", mode='r', encoding='utf-8')\n"
      ],
      "metadata": {
        "id": "kqnRlmyJV9xf"
      },
      "execution_count": null,
      "outputs": []
    },
    {
      "cell_type": "markdown",
      "source": [
        "Closing files in python\n"
      ],
      "metadata": {
        "id": "jK5uPH0PXj7g"
      }
    },
    {
      "cell_type": "code",
      "source": [
        "# Closing a file will free up the resources that were tied with the file. It is done using the close() method available in Python.\n",
        "# Python has a garbage collector to clean up unreferenced objects but we must not rely on it to close the file.\n",
        "f = open(\"test.txt\", encoding = 'utf-8')\n",
        "# perform file operations\n",
        "f.close()\n",
        "# his method is not entirely safe. If an exception occurs when we are performing some operation with the file, the code exits without closing the file.\n",
        "# A safer way is to use a try...finally block.\n",
        "try:\n",
        "   f = open(\"test.txt\", encoding = 'utf-8')\n",
        "   # perform file operations\n",
        "finally:\n",
        "   f.close()\n",
        "   ''' with open(\"test.txt\", encoding = 'utf-8') as f:\n",
        "   # perform file operations'''\n"
      ],
      "metadata": {
        "id": "g8G5vTg6Xrb3"
      },
      "execution_count": null,
      "outputs": []
    },
    {
      "cell_type": "markdown",
      "source": [
        "Writing files in python"
      ],
      "metadata": {
        "id": "lN7ONZYnYQIC"
      }
    },
    {
      "cell_type": "code",
      "source": [
        "# In order to write into a file in Python, we need to open it in write w, append a or exclusive creation x mode.\n",
        "with open(\"test.txt\",'w',encoding = 'utf-8') as f:\n",
        "   f.write(\"my first file\\n\")\n",
        "   f.write(\"This file\\n\\n\")\n",
        "   f.write(\"contains three lines\\n\")\n",
        "   "
      ],
      "metadata": {
        "id": "Jwg1x-MfYV7I"
      },
      "execution_count": null,
      "outputs": []
    },
    {
      "cell_type": "markdown",
      "source": [
        "Reading Files in Python"
      ],
      "metadata": {
        "id": "kTKqXa5KYmNb"
      }
    },
    {
      "cell_type": "code",
      "source": [
        "# To read a file in Python, we must open the file in reading r mode.\n",
        "f = open(\"test.txt\",'r',encoding = 'utf-8')\n",
        "f.read(4)    # read the first 4 data\n",
        "'This'\n",
        "\n",
        "f.read(4)    # read the next 4 data\n",
        "' is '\n",
        "\n",
        "f.read()     # read in the rest till end of file\n",
        "'my first file\\nThis file\\ncontains three lines\\n'\n",
        "\n",
        "f.read()  # further reading returns empty sting"
      ],
      "metadata": {
        "id": "Z1ERj3uAYpeJ"
      },
      "execution_count": null,
      "outputs": []
    },
    {
      "cell_type": "code",
      "source": [
        "f.tell()    # get the current file position\n",
        "#56\n",
        "\n",
        "f.seek(0)   # bring file cursor to initial position\n",
        "#0\n",
        "\n",
        "print(f.read())  # read the entire file\n",
        "'''This is my first file'''\n",
        "'''This file\n",
        "contains three lines'''"
      ],
      "metadata": {
        "id": "syiPQqBpZCP5"
      },
      "execution_count": null,
      "outputs": []
    },
    {
      "cell_type": "code",
      "source": [
        "for line in f:\n",
        "  print(line, end = '')"
      ],
      "metadata": {
        "id": "YOZ-8jmUZPvS"
      },
      "execution_count": null,
      "outputs": []
    },
    {
      "cell_type": "code",
      "source": [
        "# In this program, the lines in the file itself include a newline character \\n. So, we use the end parameter of the print() function to avoid two newlines when printing.\n",
        "# Alternatively, we can use the readline() method to read individual lines of a file.\n",
        "# f.readline()\n",
        "'This is my first file\\n'\n",
        "\n",
        "# f.readline()\n",
        "'This file\\n'\n",
        "\n",
        "# f.readline()\n",
        "'contains three lines\\n'\n",
        "\n",
        "# f.readline()\n",
        "''"
      ],
      "metadata": {
        "id": "o5c0IkNsZakO"
      },
      "execution_count": null,
      "outputs": []
    },
    {
      "cell_type": "code",
      "source": [
        "# Lastly, the readlines() method returns a list of remaining lines of the entire file. All these reading methods return empty values when the end of file (EOF) is reached.\n"
      ],
      "metadata": {
        "id": "nUOCQSPuZtww"
      },
      "execution_count": null,
      "outputs": []
    },
    {
      "cell_type": "markdown",
      "source": [
        "Python file methods\n"
      ],
      "metadata": {
        "id": "gZjveamEZylt"
      }
    },
    {
      "cell_type": "code",
      "source": [
        "# close() - Closes an opened file. It has no effect if the file is already closed.\n",
        "# detach() - Separates the underlying binary buffer from the TextIOBase and returns it.\n",
        "# fileno() - Returns an integer number (file descriptor) of the file.\n",
        "# flush() - Flushes the write buffer of the file stream.\n",
        "# isatty() - Returns True if the file stream is interactive.\n",
        "# read(n) - Reads at most n characters from the file. Reads till end of file if it is negative or None.\n",
        "# readable() - Returns True if the file stream can be read from.\n",
        "# readline(n=-1) - Reads and returns one line from the file. Reads in at most n bytes if specified.\n",
        "# readlines(n=-1) - Reads and returns a list of lines from the file. Reads in at most n bytes/characters if specified.\n",
        "# seek(offset,from=SEEK_SET) - Changes the file position to offset bytes, in reference to from (start, current, end).\n",
        "#  seekable() - Returns True if the file stream supports random access.\n",
        "# tell() - Returns an integer that represents the current position of the file's object.\n",
        "# truncate(size=None) - Resizes the file stream to size bytes. If size is not specified, resizes to current location.\n",
        "# writable() - Returns True if the file stream can be written to.\n",
        "# write(s) - Writes the string s to the file and returns the number of characters written.\n",
        "# writelines(lines)\t - Writes a list of lines to the file."
      ],
      "metadata": {
        "id": "lXJyKPp4Z61J"
      },
      "execution_count": null,
      "outputs": []
    }
  ]
}