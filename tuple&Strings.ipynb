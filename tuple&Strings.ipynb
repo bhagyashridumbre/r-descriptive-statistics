{
  "nbformat": 4,
  "nbformat_minor": 0,
  "metadata": {
    "colab": {
      "name": "tuple&Strings.ipynb",
      "provenance": [],
      "collapsed_sections": [],
      "authorship_tag": "ABX9TyPZpP8BUbFmxMgktRoQ3hUS",
      "include_colab_link": true
    },
    "kernelspec": {
      "name": "python3",
      "display_name": "Python 3"
    },
    "language_info": {
      "name": "python"
    }
  },
  "cells": [
    {
      "cell_type": "markdown",
      "metadata": {
        "id": "view-in-github",
        "colab_type": "text"
      },
      "source": [
        "<a href=\"https://colab.research.google.com/github/bhagyashridumbre/r-descriptive-statistics/blob/main/tuple%26Strings.ipynb\" target=\"_parent\"><img src=\"https://colab.research.google.com/assets/colab-badge.svg\" alt=\"Open In Colab\"/></a>"
      ]
    },
    {
      "cell_type": "code",
      "execution_count": null,
      "metadata": {
        "id": "EfYdZPtErtKc"
      },
      "outputs": [],
      "source": [
        "# in list we can change the elements\n",
        "# in tuple we can not change the elements"
      ]
    },
    {
      "cell_type": "code",
      "source": [
        "# Different types of tuples\n",
        "# Empty tuple\n",
        "my_tuple = ()\n",
        "print(my_tuple)\n",
        "\n",
        "# Tuple having integers\n",
        "my_tuple = (1, 2, 3)\n",
        "print(my_tuple)\n",
        "\n",
        "# tuple with mixed datatypes\n",
        "my_tuple = (1, \"Hello\", 3.4)\n",
        "print(my_tuple)\n",
        "\n",
        "# nested tuple\n",
        "my_tuple = (\"mouse\", [8, 4, 6], (1, 2, 3))\n",
        "print(my_tuple)"
      ],
      "metadata": {
        "colab": {
          "base_uri": "https://localhost:8080/"
        },
        "id": "C_abhtkNsB9U",
        "outputId": "bba6e14a-0666-4b73-892b-378545c190ef"
      },
      "execution_count": 1,
      "outputs": [
        {
          "output_type": "stream",
          "name": "stdout",
          "text": [
            "()\n",
            "(1, 2, 3)\n",
            "(1, 'Hello', 3.4)\n",
            "('mouse', [8, 4, 6], (1, 2, 3))\n"
          ]
        }
      ]
    },
    {
      "cell_type": "markdown",
      "source": [
        "Tuple packing"
      ],
      "metadata": {
        "id": "M03vp_eSsLfU"
      }
    },
    {
      "cell_type": "code",
      "source": [
        "# tuple created without parenthesis\n",
        "my_tuple = 3, 4.6, \"dog\"\n",
        "print(my_tuple)\n",
        "\n",
        "# tuple unpacking is also possible\n",
        "a, b, c = my_tuple\n",
        "print(a)      # 3\n",
        "print(b)      # 4.6\n",
        "print(c)      # dog"
      ],
      "metadata": {
        "colab": {
          "base_uri": "https://localhost:8080/"
        },
        "id": "JqyGBHBwsORH",
        "outputId": "215781a0-56b5-4cfd-a150-0420ae28ad58"
      },
      "execution_count": 2,
      "outputs": [
        {
          "output_type": "stream",
          "name": "stdout",
          "text": [
            "(3, 4.6, 'dog')\n",
            "3\n",
            "4.6\n",
            "dog\n"
          ]
        }
      ]
    },
    {
      "cell_type": "code",
      "source": [
        "my_tuple = (\"hello\")\n",
        "print(type(my_tuple))  # <class 'str'>\n",
        "# Creating a tuple having one element\n",
        "my_tuple = (\"hello\",)\n",
        "print(type(my_tuple))  # <class 'tuple'>\n",
        "# Parentheses is optional\n",
        "my_tuple = \"hello\",\n",
        "print(type(my_tuple))  # <class 'tuple'>"
      ],
      "metadata": {
        "colab": {
          "base_uri": "https://localhost:8080/"
        },
        "id": "ksLjvjSFsd18",
        "outputId": "90dbebbc-b6a2-4ceb-8fbe-b7a0f0bbba9f"
      },
      "execution_count": 3,
      "outputs": [
        {
          "output_type": "stream",
          "name": "stdout",
          "text": [
            "<class 'str'>\n",
            "<class 'tuple'>\n",
            "<class 'tuple'>\n"
          ]
        }
      ]
    },
    {
      "cell_type": "markdown",
      "source": [
        "Access Tuple elements"
      ],
      "metadata": {
        "id": "wfTUqmOnsj_q"
      }
    },
    {
      "cell_type": "code",
      "source": [
        "# Indexing\n",
        "# Accessing tuple elements using indexing\n",
        "my_tuple = ('p','e','r','m','i','t')\n",
        "\n",
        "print(my_tuple[0])   # 'p' \n",
        "print(my_tuple[5])   # 't'\n",
        "\n",
        "# IndexError: list index out of range\n",
        "# print(my_tuple[6])\n",
        "\n",
        "# Index must be an integer\n",
        "# TypeError: list indices must be integers, not float\n",
        "# my_tuple[2.0]\n",
        "\n",
        "# nested tuple\n",
        "n_tuple = (\"mouse\", [8, 4, 6], (1, 2, 3))\n",
        "\n",
        "# nested index\n",
        "print(n_tuple[0][3])       # 's'\n",
        "print(n_tuple[1][1])       # 4"
      ],
      "metadata": {
        "colab": {
          "base_uri": "https://localhost:8080/"
        },
        "id": "O9WeXLoGsgsB",
        "outputId": "b59476f2-7b14-4d00-810a-aeacef7a3499"
      },
      "execution_count": 4,
      "outputs": [
        {
          "output_type": "stream",
          "name": "stdout",
          "text": [
            "p\n",
            "t\n",
            "s\n",
            "4\n"
          ]
        }
      ]
    },
    {
      "cell_type": "code",
      "source": [
        "# Negative indexing\n",
        "my_tuple = ('p', 'e', 'r', 'm', 'i', 't')\n",
        "# Output: 't'\n",
        "print(my_tuple[-1])\n",
        "# Output: 'p'\n",
        "print(my_tuple[-6])"
      ],
      "metadata": {
        "colab": {
          "base_uri": "https://localhost:8080/"
        },
        "id": "jz2XYMedsgoz",
        "outputId": "44a23207-979c-406d-a94b-e8393a9fe805"
      },
      "execution_count": 5,
      "outputs": [
        {
          "output_type": "stream",
          "name": "stdout",
          "text": [
            "t\n",
            "p\n"
          ]
        }
      ]
    },
    {
      "cell_type": "code",
      "source": [
        "# Slicing\n",
        "my_tuple = ('p','r','o','g','r','a','m','i','z')\n",
        "\n",
        "# elements 2nd to 4th\n",
        "# Output: ('r', 'o', 'g')\n",
        "print(my_tuple[1:4])\n",
        "\n",
        "# elements beginning to 2nd\n",
        "# Output: ('p', 'r')\n",
        "print(my_tuple[:-7])\n",
        "\n",
        "# elements 8th to end\n",
        "# Output: ('i', 'z')\n",
        "print(my_tuple[7:])\n",
        "\n",
        "# elements beginning to end\n",
        "# Output: ('p', 'r', 'o', 'g', 'r', 'a', 'm', 'i', 'z')\n",
        "print(my_tuple[:])"
      ],
      "metadata": {
        "colab": {
          "base_uri": "https://localhost:8080/"
        },
        "id": "HIJf1w14tANG",
        "outputId": "1d3c9b97-1efe-43a0-9a4a-987eb087856c"
      },
      "execution_count": 6,
      "outputs": [
        {
          "output_type": "stream",
          "name": "stdout",
          "text": [
            "('r', 'o', 'g')\n",
            "('p', 'r')\n",
            "('i', 'z')\n",
            "('p', 'r', 'o', 'g', 'r', 'a', 'm', 'i', 'z')\n"
          ]
        }
      ]
    },
    {
      "cell_type": "code",
      "source": [
        "# Changing tuple values\n",
        "my_tuple = (4, 2, 3, [6, 5])\n",
        "# TypeError: 'tuple' object does not support item assignment\n",
        "# my_tuple[1] = 9\n",
        "\n",
        "# However, item of mutable element can be changed\n",
        "my_tuple[3][0] = 9    # Output: (4, 2, 3, [9, 5])\n",
        "print(my_tuple)\n",
        "\n",
        "# Tuples can be reassigned\n",
        "my_tuple = ('p', 'r', 'o', 'g', 'r', 'a', 'm', 'i', 'z')\n",
        "\n",
        "# Output: ('p', 'r', 'o', 'g', 'r', 'a', 'm', 'i', 'z')\n",
        "print(my_tuple)"
      ],
      "metadata": {
        "colab": {
          "base_uri": "https://localhost:8080/"
        },
        "id": "gq4NkP42tW9g",
        "outputId": "e3e9ac71-f62f-41b4-97fb-fa33f1834ae3"
      },
      "execution_count": 7,
      "outputs": [
        {
          "output_type": "stream",
          "name": "stdout",
          "text": [
            "(4, 2, 3, [9, 5])\n",
            "('p', 'r', 'o', 'g', 'r', 'a', 'm', 'i', 'z')\n"
          ]
        }
      ]
    },
    {
      "cell_type": "code",
      "source": [
        "# Concatenation\n",
        "# Output: (1, 2, 3, 4, 5, 6)\n",
        "print((1, 2, 3) + (4, 5, 6))\n",
        "# Repeat\n",
        "# Output: ('Repeat', 'Repeat', 'Repeat')\n",
        "print((\"Repeat\",) * 3)"
      ],
      "metadata": {
        "colab": {
          "base_uri": "https://localhost:8080/"
        },
        "id": "YLQwOFFPtfXW",
        "outputId": "34041769-334d-424b-9a83-e3e4faffe324"
      },
      "execution_count": 8,
      "outputs": [
        {
          "output_type": "stream",
          "name": "stdout",
          "text": [
            "(1, 2, 3, 4, 5, 6)\n",
            "('Repeat', 'Repeat', 'Repeat')\n"
          ]
        }
      ]
    },
    {
      "cell_type": "markdown",
      "source": [
        "Deleting a tuple"
      ],
      "metadata": {
        "id": "maHAeNmvtlk1"
      }
    },
    {
      "cell_type": "code",
      "source": [
        "# Deleting tuples\n",
        "my_tuple = ('p', 'r', 'o', 'g', 'r', 'a', 'm', 'i', 'z')\n",
        "# can't delete items\n",
        "# TypeError: 'tuple' object doesn't support item deletion\n",
        "# del my_tuple[3]\n",
        "# Can delete an entire tuple\n",
        "del my_tuple\n",
        "# NameError: name 'my_tuple' is not defined\n",
        "print(my_tuple)"
      ],
      "metadata": {
        "id": "lBM0LJYjtswT"
      },
      "execution_count": null,
      "outputs": []
    },
    {
      "cell_type": "markdown",
      "source": [
        "Tuple methods"
      ],
      "metadata": {
        "id": "BcN91ullt02w"
      }
    },
    {
      "cell_type": "code",
      "source": [
        "# methods that add or remove are not available with tuples\n",
        "my_tuple = ('a', 'p', 'p', 'l', 'e',)\n",
        "print(my_tuple.count('p'))  # Output: 2\n",
        "print(my_tuple.index('l'))  # Output: 3"
      ],
      "metadata": {
        "colab": {
          "base_uri": "https://localhost:8080/"
        },
        "id": "KDPEBctjt4Eu",
        "outputId": "96a4e704-bebd-4dae-e911-57b4daccf7b0"
      },
      "execution_count": 10,
      "outputs": [
        {
          "output_type": "stream",
          "name": "stdout",
          "text": [
            "2\n",
            "3\n"
          ]
        }
      ]
    },
    {
      "cell_type": "markdown",
      "source": [
        "Other tuple operations"
      ],
      "metadata": {
        "id": "9DOdbAijuBTC"
      }
    },
    {
      "cell_type": "code",
      "source": [
        "# tuple membership test\n",
        "# Membership test in tuple\n",
        "my_tuple = ('a', 'p', 'p', 'l', 'e',)\n",
        "# In operation\n",
        "print('a' in my_tuple)\n",
        "print('b' in my_tuple)\n",
        "\n",
        "# Not in operation\n",
        "print('g' not in my_tuple)"
      ],
      "metadata": {
        "colab": {
          "base_uri": "https://localhost:8080/"
        },
        "id": "eAvDy5j3uHXf",
        "outputId": "ee5346cb-6cc4-4464-e4e5-3402adb6418e"
      },
      "execution_count": 11,
      "outputs": [
        {
          "output_type": "stream",
          "name": "stdout",
          "text": [
            "True\n",
            "False\n",
            "True\n"
          ]
        }
      ]
    },
    {
      "cell_type": "code",
      "source": [
        "#  Iterating Through a Tuple\n",
        "for name in ('John', 'Kate'):\n",
        "    print(\"Hello\", name)"
      ],
      "metadata": {
        "colab": {
          "base_uri": "https://localhost:8080/"
        },
        "id": "S5mNKas5uRXE",
        "outputId": "59b87af1-7548-46c2-ff23-028595e162d3"
      },
      "execution_count": 12,
      "outputs": [
        {
          "output_type": "stream",
          "name": "stdout",
          "text": [
            "Hello John\n",
            "Hello Kate\n"
          ]
        }
      ]
    },
    {
      "cell_type": "code",
      "source": [
        "# tuple advantages over list\n",
        "# We generally use tuples for heterogeneous (different) data types and lists for homogeneous (similar) data types.\n",
        "# Since tuples are immutable, iterating through a tuple is faster than with list. So there is a slight performance boost.\n",
        "# Tuples that contain immutable elements can be used as a key for a dictionary. With lists, this is not possible.\n",
        "# If you have data that doesn't change, implementing it as tuple will guarantee that it remains write-protected.\n"
      ],
      "metadata": {
        "id": "2HzGNWaJuYHi"
      },
      "execution_count": null,
      "outputs": []
    },
    {
      "cell_type": "markdown",
      "source": [
        "String\n"
      ],
      "metadata": {
        "id": "dLZR4cpARK0_"
      }
    },
    {
      "cell_type": "code",
      "source": [
        "# it is a sequence of characters\n",
        "# Computers do not deal with characters, they deal with numbers (binary)\n",
        "# This conversion of character to a number is called encoding, and the reverse process is decoding\n",
        "# ASCII and Unicode are some of the popular encodings used.\n",
        "# In Python, a string is a sequence of Unicode characters.\n"
      ],
      "metadata": {
        "id": "dZRMdy6vRM1Q"
      },
      "execution_count": null,
      "outputs": []
    },
    {
      "cell_type": "code",
      "source": [
        "# defining strings in Python\n",
        "# all of the following are equivalent\n",
        "my_string = 'Hello'\n",
        "print(my_string)\n",
        "\n",
        "my_string = \"Hello\"\n",
        "print(my_string)\n",
        "\n",
        "my_string = '''Hello'''\n",
        "print(my_string)\n",
        "\n",
        "# triple quotes string can extend multiple lines\n",
        "my_string = \"\"\"Hello, welcome to\n",
        "           the world of Python\"\"\"\n",
        "print(my_string)"
      ],
      "metadata": {
        "colab": {
          "base_uri": "https://localhost:8080/"
        },
        "id": "4xXuvE_tSGnW",
        "outputId": "df8e7574-15e0-4538-d035-45837567587e"
      },
      "execution_count": 1,
      "outputs": [
        {
          "output_type": "stream",
          "name": "stdout",
          "text": [
            "Hello\n",
            "Hello\n",
            "Hello\n",
            "Hello, welcome to\n",
            "           the world of Python\n"
          ]
        }
      ]
    },
    {
      "cell_type": "code",
      "source": [
        "#Accessing string characters in Python\n",
        "str = 'programiz'\n",
        "print('str = ', str)\n",
        "\n",
        "#first character\n",
        "print('str[0] = ', str[0])\n",
        "\n",
        "#last character\n",
        "print('str[-1] = ', str[-1])\n",
        "\n",
        "#slicing 2nd to 5th character\n",
        "print('str[1:5] = ', str[1:5])\n",
        "\n",
        "#slicing 6th to 2nd last character\n",
        "print('str[5:-2] = ', str[5:-2])"
      ],
      "metadata": {
        "colab": {
          "base_uri": "https://localhost:8080/"
        },
        "id": "VSbWNkpxSRAl",
        "outputId": "2c25c3f0-d72d-4c61-95bd-1ec43b07d73b"
      },
      "execution_count": 2,
      "outputs": [
        {
          "output_type": "stream",
          "name": "stdout",
          "text": [
            "str =  programiz\n",
            "str[0] =  p\n",
            "str[-1] =  z\n",
            "str[1:5] =  rogr\n",
            "str[5:-2] =  am\n"
          ]
        }
      ]
    },
    {
      "cell_type": "markdown",
      "source": [
        "delete or change string"
      ],
      "metadata": {
        "id": "mGusudxoSiTW"
      }
    },
    {
      "cell_type": "code",
      "source": [
        "# Strings are immutable. This means that elements of a string cannot be changed once they have been assigned.\n",
        "my_string = 'programiz'\n",
        "my_string[5] = 'a'\n",
        "my_string = python\n",
        "my_string\n",
        "del my_string[1]\n",
        "my_string"
      ],
      "metadata": {
        "colab": {
          "base_uri": "https://localhost:8080/",
          "height": 235
        },
        "id": "cw8M-WHjSlbA",
        "outputId": "072219bb-076a-4b92-827e-a05795241ecb"
      },
      "execution_count": 5,
      "outputs": [
        {
          "output_type": "error",
          "ename": "TypeError",
          "evalue": "ignored",
          "traceback": [
            "\u001b[0;31m---------------------------------------------------------------------------\u001b[0m",
            "\u001b[0;31mTypeError\u001b[0m                                 Traceback (most recent call last)",
            "\u001b[0;32m<ipython-input-5-6c76a5ef399c>\u001b[0m in \u001b[0;36m<module>\u001b[0;34m\u001b[0m\n\u001b[1;32m      1\u001b[0m \u001b[0;31m# Strings are immutable. This means that elements of a string cannot be changed once they have been assigned.\u001b[0m\u001b[0;34m\u001b[0m\u001b[0;34m\u001b[0m\u001b[0;34m\u001b[0m\u001b[0m\n\u001b[1;32m      2\u001b[0m \u001b[0mmy_string\u001b[0m \u001b[0;34m=\u001b[0m \u001b[0;34m'programiz'\u001b[0m\u001b[0;34m\u001b[0m\u001b[0;34m\u001b[0m\u001b[0m\n\u001b[0;32m----> 3\u001b[0;31m \u001b[0mmy_string\u001b[0m\u001b[0;34m[\u001b[0m\u001b[0;36m5\u001b[0m\u001b[0;34m]\u001b[0m \u001b[0;34m=\u001b[0m \u001b[0;34m'a'\u001b[0m\u001b[0;34m\u001b[0m\u001b[0;34m\u001b[0m\u001b[0m\n\u001b[0m\u001b[1;32m      4\u001b[0m \u001b[0mmy_string\u001b[0m \u001b[0;34m=\u001b[0m \u001b[0mpython\u001b[0m\u001b[0;34m\u001b[0m\u001b[0;34m\u001b[0m\u001b[0m\n\u001b[1;32m      5\u001b[0m \u001b[0mmy_string\u001b[0m\u001b[0;34m\u001b[0m\u001b[0;34m\u001b[0m\u001b[0m\n",
            "\u001b[0;31mTypeError\u001b[0m: 'str' object does not support item assignment"
          ]
        }
      ]
    },
    {
      "cell_type": "markdown",
      "source": [
        "Concatenation of Two or More Strings"
      ],
      "metadata": {
        "id": "tsHn4Y0HTJum"
      }
    },
    {
      "cell_type": "code",
      "source": [
        "# Joining of two or more strings into a single one is called concatenation.\n",
        "# + , *\n",
        "# Python String Operations\n",
        "str1 = 'Hello'\n",
        "str2 ='World!'\n",
        "\n",
        "# using +\n",
        "print('str1 + str2 = ', str1 + str2)\n",
        "\n",
        "# using *\n",
        "print('str1 * 3 =', str1 * 3)"
      ],
      "metadata": {
        "colab": {
          "base_uri": "https://localhost:8080/"
        },
        "id": "wVb5LbHZS3zB",
        "outputId": "e3438b52-cb79-4bb5-d076-aa377e5cf2cc"
      },
      "execution_count": 6,
      "outputs": [
        {
          "output_type": "stream",
          "name": "stdout",
          "text": [
            "str1 + str2 =  HelloWorld!\n",
            "str1 * 3 = HelloHelloHello\n"
          ]
        }
      ]
    },
    {
      "cell_type": "code",
      "source": [
        "# Iterating Through a string\n",
        "count = 0\n",
        "for letter in 'Hello World':\n",
        "    if(letter == 'l'):\n",
        "        count += 1\n",
        "print(count,'letters found')"
      ],
      "metadata": {
        "colab": {
          "base_uri": "https://localhost:8080/"
        },
        "id": "iyFINtloTJEp",
        "outputId": "9bf444bc-6d4e-458c-d409-9400d8f18140"
      },
      "execution_count": 7,
      "outputs": [
        {
          "output_type": "stream",
          "name": "stdout",
          "text": [
            "3 letters found\n"
          ]
        }
      ]
    },
    {
      "cell_type": "code",
      "source": [
        "# String Membership Test\n",
        "'a' in 'program'\n",
        "'at' not in 'program'\n"
      ],
      "metadata": {
        "colab": {
          "base_uri": "https://localhost:8080/"
        },
        "id": "2xRiLP0vS3vW",
        "outputId": "be7095be-20c4-452a-f5d4-ae9ae3a140fb"
      },
      "execution_count": 10,
      "outputs": [
        {
          "output_type": "execute_result",
          "data": {
            "text/plain": [
              "True"
            ]
          },
          "metadata": {},
          "execution_count": 10
        }
      ]
    },
    {
      "cell_type": "markdown",
      "source": [
        "Built-in functions to Work with Python"
      ],
      "metadata": {
        "id": "-vWmdsGbT35y"
      }
    },
    {
      "cell_type": "code",
      "source": [
        "# enumerate(): The enumerate() function returns an enumerate object. It contains the index and value of all the items in the string as pairs. \n",
        "# This can be useful for iteration.\n",
        "# len() returns the length (number of characters) of the string.\n",
        "\n",
        "str = 'cold'\n",
        "# enumerate()\n",
        "list_enumerate = list(enumerate(str))\n",
        "print('list(enumerate(str) = ', list_enumerate)\n",
        "\n",
        "#character count\n",
        "print('len(str) = ', len(str))"
      ],
      "metadata": {
        "colab": {
          "base_uri": "https://localhost:8080/"
        },
        "id": "HlxcsWeZT7HJ",
        "outputId": "cdfbd18e-d0c1-41f0-8adb-d72ab8bc350e"
      },
      "execution_count": 11,
      "outputs": [
        {
          "output_type": "stream",
          "name": "stdout",
          "text": [
            "list(enumerate(str) =  [(0, 'c'), (1, 'o'), (2, 'l'), (3, 'd')]\n",
            "len(str) =  4\n"
          ]
        }
      ]
    },
    {
      "cell_type": "markdown",
      "source": [
        "Python String Formatting"
      ],
      "metadata": {
        "id": "216Nd9YlVHMN"
      }
    },
    {
      "cell_type": "code",
      "source": [
        "# Escape Sequence\n",
        "# If we want to print a text like He said, \"What's there?\", we can neither use single quotes nor double quotes.\n",
        "# This will result in a SyntaxError as the text itself contains both single and double quotes.\n",
        "print(\"He said, \"What's there?\"\")"
      ],
      "metadata": {
        "id": "WWZFPwL_VJQK"
      },
      "execution_count": null,
      "outputs": []
    },
    {
      "cell_type": "code",
      "source": [
        "# One way to get around this problem is to use triple quotes. Alternatively, we can use escape sequences.\n",
        "# An escape sequence starts with a backslash and is interpreted differently\n",
        "\n",
        "# using triple quotes\n",
        "print('''He said, \"What's there?\"''')\n",
        "\n",
        "# escaping single quotes\n",
        "print('He said, \"What\\'s there?\"')\n",
        "\n",
        "# escaping double quotes\n",
        "print(\"He said, \\\"What's there?\\\"\")"
      ],
      "metadata": {
        "id": "0pkCa0PPVg9x"
      },
      "execution_count": null,
      "outputs": []
    },
    {
      "cell_type": "code",
      "source": [
        "# list of escape sequences supported by python\n",
        "# \\newline:Backlash and newline ignored\n",
        "# \\\\ : Backlash\n",
        "# \\' : Single quote\n",
        "# \\'' : Double quote\n",
        "# \\a : ASCII Bell\n",
        "# \\b : ASCII Backspace\n",
        "# \\f : ASCII Formfeed\n",
        "# \\n : ASCII Linefeed\n",
        "# \\r : ASCII Carriage return\n",
        "# \\t : ASCII Horizontal Tab\n",
        "# \\v : ASCII vertical tab\n",
        "# \\ooo : character with octal value ooo\n",
        "# \\xHH : character with hexadecimal value HH"
      ],
      "metadata": {
        "id": "ReTfPwPbV4_d"
      },
      "execution_count": null,
      "outputs": []
    },
    {
      "cell_type": "code",
      "source": [
        "print(\"C:\\\\Python32\\\\Lib\")\n",
        "#C:\\Python32\\Lib\n",
        "\n",
        "print(\"This is printed\\nin two lines\")\n",
        "# This is printed\n",
        "# in two lines\n",
        "\n",
        "print(\"This is \\x48\\x45\\x58 representation\")\n",
        "# This is HEX representation"
      ],
      "metadata": {
        "colab": {
          "base_uri": "https://localhost:8080/"
        },
        "id": "39tis_sBXCS9",
        "outputId": "2e14c1c5-a34d-468e-bfb5-68894aefa377"
      },
      "execution_count": 14,
      "outputs": [
        {
          "output_type": "stream",
          "name": "stdout",
          "text": [
            "C:\\Python32\\Lib\n",
            "This is printed\n",
            "in two lines\n",
            "This is HEX representation\n"
          ]
        }
      ]
    },
    {
      "cell_type": "code",
      "source": [
        "# Raw String to ignore escape sequence\n",
        "print(\"This is \\x61 \\ngoodexample\")\n",
        "print(r\"This is \\x61 \\ngoodexample\")"
      ],
      "metadata": {
        "colab": {
          "base_uri": "https://localhost:8080/"
        },
        "id": "Z8vK9gHqXVqg",
        "outputId": "77b8f4ff-6ac2-43ec-9f8a-1cd2e6f3b53e"
      },
      "execution_count": 16,
      "outputs": [
        {
          "output_type": "stream",
          "name": "stdout",
          "text": [
            "This is a \n",
            "goodexample\n",
            "This is \\x61 \\ngoodexample\n"
          ]
        }
      ]
    },
    {
      "cell_type": "code",
      "source": [
        "# The format() Method for Formatting Strings\n",
        "# Python string format() method\n",
        "\n",
        "# default(implicit) order\n",
        "default_order = \"{}, {} and {}\".format('John','Bill','Sean')\n",
        "print('\\n--- Default Order ---')\n",
        "print(default_order)\n",
        "\n",
        "# order using positional argument\n",
        "positional_order = \"{1}, {0} and {2}\".format('John','Bill','Sean')\n",
        "print('\\n--- Positional Order ---')\n",
        "print(positional_order)\n",
        "\n",
        "# order using keyword argument\n",
        "keyword_order = \"{s}, {b} and {j}\".format(j='John',b='Bill',s='Sean')\n",
        "print('\\n--- Keyword Order ---')\n",
        "print(keyword_order)"
      ],
      "metadata": {
        "colab": {
          "base_uri": "https://localhost:8080/"
        },
        "id": "htp572GuXwtt",
        "outputId": "961c1e9a-1f9f-48e9-9ef0-ca5c78d0ddca"
      },
      "execution_count": 17,
      "outputs": [
        {
          "output_type": "stream",
          "name": "stdout",
          "text": [
            "\n",
            "--- Default Order ---\n",
            "John, Bill and Sean\n",
            "\n",
            "--- Positional Order ---\n",
            "Bill, John and Sean\n",
            "\n",
            "--- Keyword Order ---\n",
            "Sean, Bill and John\n"
          ]
        }
      ]
    }
  ]
}