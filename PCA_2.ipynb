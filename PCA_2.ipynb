{
  "nbformat": 4,
  "nbformat_minor": 0,
  "metadata": {
    "colab": {
      "name": " PCA_2.ipynb",
      "provenance": [],
      "collapsed_sections": [],
      "authorship_tag": "ABX9TyOlhR6JUakpiQNXCoiyHVQx",
      "include_colab_link": true
    },
    "kernelspec": {
      "name": "python3",
      "display_name": "Python 3"
    },
    "language_info": {
      "name": "python"
    }
  },
  "cells": [
    {
      "cell_type": "markdown",
      "metadata": {
        "id": "view-in-github",
        "colab_type": "text"
      },
      "source": [
        "<a href=\"https://colab.research.google.com/github/bhagyashridumbre/r-descriptive-statistics/blob/main/PCA_2.ipynb\" target=\"_parent\"><img src=\"https://colab.research.google.com/assets/colab-badge.svg\" alt=\"Open In Colab\"/></a>"
      ]
    },
    {
      "cell_type": "markdown",
      "source": [
        "Loading libraries"
      ],
      "metadata": {
        "id": "g-3SB08MuCmW"
      }
    },
    {
      "cell_type": "code",
      "execution_count": null,
      "metadata": {
        "id": "anNn22zGuBd6"
      },
      "outputs": [],
      "source": [
        "import pandas as pd\n",
        "import numpy as np\n",
        "import matplotlib.pyplot as plt\n",
        "from sklearn.decomposition import PCA"
      ]
    },
    {
      "cell_type": "markdown",
      "source": [
        "Loading data set.The following code will generate random data set of size(10 x 5). The data set can be loaded using pandas"
      ],
      "metadata": {
        "id": "7UYv2KMTuSDw"
      }
    },
    {
      "cell_type": "code",
      "source": [
        "data = np.dot(np.random.randn(5,5), np.random.randn(5,10)).T\n",
        "data = pd.DataFrame(data)\n",
        "data.columns = ['var1','var2','var3','var4','var5']\n",
        "print(data)"
      ],
      "metadata": {
        "colab": {
          "base_uri": "https://localhost:8080/"
        },
        "id": "vUqlcrJ-ukC0",
        "outputId": "e5f2fd41-f02c-4cd3-e59b-fe65e3f6d1e4"
      },
      "execution_count": null,
      "outputs": [
        {
          "output_type": "stream",
          "name": "stdout",
          "text": [
            "       var1      var2      var3      var4      var5\n",
            "0  0.746534 -1.387129 -0.638470  2.304680  0.688374\n",
            "1 -0.256095  1.274623 -1.397162 -3.197968 -3.470262\n",
            "2 -1.545219 -0.565417  0.871702  0.402024 -0.810765\n",
            "3  2.967610  3.521827  2.095922 -2.625043  4.164094\n",
            "4  0.616124  0.034687 -1.530020  0.234852 -0.724707\n",
            "5 -4.023619  3.551576  4.570334 -1.526068  0.579710\n",
            "6  0.462708 -1.014156 -0.849687 -0.722461 -0.409626\n",
            "7  7.232967  2.972118 -0.315687 -1.675600  3.779837\n",
            "8  1.971600  2.481441  1.228561 -1.613608  0.450653\n",
            "9  0.850078  3.405841  3.693359 -1.476634  1.045746\n"
          ]
        }
      ]
    },
    {
      "cell_type": "markdown",
      "source": [
        "**Fitting and transforming the data set into desired number of dimensions by controlling the parameter n_components**\n",
        "important functions corresponding to implementation of PCA are:\n",
        "1.Fit : fits the data to the required number of PCs.\n",
        "\n",
        "2.Transform : transform the data along PCs discovered."
      ],
      "metadata": {
        "id": "29XtMOgUvSrE"
      }
    },
    {
      "cell_type": "code",
      "source": [
        "pca = PCA(n_components=4) # it will transform the existing data set into new dimensions called PCs\n",
        "pca.fit(data)\n",
        "data_new = pca.transform(data)\n",
        "print(data_new.shape)"
      ],
      "metadata": {
        "colab": {
          "base_uri": "https://localhost:8080/"
        },
        "id": "TcVSsobrvNvw",
        "outputId": "8bd1519f-e5a4-45df-8f77-924534147f83"
      },
      "execution_count": null,
      "outputs": [
        {
          "output_type": "stream",
          "name": "stdout",
          "text": [
            "(10, 4)\n"
          ]
        }
      ]
    },
    {
      "cell_type": "markdown",
      "source": [
        "**Examining PCs and the variance explained by them**\n",
        "important functions corresponding to PCA in scikit learn are:\n",
        "1.components_ : gives PCs for given data set.\n",
        "2.explained_variance_ratio: Explains variance explained by each PC."
      ],
      "metadata": {
        "id": "j2t-vIs8w3dd"
      }
    },
    {
      "cell_type": "code",
      "source": [
        "print(pca.explained_variance_ratio_ *100) # It will explained by each PC\n",
        "print(\"Printing the relation of PC'S and variables present in the data set\")\n",
        "print(\".......................................................\")\n",
        "\n",
        "All_PCs = pd.DataFrame(pca.components_)\n",
        "print(All_PCs)\n",
        "\n",
        "All_PCs.columns = ['var1','var2','var3','var4','var5']\n",
        "index1 = ['PC1','PC2','PC3','PC4']\n",
        "All_PCs = pd.DataFrame(All_PCs)\n",
        "All_PCs.index = index1\n",
        "\n",
        "print(\".....................................................\")\n",
        "print(\"The linear equations of principal components are:\")\n",
        "print(\"......................................................\")\n",
        "print('PC1' + '=' + str(np.round(All_PCs.iloc[0,0],2)) + '*' + 'var1' + '+' + str(np.round(All_PCs.iloc[0,1],2)) + '*' + 'var2' + '+' + str(np.round(All_PCs.iloc[0,2],2)) + '*' + 'var3' + '+' + str(np.round(All_PCs.iloc[0,3],2)) + '*' + 'var4' + '+' + str(np.round(All_PCs.iloc[0,4],2)) + '*' + 'var5')\n",
        "print('PC2' + '=' + str(np.round(All_PCs.iloc[1,0],2)) + '*' + 'var1' + '+' + str(np.round(All_PCs.iloc[1,1],2)) + '*' + 'var2' + '+' + str(np.round(All_PCs.iloc[1,2],2)) + '*' + 'var3' + '+' + str(np.round(All_PCs.iloc[1,3],2)) + '*' + 'var4' + '+' + str(np.round(All_PCs.iloc[1,4],2)) + '*' + 'var5')\n",
        "print('PC3' + '=' + str(np.round(All_PCs.iloc[2,0],2)) + '*' + 'var1' + '+' + str(np.round(All_PCs.iloc[2,1],2)) + '*' + 'var2' + '+' + str(np.round(All_PCs.iloc[2,2],2)) + '*' + 'var3' + '+' + str(np.round(All_PCs.iloc[2,3],2)) + '*' + 'var4' + '+' + str(np.round(All_PCs.iloc[2,4],2)) + '*' + 'var5')\n",
        "print('PC4' + '=' + str(np.round(All_PCs.iloc[3,0],2)) + '*' + 'var1' + '+' + str(np.round(All_PCs.iloc[3,1],2)) + '*' + 'var2' + '+' + str(np.round(All_PCs.iloc[3,2],2)) + '*' + 'var3' + '+' + str(np.round(All_PCs.iloc[3,3],2)) + '*' + 'var4' + '+' + str(np.round(All_PCs.iloc[3,4],2)) + '*' + 'var5')"
      ],
      "metadata": {
        "colab": {
          "base_uri": "https://localhost:8080/"
        },
        "id": "G-869YYzwhOd",
        "outputId": "bbfe42b7-e932-4122-c45f-ec9309bf6161"
      },
      "execution_count": null,
      "outputs": [
        {
          "output_type": "stream",
          "name": "stdout",
          "text": [
            "[49.42458782 35.29088826 13.02082134  1.58527061]\n",
            "Printing the relation of PC'S and variables present in the data set\n",
            ".......................................................\n",
            "          0         1         2         3         4\n",
            "0  0.736253  0.349308  0.080793 -0.175232  0.546518\n",
            "1 -0.463994  0.490556  0.686209 -0.234476  0.134915\n",
            "2  0.122217  0.318393 -0.277682 -0.707030 -0.553796\n",
            "3 -0.392754 -0.289613 -0.356100 -0.526807  0.597943\n",
            ".....................................................\n",
            "The linear equations of principal components are:\n",
            "......................................................\n",
            "PC1=0.74*var1+0.35*var2+0.08*var3+-0.18*var4+0.55*var5\n",
            "PC2=-0.46*var1+0.49*var2+0.69*var3+-0.23*var4+0.13*var5\n",
            "PC3=0.12*var1+0.32*var2+-0.28*var3+-0.71*var4+-0.55*var5\n",
            "PC4=-0.39*var1+-0.29*var2+-0.36*var3+-0.53*var4+0.6*var5\n"
          ]
        }
      ]
    },
    {
      "cell_type": "markdown",
      "source": [
        "**Identifying the best number of principal component based on variance explained by them using scree plot.**"
      ],
      "metadata": {
        "id": "2IyiJyGW2kfW"
      }
    },
    {
      "cell_type": "code",
      "source": [
        "Variance_Explained = np.cumsum(np.round(pca.explained_variance_ratio_,decimals=4)*100) #Cumulative Variance\n",
        "plt.plot(Variance_Explained)\n",
        "plt.xlabel('number of components')\n",
        "plt.ylabel('cumulative explained variable')\n",
        "plt.title('Scree plot')"
      ],
      "metadata": {
        "colab": {
          "base_uri": "https://localhost:8080/",
          "height": 312
        },
        "id": "nZcCaK6_21lR",
        "outputId": "9243861c-84f2-4b25-d67c-4b6008750797"
      },
      "execution_count": null,
      "outputs": [
        {
          "output_type": "execute_result",
          "data": {
            "text/plain": [
              "Text(0.5, 1.0, 'Scree plot')"
            ]
          },
          "metadata": {},
          "execution_count": 9
        },
        {
          "output_type": "display_data",
          "data": {
            "text/plain": [
              "<Figure size 432x288 with 1 Axes>"
            ],
            "image/png": "[encoded data removed]"
          },
          "metadata": {
            "needs_background": "light"
          }
        }
      ]
    },
    {
      "cell_type": "markdown",
      "source": [
        "**Plotting Biplot**\n",
        "biplot is a visual representation that shows the contribution of different features on principal components."
      ],
      "metadata": {
        "id": "laX_SJEF3k_-"
      }
    },
    {
      "cell_type": "code",
      "source": [
        "PC1 = All_PCs.iloc[0]\n",
        "PC2 = All_PCs.iloc[1]\n",
        "\n",
        "xs = data_new[:,0]\n",
        "ys = data_new[:,1]\n",
        "\n",
        "for i in range(len(PC1)):\n",
        "  plt.arrow(0,0,PC1[i]*max(xs), PC2[i]*max(ys),color ='r',width=0.0005, head_width=0.0025)\n",
        "  plt.text(PC1[i]*max(xs)*1.1, PC2[i]*max(ys)*1.1, list(data.columns.values)[i], color='r')\n",
        "\n",
        "for i in range(len(xs)):\n",
        "  # circles project documents is (ie. rows from csv) as points onto PC axes\n",
        "  plt.plot(xs[i], ys[i],'bo')\n",
        "  plt.text(xs[i]*1.1, ys[i]*1.1, list(data.index)[i], color = 'b')\n",
        "\n",
        "plt.xlabel('PC1')\n",
        "plt.ylabel('PC2')\n",
        "plt.show()"
      ],
      "metadata": {
        "colab": {
          "base_uri": "https://localhost:8080/",
          "height": 291
        },
        "id": "hPgTD9-E344g",
        "outputId": "59bc8bea-1c73-49f8-8b85-a3ab4be5fee2"
      },
      "execution_count": null,
      "outputs": [
        {
          "output_type": "display_data",
          "data": {
            "text/plain": [
              "<Figure size 432x288 with 1 Axes>"
            ],
            "image/png": "[encoded data removed]"
          },
          "metadata": {
            "needs_background": "light"
          }
        }
      ]
    }
  ]
}