{
  "nbformat": 4,
  "nbformat_minor": 0,
  "metadata": {
    "colab": {
      "name": "Python datatype& list.ipynb",
      "provenance": [],
      "collapsed_sections": [],
      "authorship_tag": "ABX9TyN0DeZMR3xCNGmJtqA8Tc2I",
      "include_colab_link": true
    },
    "kernelspec": {
      "name": "python3",
      "display_name": "Python 3"
    },
    "language_info": {
      "name": "python"
    }
  },
  "cells": [
    {
      "cell_type": "markdown",
      "metadata": {
        "id": "view-in-github",
        "colab_type": "text"
      },
      "source": [
        "<a href=\"https://colab.research.google.com/github/bhagyashridumbre/r-descriptive-statistics/blob/main/Python_datatype%26_list.ipynb\" target=\"_parent\"><img src=\"https://colab.research.google.com/assets/colab-badge.svg\" alt=\"Open In Colab\"/></a>"
      ]
    },
    {
      "cell_type": "markdown",
      "source": [
        "Python Numbers, Type Conversion and Mathematics"
      ],
      "metadata": {
        "id": "wWJTnFFGq1Ya"
      }
    },
    {
      "cell_type": "code",
      "execution_count": 1,
      "metadata": {
        "colab": {
          "base_uri": "https://localhost:8080/"
        },
        "id": "Q3AYjWILqzcv",
        "outputId": "d7d655ea-cbce-4a64-e6c2-d075bfe232a1"
      },
      "outputs": [
        {
          "output_type": "stream",
          "name": "stdout",
          "text": [
            "<class 'int'>\n",
            "<class 'float'>\n",
            "(8+3j)\n",
            "True\n"
          ]
        }
      ],
      "source": [
        "a = 5\n",
        "print(type(a))\n",
        "print(type(5.0))\n",
        "c = 5 + 3j\n",
        "print(c + 3)\n",
        "print(isinstance(c, complex))"
      ]
    },
    {
      "cell_type": "code",
      "source": [
        "# The numbers we deal with every day are of the decimal (base 10) number system\n",
        "# computer programmers (generally embedded programmers) need to work with binary (base 2), hexadecimal (base 16) and octal (base 8) number systems.\n",
        "# Binary - 'Ob' or 'OB'\n",
        "# Octal - 'Oo' or 'O0'\n",
        "# Hexadecimal - 'Ox' or 'OX'\n",
        "# Output: 107\n",
        "print(0b1101011)\n",
        "# Output: 253 (251 + 2)\n",
        "print(0xFB + 0b10)\n",
        "# Output: 13\n",
        "print(0o15)\n"
      ],
      "metadata": {
        "id": "2XYkTUWLrae6"
      },
      "execution_count": null,
      "outputs": []
    },
    {
      "cell_type": "markdown",
      "source": [
        "Type conversion"
      ],
      "metadata": {
        "id": "f5Fzq_4ms7Pz"
      }
    },
    {
      "cell_type": "code",
      "source": [
        "# We can convert one type of number into another. This is also known as coercion.\n",
        "# We can also use built-in functions like int(), float() and complex() to convert between types explicitly. These functions can even convert from strings.\n",
        "print(int(2.3))\n",
        "print(int(-2.8))\n",
        "print(float(5))\n",
        "print(complex('3+5j'))"
      ],
      "metadata": {
        "colab": {
          "base_uri": "https://localhost:8080/"
        },
        "id": "jIZtADybs-OR",
        "outputId": "a7d939ea-8f06-4c2b-d9d3-208e28477b26"
      },
      "execution_count": 4,
      "outputs": [
        {
          "output_type": "stream",
          "name": "stdout",
          "text": [
            "2\n",
            "-2\n",
            "5.0\n",
            "(3+5j)\n"
          ]
        }
      ]
    },
    {
      "cell_type": "code",
      "source": [
        "1.1 + 2.2\n",
        "# This will only approximate 0.1 but never be equal. Hence, it is the limitation of our computer hardware and not an error in Python.\n",
        "# To overcome this issue, we can use the decimal module that comes with Python.\n",
        "# While floating-point numbers have precision up to 15 decimal places, the decimal module has user-settable precision.\n",
        "\n"
      ],
      "metadata": {
        "colab": {
          "base_uri": "https://localhost:8080/"
        },
        "id": "t3WBfT49tubF",
        "outputId": "81d9243f-9b8c-4b29-f23a-a144703d1295"
      },
      "execution_count": 5,
      "outputs": [
        {
          "output_type": "execute_result",
          "data": {
            "text/plain": [
              "3.3000000000000003"
            ]
          },
          "metadata": {},
          "execution_count": 5
        }
      ]
    },
    {
      "cell_type": "code",
      "source": [
        "import decimal\n",
        "print(0.1)\n",
        "print(decimal.Decimal(0.1))"
      ],
      "metadata": {
        "colab": {
          "base_uri": "https://localhost:8080/"
        },
        "id": "KPMUFzJEuK0e",
        "outputId": "acb710c4-64ba-494e-d1ab-495d4b4a94e9"
      },
      "execution_count": 6,
      "outputs": [
        {
          "output_type": "stream",
          "name": "stdout",
          "text": [
            "0.1\n",
            "0.1000000000000000055511151231257827021181583404541015625\n"
          ]
        }
      ]
    },
    {
      "cell_type": "code",
      "source": [
        "from decimal import Decimal as D\n",
        "print(D('1.1') + D('2.2'))\n",
        "print(D('1.2') * D('2.50'))"
      ],
      "metadata": {
        "colab": {
          "base_uri": "https://localhost:8080/"
        },
        "id": "Vc-8qX3JuTq_",
        "outputId": "9f6d5386-7c7b-4206-fd12-8e79c671d08f"
      },
      "execution_count": 7,
      "outputs": [
        {
          "output_type": "stream",
          "name": "stdout",
          "text": [
            "3.3\n",
            "3.000\n"
          ]
        }
      ]
    },
    {
      "cell_type": "code",
      "source": [
        "# Floating point operations are carried out much faster than Decimal operations.\n",
        "# When to use Decimal instead of float?\n",
        "# When we are making financial applications that need exact decimal representation.\n",
        "# When we want to control the level of precision required.\n",
        "# When we want to implement the notion of significant decimal places."
      ],
      "metadata": {
        "id": "_agTymyaudny"
      },
      "execution_count": null,
      "outputs": []
    },
    {
      "cell_type": "markdown",
      "source": [
        "Python fractions"
      ],
      "metadata": {
        "id": "79QCAZ2auvkX"
      }
    },
    {
      "cell_type": "code",
      "source": [
        "import fractions\n",
        "print(fractions.Fraction(1.5))\n",
        "print(fractions.Fraction(5))\n",
        "print(fractions.Fraction(1,3))"
      ],
      "metadata": {
        "colab": {
          "base_uri": "https://localhost:8080/"
        },
        "id": "7fQfLEGqu1a_",
        "outputId": "9302c5b9-cb1f-4441-c8eb-d7e9b89b37e2"
      },
      "execution_count": 8,
      "outputs": [
        {
          "output_type": "stream",
          "name": "stdout",
          "text": [
            "3/2\n",
            "5\n",
            "1/3\n"
          ]
        }
      ]
    },
    {
      "cell_type": "code",
      "source": [
        "import fractions\n",
        "# As float\n",
        "# Output: 2476979795053773/2251799813685248\n",
        "print(fractions.Fraction(1.1))\n",
        "# As string\n",
        "# Output: 11/10\n",
        "print(fractions.Fraction('1.1'))"
      ],
      "metadata": {
        "colab": {
          "base_uri": "https://localhost:8080/"
        },
        "id": "ZPW1Vax0u_0e",
        "outputId": "4fea9385-9af9-449f-8b38-410c5aa9f599"
      },
      "execution_count": 9,
      "outputs": [
        {
          "output_type": "stream",
          "name": "stdout",
          "text": [
            "2476979795053773/2251799813685248\n",
            "11/10\n"
          ]
        }
      ]
    },
    {
      "cell_type": "code",
      "source": [
        "from fractions import Fraction as F\n",
        "print(F(1, 3) + F(1, 3))\n",
        "print(1 / F(5, 6))\n",
        "print(F(-3, 10) > 0)\n",
        "print(F(-3, 10) < 0)"
      ],
      "metadata": {
        "colab": {
          "base_uri": "https://localhost:8080/"
        },
        "id": "E1ec3PSPvFOV",
        "outputId": "f45e734c-8fb2-4981-bdaf-5e4030470086"
      },
      "execution_count": 10,
      "outputs": [
        {
          "output_type": "stream",
          "name": "stdout",
          "text": [
            "2/3\n",
            "6/5\n",
            "False\n",
            "True\n"
          ]
        }
      ]
    },
    {
      "cell_type": "markdown",
      "source": [
        "Python Mathematics"
      ],
      "metadata": {
        "id": "eV4xldNzvJ6b"
      }
    },
    {
      "cell_type": "code",
      "source": [
        "# Python offers modules like math and random to carry out different mathematics like trigonometry, logarithms, probability and statistics, etc.\n",
        "import math\n",
        "print(math.pi)\n",
        "print(math.cos(math.pi))\n",
        "print(math.exp(10))\n",
        "print(math.log10(1000))\n",
        "print(math.sinh(1))\n",
        "print(math.factorial(6))"
      ],
      "metadata": {
        "colab": {
          "base_uri": "https://localhost:8080/"
        },
        "id": "sHqRoP6CvOCI",
        "outputId": "875b8a3f-5474-4115-840b-13b2fa7deb8e"
      },
      "execution_count": 11,
      "outputs": [
        {
          "output_type": "stream",
          "name": "stdout",
          "text": [
            "3.141592653589793\n",
            "-1.0\n",
            "22026.465794806718\n",
            "3.0\n",
            "1.1752011936438014\n",
            "720\n"
          ]
        }
      ]
    },
    {
      "cell_type": "code",
      "source": [
        "import random\n",
        "print(random.randrange(10, 20))\n",
        "x = ['a', 'b', 'c', 'd', 'e']\n",
        "# Get random choice\n",
        "print(random.choice(x))\n",
        "\n",
        "# Shuffle x\n",
        "random.shuffle(x)\n",
        "\n",
        "# Print the shuffled x\n",
        "print(x)\n",
        "\n",
        "# Print random element\n",
        "print(random.random())"
      ],
      "metadata": {
        "colab": {
          "base_uri": "https://localhost:8080/"
        },
        "id": "4jw59XF4vbcy",
        "outputId": "558d30ff-10ec-4d43-f2a8-5188dce93198"
      },
      "execution_count": 12,
      "outputs": [
        {
          "output_type": "stream",
          "name": "stdout",
          "text": [
            "10\n",
            "a\n",
            "['d', 'c', 'a', 'b', 'e']\n",
            "0.535355002434394\n"
          ]
        }
      ]
    },
    {
      "cell_type": "markdown",
      "source": [
        "Python list"
      ],
      "metadata": {
        "id": "Kf_7ok01-Ocm"
      }
    },
    {
      "cell_type": "code",
      "source": [
        "# list of integers\n",
        "my_list = [1, 2, 3]\n",
        "# empty list\n",
        "my_list = []\n",
        "# list with mixed data types\n",
        "my_list = [1, \"Hello\", 3.4]\n",
        "# nested list\n",
        "my_list = [\"mouse\", [8, 4, 6], ['a']]"
      ],
      "metadata": {
        "id": "88VbmAcKvbbk"
      },
      "execution_count": null,
      "outputs": []
    },
    {
      "cell_type": "markdown",
      "source": [
        "Access list elements"
      ],
      "metadata": {
        "id": "MiWikxDg-leA"
      }
    },
    {
      "cell_type": "code",
      "source": [
        "my_list = ['p', 'r', 'o', 'b', 'e']\n",
        "\n",
        "# first item\n",
        "print(my_list[0])  # p\n",
        "\n",
        "# third item\n",
        "print(my_list[2])  # o\n",
        "\n",
        "# fifth item\n",
        "print(my_list[4])  # e\n",
        "\n",
        "# Nested List\n",
        "n_list = [\"Happy\", [2, 0, 1, 5]]\n",
        "\n",
        "# Nested indexing\n",
        "print(n_list[0][1])\n",
        "\n",
        "print(n_list[1][3])\n",
        "\n",
        "# Error! Only integer can be used for indexing\n",
        "print(my_list[4.0])"
      ],
      "metadata": {
        "id": "jcdL9LqbvbXq"
      },
      "execution_count": null,
      "outputs": []
    },
    {
      "cell_type": "markdown",
      "source": [
        "Negative indexing"
      ],
      "metadata": {
        "id": "CQBbVf0B-3mY"
      }
    },
    {
      "cell_type": "code",
      "source": [
        "# Negative indexing in lists\n",
        "my_list = ['p','r','o','b','e']\n",
        "\n",
        "# last item\n",
        "print(my_list[-1])\n",
        "\n",
        "# fifth last item\n",
        "print(my_list[-5])"
      ],
      "metadata": {
        "id": "W1cujjmN-5yI"
      },
      "execution_count": null,
      "outputs": []
    },
    {
      "cell_type": "markdown",
      "source": [
        "List Slicing in Python"
      ],
      "metadata": {
        "id": "ZfgC_fGT_AmH"
      }
    },
    {
      "cell_type": "code",
      "source": [
        "# List slicing in Python\n",
        "my_list = ['p','r','o','g','r','a','m','i','z']\n",
        "\n",
        "# elements from index 2 to index 4\n",
        "print(my_list[2:5])\n",
        "\n",
        "# elements from index 5 to end\n",
        "print(my_list[5:])\n",
        "\n",
        "# elements beginning to end\n",
        "print(my_list[:])\n",
        "#  When we slice lists, the start index is inclusive but the end index is exclusive.\n"
      ],
      "metadata": {
        "id": "crckufXQ_CiD"
      },
      "execution_count": null,
      "outputs": []
    },
    {
      "cell_type": "markdown",
      "source": [
        "Add/Change List Elements"
      ],
      "metadata": {
        "id": "cRLX8GH7_OeG"
      }
    },
    {
      "cell_type": "code",
      "source": [
        "# Lists are mutable, meaning their elements can be changed unlike string or tuple.\n",
        "# Correcting mistake values in a list\n",
        "odd = [2, 4, 6, 8]\n",
        "\n",
        "# change the 1st item    \n",
        "odd[0] = 1            \n",
        "\n",
        "print(odd)\n",
        "\n",
        "# change 2nd to 4th items\n",
        "odd[1:4] = [3, 5, 7]  \n",
        "\n",
        "print(odd)                   "
      ],
      "metadata": {
        "colab": {
          "base_uri": "https://localhost:8080/"
        },
        "id": "fLlPFtmm_SI_",
        "outputId": "750cd65a-9d51-41b3-a7c2-6915217dc14d"
      },
      "execution_count": 14,
      "outputs": [
        {
          "output_type": "stream",
          "name": "stdout",
          "text": [
            "[1, 4, 6, 8]\n",
            "[1, 3, 5, 7]\n"
          ]
        }
      ]
    },
    {
      "cell_type": "code",
      "source": [
        "# Appending and Extending lists in Python\n",
        "odd = [1, 3, 5]\n",
        "\n",
        "odd.append(7)\n",
        "\n",
        "print(odd)\n",
        "\n",
        "odd.extend([9, 11, 13])\n",
        "\n",
        "print(odd)"
      ],
      "metadata": {
        "colab": {
          "base_uri": "https://localhost:8080/"
        },
        "id": "gc7_MnbW_bCO",
        "outputId": "775b98f4-e436-46fd-e95e-8d3a7a524ba5"
      },
      "execution_count": 15,
      "outputs": [
        {
          "output_type": "stream",
          "name": "stdout",
          "text": [
            "[1, 3, 5, 7]\n",
            "[1, 3, 5, 7, 9, 11, 13]\n"
          ]
        }
      ]
    },
    {
      "cell_type": "code",
      "source": [
        "# Concatenating and repeating lists\n",
        "odd = [1, 3, 5]\n",
        "\n",
        "print(odd + [9, 7, 5])\n",
        "\n",
        "print([\"re\"] * 3)"
      ],
      "metadata": {
        "colab": {
          "base_uri": "https://localhost:8080/"
        },
        "id": "HQXfpxFE_dGw",
        "outputId": "f6af7715-e9c8-4b20-a9c8-b10a7468add2"
      },
      "execution_count": 17,
      "outputs": [
        {
          "output_type": "stream",
          "name": "stdout",
          "text": [
            "[1, 3, 5, 9, 7, 5]\n",
            "['re', 're', 're']\n"
          ]
        }
      ]
    },
    {
      "cell_type": "code",
      "source": [
        "# Demonstration of list insert() method\n",
        "odd = [1, 9]\n",
        "odd.insert(1,3)\n",
        "\n",
        "print(odd)\n",
        "\n",
        "odd[2:2] = [5, 7]\n",
        "\n",
        "print(odd)"
      ],
      "metadata": {
        "colab": {
          "base_uri": "https://localhost:8080/"
        },
        "id": "NVx-szDw_kDy",
        "outputId": "bef39125-bf5c-4209-f424-43d06d500a20"
      },
      "execution_count": 19,
      "outputs": [
        {
          "output_type": "stream",
          "name": "stdout",
          "text": [
            "[1, 3, 9]\n",
            "[1, 3, 5, 7, 9]\n"
          ]
        }
      ]
    },
    {
      "cell_type": "markdown",
      "source": [
        "Delete list elements"
      ],
      "metadata": {
        "id": "Hz2ThT_LSW7w"
      }
    },
    {
      "cell_type": "code",
      "source": [
        "# Deleting list items\n",
        "my_list = ['p', 'r', 'o', 'b', 'l', 'e', 'm']\n",
        "\n",
        "# delete one item\n",
        "del my_list[2]\n",
        "\n",
        "print(my_list)\n",
        "\n",
        "# delete multiple items\n",
        "del my_list[1:5]\n",
        "\n",
        "print(my_list)\n",
        "\n",
        "# delete the entire list\n",
        "del my_list\n",
        "\n",
        "# Error: List not defined\n",
        "# print(my_list)"
      ],
      "metadata": {
        "colab": {
          "base_uri": "https://localhost:8080/"
        },
        "id": "24Eifeo8SWXl",
        "outputId": "0c0719fe-aa4d-4e55-f7e6-260a4a4c2dcd"
      },
      "execution_count": 21,
      "outputs": [
        {
          "output_type": "stream",
          "name": "stdout",
          "text": [
            "['p', 'r', 'b', 'l', 'e', 'm']\n",
            "['p', 'm']\n"
          ]
        }
      ]
    },
    {
      "cell_type": "code",
      "source": [
        "my_list = ['p','r','o','b','l','e','m']\n",
        "my_list.remove('p')\n",
        "# Output: ['r', 'o', 'b', 'l', 'e', 'm']\n",
        "print(my_list)\n",
        "# Output: 'o'\n",
        "print(my_list.pop(1))\n",
        "# Output: ['r', 'b', 'l', 'e', 'm']\n",
        "print(my_list)\n",
        "# Output: 'm'\n",
        "print(my_list.pop())\n",
        "# Output: ['r', 'b', 'l', 'e']\n",
        "print(my_list)\n",
        "my_list.clear()\n",
        "# Output: []\n",
        "print(my_list)"
      ],
      "metadata": {
        "colab": {
          "base_uri": "https://localhost:8080/"
        },
        "id": "0kCPB826SvrA",
        "outputId": "167373e4-2ecd-4db4-b0ec-9537616d58eb"
      },
      "execution_count": 22,
      "outputs": [
        {
          "output_type": "stream",
          "name": "stdout",
          "text": [
            "['r', 'o', 'b', 'l', 'e', 'm']\n",
            "o\n",
            "['r', 'b', 'l', 'e', 'm']\n",
            "m\n",
            "['r', 'b', 'l', 'e']\n",
            "[]\n"
          ]
        }
      ]
    },
    {
      "cell_type": "code",
      "source": [
        "my_list = ['p','r','o','b','l','e','m']\n",
        "my_list[2:3] = []\n",
        "print(my_list)\n",
        "my_list[2:5] = []\n",
        "print(my_list)\n"
      ],
      "metadata": {
        "colab": {
          "base_uri": "https://localhost:8080/"
        },
        "id": "PGF1DoAXS60z",
        "outputId": "cb9bb837-9f98-4ac8-ab20-44f5a74b9f04"
      },
      "execution_count": 24,
      "outputs": [
        {
          "output_type": "stream",
          "name": "stdout",
          "text": [
            "['p', 'r', 'b', 'l', 'e', 'm']\n",
            "['p', 'r', 'm']\n"
          ]
        }
      ]
    },
    {
      "cell_type": "code",
      "source": [
        "# list methods\n",
        "# append()- adds an element to the end of the list\n",
        "# The append() method adds an item to the end of the list.\n",
        "currencies = ['Dollar', 'Euro', 'Pound']\n",
        "# append 'Yen' to the list\n",
        "currencies.append('Yen')\n",
        "print(currencies)\n",
        "# Output: ['Dollar', 'Euro', 'Pound', 'Yen']"
      ],
      "metadata": {
        "colab": {
          "base_uri": "https://localhost:8080/"
        },
        "id": "uAr_qVUjThnB",
        "outputId": "155263c7-f4ec-47d1-a43c-7698b07492e0"
      },
      "execution_count": 25,
      "outputs": [
        {
          "output_type": "stream",
          "name": "stdout",
          "text": [
            "['Dollar', 'Euro', 'Pound', 'Yen']\n"
          ]
        }
      ]
    },
    {
      "cell_type": "code",
      "source": [
        "# animals list\n",
        "animals = ['cat', 'dog', 'rabbit']\n",
        "# Add 'guinea pig' to the list\n",
        "animals.append('guinea pig')\n",
        "print('Updated animals list: ', animals)"
      ],
      "metadata": {
        "colab": {
          "base_uri": "https://localhost:8080/"
        },
        "id": "bSA4WcFbT8hS",
        "outputId": "0e1b2ffc-5835-4431-c43d-58892b3afb7c"
      },
      "execution_count": 26,
      "outputs": [
        {
          "output_type": "stream",
          "name": "stdout",
          "text": [
            "Updated animals list:  ['cat', 'dog', 'rabbit', 'guinea pig']\n"
          ]
        }
      ]
    },
    {
      "cell_type": "code",
      "source": [
        "# animals list\n",
        "animals = ['cat', 'dog', 'rabbit']\n",
        "# list of wild animals\n",
        "wild_animals = ['tiger', 'fox']\n",
        "# appending wild_animals list to animals\n",
        "animals.append(wild_animals)\n",
        "print('Updated animals list: ', animals)"
      ],
      "metadata": {
        "colab": {
          "base_uri": "https://localhost:8080/"
        },
        "id": "vagUYQJXUHme",
        "outputId": "27b5a871-ffc2-470a-bce4-0345612ce1aa"
      },
      "execution_count": 27,
      "outputs": [
        {
          "output_type": "stream",
          "name": "stdout",
          "text": [
            "Updated animals list:  ['cat', 'dog', 'rabbit', ['tiger', 'fox']]\n"
          ]
        }
      ]
    },
    {
      "cell_type": "markdown",
      "source": [
        "Extend"
      ],
      "metadata": {
        "id": "-7xAXYR4UVw0"
      }
    },
    {
      "cell_type": "code",
      "source": [
        "# The extend() method adds all the elements of an iterable (list, tuple, string etc.) to the end of the list.\n",
        "# create a list\n",
        "prime_numbers = [2, 3, 5]\n",
        "# create another list\n",
        "numbers = [1, 4]\n",
        "# add all elements of prime_numbers to numbers\n",
        "numbers.extend(prime_numbers)\n",
        "print('List after extend():', numbers)\n",
        "# Output: List after extend(): [1, 4, 2, 3, 5]"
      ],
      "metadata": {
        "colab": {
          "base_uri": "https://localhost:8080/"
        },
        "id": "pQCSjh7IUZQS",
        "outputId": "4fec7782-5bb1-4445-9318-e61595c02e31"
      },
      "execution_count": 28,
      "outputs": [
        {
          "output_type": "stream",
          "name": "stdout",
          "text": [
            "List after extend(): [1, 4, 2, 3, 5]\n"
          ]
        }
      ]
    },
    {
      "cell_type": "code",
      "source": [
        "# languages list\n",
        "languages = ['French', 'English']\n",
        "# another list of language\n",
        "languages1 = ['Spanish', 'Portuguese']\n",
        "# appending language1 elements to language\n",
        "languages.extend(languages1)\n",
        "print('Languages List:', languages)"
      ],
      "metadata": {
        "colab": {
          "base_uri": "https://localhost:8080/"
        },
        "id": "v4KR9ZKTUo8w",
        "outputId": "8a11e4d5-cc6f-4b9e-feeb-a7870b6fbf1c"
      },
      "execution_count": 29,
      "outputs": [
        {
          "output_type": "stream",
          "name": "stdout",
          "text": [
            "Languages List: ['French', 'English', 'Spanish', 'Portuguese']\n"
          ]
        }
      ]
    },
    {
      "cell_type": "code",
      "source": [
        "# languages list\n",
        "languages = ['French']\n",
        "# languages tuple\n",
        "languages_tuple = ('Spanish', 'Portuguese')\n",
        "# languages set\n",
        "languages_set = {'Chinese', 'Japanese'}\n",
        "# appending language_tuple elements to language\n",
        "languages.extend(languages_tuple)\n",
        "print('New Language List:', languages)\n",
        "\n",
        "# appending language_set elements to language\n",
        "languages.extend(languages_set)\n",
        "print('Newer Languages List:', languages)"
      ],
      "metadata": {
        "colab": {
          "base_uri": "https://localhost:8080/"
        },
        "id": "act1Xx3nUzb_",
        "outputId": "43a5e571-fdfd-4148-9d24-f212f8b8efab"
      },
      "execution_count": 30,
      "outputs": [
        {
          "output_type": "stream",
          "name": "stdout",
          "text": [
            "New Language List: ['French', 'Spanish', 'Portuguese']\n",
            "Newer Languages List: ['French', 'Spanish', 'Portuguese', 'Chinese', 'Japanese']\n"
          ]
        }
      ]
    },
    {
      "cell_type": "code",
      "source": [
        "a = [1, 2]\n",
        "b = [3, 4]\n",
        "a += b    # a = a + b\n",
        "# Output: [1, 2, 3, 4]\n",
        "print('a =', a)"
      ],
      "metadata": {
        "colab": {
          "base_uri": "https://localhost:8080/"
        },
        "id": "-q1LapXKVAUG",
        "outputId": "38d86e20-0baa-4895-ec3a-57a4b5e5f31d"
      },
      "execution_count": 31,
      "outputs": [
        {
          "output_type": "stream",
          "name": "stdout",
          "text": [
            "a = [1, 2, 3, 4]\n"
          ]
        }
      ]
    },
    {
      "cell_type": "code",
      "source": [
        "a = [1, 2]\n",
        "b = [3, 4]\n",
        "a[len(a):] = b\n",
        "# Output: [1, 2, 3, 4]\n",
        "print('a =', a)"
      ],
      "metadata": {
        "colab": {
          "base_uri": "https://localhost:8080/"
        },
        "id": "3xSIoq7wVGOF",
        "outputId": "f71dbde4-36b6-4e83-a2da-35cc14936e31"
      },
      "execution_count": 32,
      "outputs": [
        {
          "output_type": "stream",
          "name": "stdout",
          "text": [
            "a = [1, 2, 3, 4]\n"
          ]
        }
      ]
    },
    {
      "cell_type": "code",
      "source": [
        "a1 = [1, 2]\n",
        "a2 = [1, 2]\n",
        "b = (3, 4)\n",
        "# a1 = [1, 2, 3, 4]\n",
        "a1.extend(b) \n",
        "print(a1)\n",
        "# a2 = [1, 2, (3, 4)]\n",
        "a2.append(b)\n",
        "print(a2)"
      ],
      "metadata": {
        "colab": {
          "base_uri": "https://localhost:8080/"
        },
        "id": "eaUhO6yfVT6v",
        "outputId": "2ba5b817-67f2-4a7d-e099-db2dedb91045"
      },
      "execution_count": 33,
      "outputs": [
        {
          "output_type": "stream",
          "name": "stdout",
          "text": [
            "[1, 2, 3, 4]\n",
            "[1, 2, (3, 4)]\n"
          ]
        }
      ]
    },
    {
      "cell_type": "markdown",
      "source": [
        "insert\n",
        "The insert() method inserts an element to the list at the specified index."
      ],
      "metadata": {
        "id": "AyA0-khUVixf"
      }
    },
    {
      "cell_type": "code",
      "source": [
        "# create a list of vowels\n",
        "vowel = ['a', 'e', 'i', 'u']\n",
        "# 'o' is inserted at index 3 (4th position)\n",
        "vowel.insert(3, 'o')\n",
        "print('List:', vowel)\n",
        "# Output: List: ['a', 'e', 'i', 'o', 'u']"
      ],
      "metadata": {
        "colab": {
          "base_uri": "https://localhost:8080/"
        },
        "id": "t6kWLujpVmtE",
        "outputId": "c4329d9b-3eda-4c1f-bbc6-5f7527065cb3"
      },
      "execution_count": 34,
      "outputs": [
        {
          "output_type": "stream",
          "name": "stdout",
          "text": [
            "List: ['a', 'e', 'i', 'o', 'u']\n"
          ]
        }
      ]
    },
    {
      "cell_type": "code",
      "source": [
        "# he insert() method doesn't return anything; returns None. It only updates the current list.\n",
        "# create a list of prime numbers\n",
        "prime_numbers = [2, 3, 5, 7]\n",
        "# insert 11 at index 4\n",
        "prime_numbers.insert(4, 11)\n",
        "print('List:', prime_numbers)"
      ],
      "metadata": {
        "colab": {
          "base_uri": "https://localhost:8080/"
        },
        "id": "GOuAhsdCVxBQ",
        "outputId": "80d4a5ed-2176-4882-dc88-15ab13f58f04"
      },
      "execution_count": 36,
      "outputs": [
        {
          "output_type": "stream",
          "name": "stdout",
          "text": [
            "List: [2, 3, 5, 7, 11]\n"
          ]
        }
      ]
    },
    {
      "cell_type": "code",
      "source": [
        "mixed_list = [{1, 2}, [5, 6, 7]]\n",
        "# number tuple\n",
        "number_tuple = (3, 4)\n",
        "# inserting a tuple to the list\n",
        "mixed_list.insert(1, number_tuple)\n",
        "print('Updated List:', mixed_list)"
      ],
      "metadata": {
        "colab": {
          "base_uri": "https://localhost:8080/"
        },
        "id": "f4RbtubBWBPM",
        "outputId": "9e8e13b6-74b9-4c0d-c60e-d900c229adb1"
      },
      "execution_count": 37,
      "outputs": [
        {
          "output_type": "stream",
          "name": "stdout",
          "text": [
            "Updated List: [{1, 2}, (3, 4), [5, 6, 7]]\n"
          ]
        }
      ]
    },
    {
      "cell_type": "markdown",
      "source": [
        "Remove\n",
        "The remove() method removes the first matching element (which is passed as an argument) from the list.\n"
      ],
      "metadata": {
        "id": "cCoBQm5IWUYy"
      }
    },
    {
      "cell_type": "code",
      "source": [
        "# create a list\n",
        "prime_numbers = [2, 3, 5, 7, 9, 11]\n",
        "# remove 9 from the list\n",
        "prime_numbers.remove(9)\n",
        "# Updated prime_numbers List\n",
        "print('Updated List: ', prime_numbers)\n",
        "# Output: Updated List:  [2, 3, 5, 7, 11]"
      ],
      "metadata": {
        "colab": {
          "base_uri": "https://localhost:8080/"
        },
        "id": "R0UDToELWZSt",
        "outputId": "5f04aae3-69c7-4bde-9549-ec7698c74c4a"
      },
      "execution_count": 38,
      "outputs": [
        {
          "output_type": "stream",
          "name": "stdout",
          "text": [
            "Updated List:  [2, 3, 5, 7, 11]\n"
          ]
        }
      ]
    },
    {
      "cell_type": "code",
      "source": [
        "# animals list\n",
        "animals = ['cat', 'dog', 'rabbit', 'guinea pig']\n",
        "# 'rabbit' is removed\n",
        "animals.remove('rabbit')\n",
        "# Updated animals List\n",
        "print('Updated animals list: ', animals)"
      ],
      "metadata": {
        "colab": {
          "base_uri": "https://localhost:8080/"
        },
        "id": "Gk8POaGvWmQC",
        "outputId": "b99b115b-7feb-47bd-d815-865226815b37"
      },
      "execution_count": 39,
      "outputs": [
        {
          "output_type": "stream",
          "name": "stdout",
          "text": [
            "Updated animals list:  ['cat', 'dog', 'guinea pig']\n"
          ]
        }
      ]
    },
    {
      "cell_type": "code",
      "source": [
        "# animals list\n",
        "animals = ['cat', 'dog', 'dog', 'guinea pig', 'dog']\n",
        "# 'dog' is removed\n",
        "animals.remove('dog')\n",
        "# Updated animals list\n",
        "print('Updated animals list: ', animals)"
      ],
      "metadata": {
        "colab": {
          "base_uri": "https://localhost:8080/"
        },
        "id": "xlFl0siVWq9h",
        "outputId": "015e42f9-5fe3-415a-961a-bf96229dc331"
      },
      "execution_count": 40,
      "outputs": [
        {
          "output_type": "stream",
          "name": "stdout",
          "text": [
            "Updated animals list:  ['cat', 'dog', 'guinea pig', 'dog']\n"
          ]
        }
      ]
    },
    {
      "cell_type": "code",
      "source": [
        "# animals list\n",
        "animals = ['cat', 'dog', 'rabbit', 'guinea pig']\n",
        "# Deleting 'fish' element\n",
        "animals.remove('fish')\n",
        "# Updated animals List\n",
        "print('Updated animals list: ', animals)"
      ],
      "metadata": {
        "id": "GRca080OW2Dr"
      },
      "execution_count": null,
      "outputs": []
    },
    {
      "cell_type": "code",
      "source": [
        "# f you need to delete elements based on the index (like the fourth element), you can use the pop() method.\n",
        "# Also, you can use the Python del statement to remove items from the list.\n"
      ],
      "metadata": {
        "id": "lJ2inF5RW_L6"
      },
      "execution_count": null,
      "outputs": []
    },
    {
      "cell_type": "markdown",
      "source": [
        "Python List count\n",
        "The count() method returns the number of times the specified element appears in the list."
      ],
      "metadata": {
        "id": "-3SuYYbxXLMa"
      }
    },
    {
      "cell_type": "code",
      "source": [
        "# create a list\n",
        "numbers = [2, 3, 5, 2, 11, 2, 7]\n",
        "# check the count of 2\n",
        "count = numbers.count(2)\n",
        "print('Count of 2:', count)\n",
        "# Output: Count of 2: 3"
      ],
      "metadata": {
        "colab": {
          "base_uri": "https://localhost:8080/"
        },
        "id": "CLN_XGXAXRYN",
        "outputId": "28b7fd7a-7260-4c6a-bfc5-b054043814d4"
      },
      "execution_count": 42,
      "outputs": [
        {
          "output_type": "stream",
          "name": "stdout",
          "text": [
            "Count of 2: 3\n"
          ]
        }
      ]
    },
    {
      "cell_type": "code",
      "source": [
        "# vowels list\n",
        "vowels = ['a', 'e', 'i', 'o', 'i', 'u']\n",
        "# count element 'i'\n",
        "count = vowels.count('i')\n",
        "# print count\n",
        "print('The count of i is:', count)\n",
        "# count element 'p'\n",
        "count = vowels.count('p')\n",
        "# print count\n",
        "print('The count of p is:', count)"
      ],
      "metadata": {
        "colab": {
          "base_uri": "https://localhost:8080/"
        },
        "id": "saWJXj7cXbwF",
        "outputId": "146d244d-0e5d-4927-b1a3-8769273be94c"
      },
      "execution_count": 43,
      "outputs": [
        {
          "output_type": "stream",
          "name": "stdout",
          "text": [
            "The count of i is: 2\n",
            "The count of p is: 0\n"
          ]
        }
      ]
    },
    {
      "cell_type": "code",
      "source": [
        "# random list\n",
        "random = ['a', ('a', 'b'), ('a', 'b'), [3, 4]]\n",
        "# count element ('a', 'b')\n",
        "count = random.count(('a', 'b'))\n",
        "# print count\n",
        "print(\"The count of ('a', 'b') is:\", count)\n",
        "# count element [3, 4]\n",
        "count = random.count([3, 4])\n",
        "# print count\n",
        "print(\"The count of [3, 4] is:\", count)"
      ],
      "metadata": {
        "colab": {
          "base_uri": "https://localhost:8080/"
        },
        "id": "A6dceZT4XjHo",
        "outputId": "e92c293e-faba-4785-bbbc-928eacc6012a"
      },
      "execution_count": 44,
      "outputs": [
        {
          "output_type": "stream",
          "name": "stdout",
          "text": [
            "The count of ('a', 'b') is: 2\n",
            "The count of [3, 4] is: 1\n"
          ]
        }
      ]
    },
    {
      "cell_type": "markdown",
      "source": [
        "pop()\n",
        "# The pop() method removes the item at the given index from the list and returns the removed item.\n"
      ],
      "metadata": {
        "id": "mIok0X8cX7sb"
      }
    },
    {
      "cell_type": "code",
      "source": [
        "# create a list of prime numbers\n",
        "prime_numbers = [2, 3, 5, 7]\n",
        "# remove the element at index 2\n",
        "removed_element = prime_numbers.pop(2)\n",
        "print('Removed Element:', removed_element)\n",
        "print('Updated List:', prime_numbers)\n",
        "# Output: \n",
        "# Removed Element: 5\n",
        "# Updated List: [2, 3, 7]"
      ],
      "metadata": {
        "colab": {
          "base_uri": "https://localhost:8080/"
        },
        "id": "XzIVXs7jXnfq",
        "outputId": "aacb5b5d-e5a3-40d5-c027-11efd778e6c3"
      },
      "execution_count": 45,
      "outputs": [
        {
          "output_type": "stream",
          "name": "stdout",
          "text": [
            "Removed Element: 5\n",
            "Updated List: [2, 3, 7]\n"
          ]
        }
      ]
    },
    {
      "cell_type": "code",
      "source": [
        "# programming languages list\n",
        "languages = ['Python', 'Java', 'C++', 'French', 'C']\n",
        "# remove and return the 4th item\n",
        "return_value = languages.pop(3)\n",
        "print('Return Value:', return_value)\n",
        "# Updated List\n",
        "print('Updated List:', languages)"
      ],
      "metadata": {
        "colab": {
          "base_uri": "https://localhost:8080/"
        },
        "id": "3hrUr675YMPP",
        "outputId": "802295db-9811-45e2-c378-04ca8adcb6f6"
      },
      "execution_count": 46,
      "outputs": [
        {
          "output_type": "stream",
          "name": "stdout",
          "text": [
            "Return Value: French\n",
            "Updated List: ['Python', 'Java', 'C++', 'C']\n"
          ]
        }
      ]
    },
    {
      "cell_type": "code",
      "source": [
        "# programming languages list\n",
        "languages = ['Python', 'Java', 'C++', 'Ruby', 'C']\n",
        "# remove and return the last item\n",
        "print('When index is not passed:') \n",
        "print('Return Value:', languages.pop())\n",
        "print('Updated List:', languages)\n",
        "# remove and return the last item\n",
        "print('\\nWhen -1 is passed:') \n",
        "print('Return Value:', languages.pop(-1))\n",
        "print('Updated List:', languages)\n",
        "# remove and return the third last item\n",
        "print('\\nWhen -3 is passed:') \n",
        "print('Return Value:', languages.pop(-3))\n",
        "print('Updated List:', languages)"
      ],
      "metadata": {
        "colab": {
          "base_uri": "https://localhost:8080/"
        },
        "id": "h7Qj0MP9YT3C",
        "outputId": "83a58d91-5598-46a1-8e62-5f1ce29fd9b2"
      },
      "execution_count": 47,
      "outputs": [
        {
          "output_type": "stream",
          "name": "stdout",
          "text": [
            "When index is not passed:\n",
            "Return Value: C\n",
            "Updated List: ['Python', 'Java', 'C++', 'Ruby']\n",
            "\n",
            "When -1 is passed:\n",
            "Return Value: Ruby\n",
            "Updated List: ['Python', 'Java', 'C++']\n",
            "\n",
            "When -3 is passed:\n",
            "Return Value: Python\n",
            "Updated List: ['Java', 'C++']\n"
          ]
        }
      ]
    },
    {
      "cell_type": "code",
      "source": [
        "# If you need to remove the given item from the list, you can use the remove() method.\n",
        "# you can use the del statement to remove an item or slices from the list."
      ],
      "metadata": {
        "id": "KokGkaD_YZ-W"
      },
      "execution_count": null,
      "outputs": []
    },
    {
      "cell_type": "markdown",
      "source": [
        "List Reverse()"
      ],
      "metadata": {
        "id": "Qzohq1MrYotb"
      }
    },
    {
      "cell_type": "code",
      "source": [
        "# The reverse() method reverses the elements of the list.\n",
        "# create a list of prime numbers\n",
        "prime_numbers = [2, 3, 5, 7]\n",
        "# reverse the order of list elements\n",
        "prime_numbers.reverse()\n",
        "print('Reversed List:', prime_numbers)\n",
        "# Output: Reversed List: [7, 5, 3, 2]"
      ],
      "metadata": {
        "colab": {
          "base_uri": "https://localhost:8080/"
        },
        "id": "ihv_P-CVYsFf",
        "outputId": "6fc0fbef-3237-4035-f376-85049be4871b"
      },
      "execution_count": 49,
      "outputs": [
        {
          "output_type": "stream",
          "name": "stdout",
          "text": [
            "Reversed List: [7, 5, 3, 2]\n"
          ]
        }
      ]
    },
    {
      "cell_type": "code",
      "source": [
        "# Operating System List\n",
        "systems = ['Windows', 'macOS', 'Linux']\n",
        "print('Original List:', systems)\n",
        "\n",
        "# List Reverse\n",
        "systems.reverse()\n",
        "# updated list\n",
        "print('Updated List:', systems)"
      ],
      "metadata": {
        "colab": {
          "base_uri": "https://localhost:8080/"
        },
        "id": "PN2Hdo4KY4Id",
        "outputId": "9558cad8-7549-467d-b0ec-0e45510f107a"
      },
      "execution_count": 50,
      "outputs": [
        {
          "output_type": "stream",
          "name": "stdout",
          "text": [
            "Original List: ['Windows', 'macOS', 'Linux']\n",
            "Updated List: ['Linux', 'macOS', 'Windows']\n"
          ]
        }
      ]
    },
    {
      "cell_type": "code",
      "source": [
        "# Operating System List\n",
        "systems = ['Windows', 'macOS', 'Linux']\n",
        "print('Original List:', systems)\n",
        "# Reversing a list\t\n",
        "# Syntax: reversed_list = systems[start:stop:step] \n",
        "reversed_list = systems[::-1]\n",
        "# updated list\n",
        "print('Updated List:', reversed_list)"
      ],
      "metadata": {
        "colab": {
          "base_uri": "https://localhost:8080/"
        },
        "id": "BfzC3lWOY-hC",
        "outputId": "a5d5d402-1b5f-4b8f-98b3-950ea58425ad"
      },
      "execution_count": 51,
      "outputs": [
        {
          "output_type": "stream",
          "name": "stdout",
          "text": [
            "Original List: ['Windows', 'macOS', 'Linux']\n",
            "Updated List: ['Linux', 'macOS', 'Windows']\n"
          ]
        }
      ]
    },
    {
      "cell_type": "code",
      "source": [
        "# Operating System List\n",
        "systems = ['Windows', 'macOS', 'Linux']\n",
        "# Printing Elements in Reversed Order\n",
        "for o in reversed(systems):\n",
        "    print(o)"
      ],
      "metadata": {
        "colab": {
          "base_uri": "https://localhost:8080/"
        },
        "id": "ZXjDUm-SZI-4",
        "outputId": "b657b2f9-0f5d-453c-8200-eee80495b991"
      },
      "execution_count": 52,
      "outputs": [
        {
          "output_type": "stream",
          "name": "stdout",
          "text": [
            "Linux\n",
            "macOS\n",
            "Windows\n"
          ]
        }
      ]
    },
    {
      "cell_type": "markdown",
      "source": [
        "list Sort"
      ],
      "metadata": {
        "id": "n-6fCtW5ZZ7y"
      }
    },
    {
      "cell_type": "code",
      "source": [
        "# The sort() method sorts the items of a list in ascending or descending order.\n",
        "prime_numbers = [11, 3, 7, 5, 2]\n",
        "# sorting the list in ascending order\n",
        "prime_numbers.sort()\n",
        "print(prime_numbers)\n",
        "# Output: [2, 3, 5, 7, 11]"
      ],
      "metadata": {
        "colab": {
          "base_uri": "https://localhost:8080/"
        },
        "id": "v4n4lyRpZcYE",
        "outputId": "73b06244-dda4-4475-ed91-654b59be0e88"
      },
      "execution_count": 53,
      "outputs": [
        {
          "output_type": "stream",
          "name": "stdout",
          "text": [
            "[2, 3, 5, 7, 11]\n"
          ]
        }
      ]
    },
    {
      "cell_type": "code",
      "source": [
        "# vowels list\n",
        "vowels = ['e', 'a', 'u', 'o', 'i']\n",
        "# sort the vowels\n",
        "vowels.sort()\n",
        "# print vowels\n",
        "print('Sorted list:', vowels)"
      ],
      "metadata": {
        "id": "rEsTSMcaZopB"
      },
      "execution_count": null,
      "outputs": []
    },
    {
      "cell_type": "code",
      "source": [
        "# vowels list\n",
        "vowels = ['e', 'a', 'u', 'o', 'i']\n",
        "# sort the vowels\n",
        "vowels.sort(reverse=True)\n",
        "# print vowels\n",
        "print('Sorted list (in Descending):', vowels)"
      ],
      "metadata": {
        "colab": {
          "base_uri": "https://localhost:8080/"
        },
        "id": "9mUn47eRZsMM",
        "outputId": "5e55216c-44c3-4144-e9d9-eb17a68a30bf"
      },
      "execution_count": 55,
      "outputs": [
        {
          "output_type": "stream",
          "name": "stdout",
          "text": [
            "Sorted list (in Descending): ['u', 'o', 'i', 'e', 'a']\n"
          ]
        }
      ]
    },
    {
      "cell_type": "code",
      "source": [
        "# take second element for sort\n",
        "def takeSecond(elem):\n",
        "    return elem[1]\n",
        "# random list\n",
        "random = [(2, 2), (3, 4), (4, 1), (1, 3)]\n",
        "# sort list with key\n",
        "random.sort(key=takeSecond)\n",
        "# print list\n",
        "print('Sorted list:', random)"
      ],
      "metadata": {
        "colab": {
          "base_uri": "https://localhost:8080/"
        },
        "id": "rR1nDxhTZ0lP",
        "outputId": "9564c8c4-f646-4c77-b0d6-0c02c7f20ff1"
      },
      "execution_count": 56,
      "outputs": [
        {
          "output_type": "stream",
          "name": "stdout",
          "text": [
            "Sorted list: [(4, 1), (2, 2), (1, 3), (3, 4)]\n"
          ]
        }
      ]
    },
    {
      "cell_type": "code",
      "source": [
        "# sorting using custom key\n",
        "employees = [\n",
        "    {'Name': 'Alan Turing', 'age': 25, 'salary': 10000},\n",
        "    {'Name': 'Sharon Lin', 'age': 30, 'salary': 8000},\n",
        "    {'Name': 'John Hopkins', 'age': 18, 'salary': 1000},\n",
        "    {'Name': 'Mikhail Tal', 'age': 40, 'salary': 15000},\n",
        "]\n",
        "\n",
        "# custom functions to get employee info\n",
        "def get_name(employee):\n",
        "    return employee.get('Name')\n",
        "\n",
        "def get_age(employee):\n",
        "    return employee.get('age')\n",
        "\n",
        "def get_salary(employee):\n",
        "    return employee.get('salary')\n",
        "\n",
        "# sort by name (Ascending order)\n",
        "employees.sort(key=get_name)\n",
        "print(employees, end='\\n\\n')\n",
        "\n",
        "# sort by Age (Ascending order)\n",
        "employees.sort(key=get_age)\n",
        "print(employees, end='\\n\\n')\n",
        "\n",
        "# sort by salary (Descending order)\n",
        "employees.sort(key=get_salary, reverse=True)\n",
        "print(employees, end='\\n\\n')"
      ],
      "metadata": {
        "colab": {
          "base_uri": "https://localhost:8080/"
        },
        "id": "m_3BX0Q9aOMc",
        "outputId": "3b503c5c-da80-4515-ebd5-573097190575"
      },
      "execution_count": 57,
      "outputs": [
        {
          "output_type": "stream",
          "name": "stdout",
          "text": [
            "[{'Name': 'Alan Turing', 'age': 25, 'salary': 10000}, {'Name': 'John Hopkins', 'age': 18, 'salary': 1000}, {'Name': 'Mikhail Tal', 'age': 40, 'salary': 15000}, {'Name': 'Sharon Lin', 'age': 30, 'salary': 8000}]\n",
            "\n",
            "[{'Name': 'John Hopkins', 'age': 18, 'salary': 1000}, {'Name': 'Alan Turing', 'age': 25, 'salary': 10000}, {'Name': 'Sharon Lin', 'age': 30, 'salary': 8000}, {'Name': 'Mikhail Tal', 'age': 40, 'salary': 15000}]\n",
            "\n",
            "[{'Name': 'Mikhail Tal', 'age': 40, 'salary': 15000}, {'Name': 'Alan Turing', 'age': 25, 'salary': 10000}, {'Name': 'Sharon Lin', 'age': 30, 'salary': 8000}, {'Name': 'John Hopkins', 'age': 18, 'salary': 1000}]\n",
            "\n"
          ]
        }
      ]
    },
    {
      "cell_type": "code",
      "source": [
        "# sorting using custom key\n",
        "employees = [\n",
        "    {'Name': 'Alan Turing', 'age': 25, 'salary': 10000},\n",
        "    {'Name': 'Sharon Lin', 'age': 30, 'salary': 8000},\n",
        "    {'Name': 'John Hopkins', 'age': 18, 'salary': 1000},\n",
        "    {'Name': 'Mikhail Tal', 'age': 40, 'salary': 15000},\n",
        "]\n",
        "\n",
        "# sort by name (Ascending order)\n",
        "employees.sort(key=lambda x: x.get('Name'))\n",
        "print(employees, end='\\n\\n')\n",
        "\n",
        "# sort by Age (Ascending order)\n",
        "employees.sort(key=lambda x: x.get('age'))\n",
        "print(employees, end='\\n\\n')\n",
        "\n",
        "# sort by salary (Descending order)\n",
        "employees.sort(key=lambda x: x.get('salary'), reverse=True)\n",
        "print(employees, end='\\n\\n')"
      ],
      "metadata": {
        "colab": {
          "base_uri": "https://localhost:8080/"
        },
        "id": "rn1rM_7maqj7",
        "outputId": "29fff044-8ddc-4aea-b496-7c1ecf86cced"
      },
      "execution_count": 58,
      "outputs": [
        {
          "output_type": "stream",
          "name": "stdout",
          "text": [
            "[{'Name': 'Alan Turing', 'age': 25, 'salary': 10000}, {'Name': 'John Hopkins', 'age': 18, 'salary': 1000}, {'Name': 'Mikhail Tal', 'age': 40, 'salary': 15000}, {'Name': 'Sharon Lin', 'age': 30, 'salary': 8000}]\n",
            "\n",
            "[{'Name': 'John Hopkins', 'age': 18, 'salary': 1000}, {'Name': 'Alan Turing', 'age': 25, 'salary': 10000}, {'Name': 'Sharon Lin', 'age': 30, 'salary': 8000}, {'Name': 'Mikhail Tal', 'age': 40, 'salary': 15000}]\n",
            "\n",
            "[{'Name': 'Mikhail Tal', 'age': 40, 'salary': 15000}, {'Name': 'Alan Turing', 'age': 25, 'salary': 10000}, {'Name': 'Sharon Lin', 'age': 30, 'salary': 8000}, {'Name': 'John Hopkins', 'age': 18, 'salary': 1000}]\n",
            "\n"
          ]
        }
      ]
    },
    {
      "cell_type": "markdown",
      "source": [
        "Python list copy"
      ],
      "metadata": {
        "id": "kuUfjYqfa4V8"
      }
    },
    {
      "cell_type": "code",
      "source": [
        "# The copy() method returns a shallow copy of the list.\n",
        "# mixed list\n",
        "prime_numbers = [2, 3, 5]\n",
        "# copying a list\n",
        "numbers = prime_numbers.copy()\n",
        "print('Copied List:', numbers)\n",
        "# Output: Copied List: [2, 3, 5]"
      ],
      "metadata": {
        "colab": {
          "base_uri": "https://localhost:8080/"
        },
        "id": "lmQfZGi-a8ZN",
        "outputId": "1e8b7f7b-ee9f-4139-87c8-0bbe5479a1e5"
      },
      "execution_count": 59,
      "outputs": [
        {
          "output_type": "stream",
          "name": "stdout",
          "text": [
            "Copied List: [2, 3, 5]\n"
          ]
        }
      ]
    },
    {
      "cell_type": "code",
      "source": [
        "# mixed list\n",
        "my_list = ['cat', 0, 6.7]\n",
        "# copying a list\n",
        "new_list = my_list.copy()\n",
        "print('Copied List:', new_list)"
      ],
      "metadata": {
        "colab": {
          "base_uri": "https://localhost:8080/"
        },
        "id": "Q6fmrXpZbKFe",
        "outputId": "b5625e1f-4a80-4055-f4cf-91d2a137f182"
      },
      "execution_count": 60,
      "outputs": [
        {
          "output_type": "stream",
          "name": "stdout",
          "text": [
            "Copied List: ['cat', 0, 6.7]\n"
          ]
        }
      ]
    },
    {
      "cell_type": "code",
      "source": [
        "# if you need the original list unchanged when the new list is modified, you can use the copy() method.\n",
        "old_list = [1, 2, 3]\n",
        "# copy list using =\n",
        "new_list = old_list\n",
        "# add an element to list\n",
        "new_list.append('a')\n",
        "print('New List:', new_list)\n",
        "print('Old List:', old_list)"
      ],
      "metadata": {
        "colab": {
          "base_uri": "https://localhost:8080/"
        },
        "id": "XVtuVZyxbNWl",
        "outputId": "8aacbab2-b045-4062-b5a8-a3f2b8916335"
      },
      "execution_count": 61,
      "outputs": [
        {
          "output_type": "stream",
          "name": "stdout",
          "text": [
            "New List: [1, 2, 3, 'a']\n",
            "Old List: [1, 2, 3, 'a']\n"
          ]
        }
      ]
    },
    {
      "cell_type": "markdown",
      "source": [
        "Shallow copy and deep copy"
      ],
      "metadata": {
        "id": "fe2myhqDbjf2"
      }
    },
    {
      "cell_type": "code",
      "source": [
        "# we use = operator to create a copy of an object.\n",
        "old_list = [[1, 2, 3], [4, 5, 6], [7, 8, 'a']]\n",
        "new_list = old_list\n",
        "\n",
        "new_list[2][2] = 9\n",
        "\n",
        "print('Old List:', old_list)\n",
        "print('ID of Old List:', id(old_list))\n",
        "\n",
        "print('New List:', new_list)\n",
        "print('ID of New List:', id(new_list))"
      ],
      "metadata": {
        "colab": {
          "base_uri": "https://localhost:8080/"
        },
        "id": "zEypgeylbWoS",
        "outputId": "e6c4a0bf-7977-4789-9ac6-cf39d8a1d481"
      },
      "execution_count": 62,
      "outputs": [
        {
          "output_type": "stream",
          "name": "stdout",
          "text": [
            "Old List: [[1, 2, 3], [4, 5, 6], [7, 8, 9]]\n",
            "ID of Old List: 140516034919952\n",
            "New List: [[1, 2, 3], [4, 5, 6], [7, 8, 9]]\n",
            "ID of New List: 140516034919952\n"
          ]
        }
      ]
    },
    {
      "cell_type": "code",
      "source": [
        "# when you want to have original values unchanged and only modify the new values\n",
        "# shallow copy and deep copy are two methods\n",
        "# for copy work use copy module\n",
        "import copy\n",
        "copy.copy(x)\n",
        "copy.deepcopy(x)\n",
        "# copy() returns a shallow copy of x. lly deepcopy() return a deep copy of x.\n"
      ],
      "metadata": {
        "id": "Zs0w7eEJcNdx"
      },
      "execution_count": null,
      "outputs": []
    },
    {
      "cell_type": "code",
      "source": [
        "# A shallow copy creates a new object which stores the reference of the original elements.\n",
        "# Create a copy using shallow copy\n",
        "# a shallow copy doesn't create a copy of nested objects.\n",
        "# it just copies the reference of nested objects.\n",
        "# This means, a copy process does not recurse or create copies of nested objects itself.\n",
        "import copy\n",
        "old_list = [[1, 2, 3], [4, 5, 6], [7, 8, 9]]\n",
        "new_list = copy.copy(old_list)\n",
        "print(\"Old list:\", old_list)\n",
        "print(\"New list:\", new_list)\n"
      ],
      "metadata": {
        "colab": {
          "base_uri": "https://localhost:8080/"
        },
        "id": "1OeJk_ufdQUn",
        "outputId": "7f18d2ac-fcfa-466e-8b7b-ce554cc6d467"
      },
      "execution_count": 63,
      "outputs": [
        {
          "output_type": "stream",
          "name": "stdout",
          "text": [
            "Old list: [[1, 2, 3], [4, 5, 6], [7, 8, 9]]\n",
            "New list: [[1, 2, 3], [4, 5, 6], [7, 8, 9]]\n"
          ]
        }
      ]
    },
    {
      "cell_type": "code",
      "source": [
        "# inabove we created nested list and then shallow copy it using copy() method.\n",
        "# it will create new and independent object with same content.\n"
      ],
      "metadata": {
        "id": "TPKD_YmSeEMQ"
      },
      "execution_count": null,
      "outputs": []
    },
    {
      "cell_type": "code",
      "source": [
        "import copy\n",
        "old_list = [[1, 1, 1], [2, 2, 2], [3, 3, 3]]\n",
        "new_list = copy.copy(old_list)\n",
        "\n",
        "old_list.append([4, 4, 4])\n",
        "print(\"Old list:\", old_list)\n",
        "print(\"New list:\", new_list)"
      ],
      "metadata": {
        "colab": {
          "base_uri": "https://localhost:8080/"
        },
        "id": "ytuVlXuEebfo",
        "outputId": "dfa6c6fd-99e1-4319-c6ba-17900a02d43a"
      },
      "execution_count": 64,
      "outputs": [
        {
          "output_type": "stream",
          "name": "stdout",
          "text": [
            "Old list: [[1, 1, 1], [2, 2, 2], [3, 3, 3], [4, 4, 4]]\n",
            "New list: [[1, 1, 1], [2, 2, 2], [3, 3, 3]]\n"
          ]
        }
      ]
    },
    {
      "cell_type": "code",
      "source": [
        "import copy\n",
        "old_list = [[1, 1, 1], [2, 2, 2], [3, 3, 3]]\n",
        "new_list = copy.copy(old_list)\n",
        "\n",
        "old_list[1][1] = 'AA'\n",
        "\n",
        "print(\"Old list:\", old_list)\n",
        "print(\"New list:\", new_list)"
      ],
      "metadata": {
        "colab": {
          "base_uri": "https://localhost:8080/"
        },
        "id": "uQrW6_HtiBl6",
        "outputId": "e13657bc-d15c-4b9f-e049-209a7533f377"
      },
      "execution_count": 65,
      "outputs": [
        {
          "output_type": "stream",
          "name": "stdout",
          "text": [
            "Old list: [[1, 1, 1], [2, 'AA', 2], [3, 3, 3]]\n",
            "New list: [[1, 1, 1], [2, 'AA', 2], [3, 3, 3]]\n"
          ]
        }
      ]
    },
    {
      "cell_type": "code",
      "source": [
        "# In the above program, we made changes to old_list i.e old_list[1][1] = 'AA'. Both sublists of old_list and new_list at index [1][1] were modified\n",
        "# This is because, both lists share the reference of same nested objects."
      ],
      "metadata": {
        "id": "hWbl529Kkwm9"
      },
      "execution_count": null,
      "outputs": []
    },
    {
      "cell_type": "markdown",
      "source": [
        "Deep copy"
      ],
      "metadata": {
        "id": "P9zkAIdAk2lZ"
      }
    },
    {
      "cell_type": "code",
      "source": [
        "# A deep copy creates a new object and recursively adds the copies of nested objects present in the original elements.\n",
        "# The deep copy creates independent copy of original object and all its nested objects.\n",
        "import copy\n",
        "old_list = [[1, 1, 1], [2, 2, 2], [3, 3, 3]]\n",
        "new_list = copy.deepcopy(old_list)\n",
        "print(\"Old list:\", old_list)\n",
        "print(\"New list:\", new_list)"
      ],
      "metadata": {
        "colab": {
          "base_uri": "https://localhost:8080/"
        },
        "id": "G1-FoWv_k49U",
        "outputId": "ab0f6432-8e41-47b3-b5ab-2408c2aeb1df"
      },
      "execution_count": 66,
      "outputs": [
        {
          "output_type": "stream",
          "name": "stdout",
          "text": [
            "Old list: [[1, 1, 1], [2, 2, 2], [3, 3, 3]]\n",
            "New list: [[1, 1, 1], [2, 2, 2], [3, 3, 3]]\n"
          ]
        }
      ]
    },
    {
      "cell_type": "code",
      "source": [
        "# if you make changes to any nested objects in original object old_list, you’ll see no changes to the copy new_list.\n",
        "import copy\n",
        "old_list = [[1, 1, 1], [2, 2, 2], [3, 3, 3]]\n",
        "new_list = copy.deepcopy(old_list)\n",
        "old_list[1][0] = 'BB'\n",
        "print(\"Old list:\", old_list)\n",
        "print(\"New list:\", new_list)"
      ],
      "metadata": {
        "colab": {
          "base_uri": "https://localhost:8080/"
        },
        "id": "2AuYkUXelQsz",
        "outputId": "1379f6e4-7e27-45c8-fb2f-548e0dfcca4f"
      },
      "execution_count": 67,
      "outputs": [
        {
          "output_type": "stream",
          "name": "stdout",
          "text": [
            "Old list: [[1, 1, 1], ['BB', 2, 2], [3, 3, 3]]\n",
            "New list: [[1, 1, 1], [2, 2, 2], [3, 3, 3]]\n"
          ]
        }
      ]
    },
    {
      "cell_type": "code",
      "source": [
        "# the old_list and the new_list are independent. This is because the old_list was recursively copied, which is true for all its nested objects.\n"
      ],
      "metadata": {
        "id": "1ynUgDzMlljE"
      },
      "execution_count": null,
      "outputs": []
    },
    {
      "cell_type": "markdown",
      "source": [
        "List Comprehension"
      ],
      "metadata": {
        "id": "kqUdaBZWmb1H"
      }
    },
    {
      "cell_type": "code",
      "source": [
        "# List comprehension is an elegant and concise way to create a new list from an existing list in Python.\n",
        "pow2 = [2 ** x for x in range(10)]\n",
        "print(pow2)"
      ],
      "metadata": {
        "colab": {
          "base_uri": "https://localhost:8080/"
        },
        "id": "dwCXjcO0mfC_",
        "outputId": "37d7cd4d-4493-457a-f9fd-10ebdfb10146"
      },
      "execution_count": 68,
      "outputs": [
        {
          "output_type": "stream",
          "name": "stdout",
          "text": [
            "[1, 2, 4, 8, 16, 32, 64, 128, 256, 512]\n"
          ]
        }
      ]
    },
    {
      "cell_type": "code",
      "source": [
        "# above code is equivalent to\n",
        "pow2 = []\n",
        "for x in range(10):\n",
        "   pow2.append(2 ** x)"
      ],
      "metadata": {
        "id": "4HeZHwJrmpyo"
      },
      "execution_count": 70,
      "outputs": []
    },
    {
      "cell_type": "code",
      "source": [
        "pow2 = [2 ** x for x in range(10) if x > 5]\n",
        "print(pow2)\n",
        "odd = [x for x in range(20) if x % 2 == 1]\n",
        "print(odd)\n",
        "[x+y for x in ['Python ','C '] for y in ['Language','Programming']]"
      ],
      "metadata": {
        "colab": {
          "base_uri": "https://localhost:8080/"
        },
        "id": "575EI71nm2c9",
        "outputId": "222a56e4-e577-473c-adfd-fbf96071da7c"
      },
      "execution_count": 71,
      "outputs": [
        {
          "output_type": "stream",
          "name": "stdout",
          "text": [
            "[64, 128, 256, 512]\n",
            "[1, 3, 5, 7, 9, 11, 13, 15, 17, 19]\n"
          ]
        },
        {
          "output_type": "execute_result",
          "data": {
            "text/plain": [
              "['Python Language', 'Python Programming', 'C Language', 'C Programming']"
            ]
          },
          "metadata": {},
          "execution_count": 71
        }
      ]
    },
    {
      "cell_type": "markdown",
      "source": [
        "list comprehension vs for loop"
      ],
      "metadata": {
        "id": "z4pMVUZMnVmW"
      }
    },
    {
      "cell_type": "code",
      "source": [
        "# iterating through a string using for loop\n",
        "h_letters = []\n",
        "for letter in 'human':\n",
        "    h_letters.append(letter)\n",
        "print(h_letters)"
      ],
      "metadata": {
        "colab": {
          "base_uri": "https://localhost:8080/"
        },
        "id": "WTuMjyGRnfZM",
        "outputId": "d2149cd5-646a-4d9b-90d3-8a25b6ab39f8"
      },
      "execution_count": 72,
      "outputs": [
        {
          "output_type": "stream",
          "name": "stdout",
          "text": [
            "['h', 'u', 'm', 'a', 'n']\n"
          ]
        }
      ]
    },
    {
      "cell_type": "code",
      "source": [
        "# above program by list comprehension\n",
        "h_letters = [ letter for letter in 'human' ]\n",
        "print( h_letters)\n",
        "# syntax for list comprehension\n",
        "# expression for item in list = letter for letter in 'human"
      ],
      "metadata": {
        "colab": {
          "base_uri": "https://localhost:8080/"
        },
        "id": "pqi1KtpqnzF7",
        "outputId": "166c0222-8f88-4a65-e825-57332c4b3049"
      },
      "execution_count": 73,
      "outputs": [
        {
          "output_type": "stream",
          "name": "stdout",
          "text": [
            "['h', 'u', 'm', 'a', 'n']\n"
          ]
        }
      ]
    },
    {
      "cell_type": "code",
      "source": [
        "# human is a string, not a list. This is the power of list comprehension. It can identify when it receives a string or a tuple and work on it like a list.\n"
      ],
      "metadata": {
        "id": "ZCAMHlVZoa17"
      },
      "execution_count": null,
      "outputs": []
    },
    {
      "cell_type": "markdown",
      "source": [
        "List comprehension vs elegant functions"
      ],
      "metadata": {
        "id": "rmIpnlmZomSY"
      }
    },
    {
      "cell_type": "code",
      "source": [
        "# Using Lambda functions inside List\n",
        "letters = list(map(lambda x: x, 'human'))\n",
        "print(letters)"
      ],
      "metadata": {
        "colab": {
          "base_uri": "https://localhost:8080/"
        },
        "id": "jD6hBnm2osQY",
        "outputId": "24311c9c-171e-4359-8ded-dcc365bf8a7f"
      },
      "execution_count": 74,
      "outputs": [
        {
          "output_type": "stream",
          "name": "stdout",
          "text": [
            "['h', 'u', 'm', 'a', 'n']\n"
          ]
        }
      ]
    },
    {
      "cell_type": "code",
      "source": [
        "# conditionals in list comprehension\n",
        "# using if with List Comprehension\n",
        "number_list = [ x for x in range(20) if x % 2 == 0]\n",
        "print(number_list)\n"
      ],
      "metadata": {
        "colab": {
          "base_uri": "https://localhost:8080/"
        },
        "id": "aCQjCo5ForJz",
        "outputId": "fea63ad2-f53a-4b1f-bd76-62a203e33402"
      },
      "execution_count": 75,
      "outputs": [
        {
          "output_type": "stream",
          "name": "stdout",
          "text": [
            "[0, 2, 4, 6, 8, 10, 12, 14, 16, 18]\n"
          ]
        }
      ]
    },
    {
      "cell_type": "code",
      "source": [
        "# Nested IF with List Comprehension\n",
        "num_list = [y for y in range(100) if y % 2 == 0 if y % 5 == 0]\n",
        "print(num_list)"
      ],
      "metadata": {
        "colab": {
          "base_uri": "https://localhost:8080/"
        },
        "id": "u8Eew71mpZLV",
        "outputId": "57570580-8b50-4efa-c1d2-91269203e569"
      },
      "execution_count": 76,
      "outputs": [
        {
          "output_type": "stream",
          "name": "stdout",
          "text": [
            "[0, 10, 20, 30, 40, 50, 60, 70, 80, 90]\n"
          ]
        }
      ]
    },
    {
      "cell_type": "code",
      "source": [
        "#  if...else With List Comprehension\n",
        "obj = [\"Even\" if i%2==0 else \"Odd\" for i in range(10)]\n",
        "print(obj)\n"
      ],
      "metadata": {
        "colab": {
          "base_uri": "https://localhost:8080/"
        },
        "id": "GQ6-OH6xpjFE",
        "outputId": "8ec2340f-d121-4610-a02a-a8b03d54f185"
      },
      "execution_count": 77,
      "outputs": [
        {
          "output_type": "stream",
          "name": "stdout",
          "text": [
            "['Even', 'Odd', 'Even', 'Odd', 'Even', 'Odd', 'Even', 'Odd', 'Even', 'Odd']\n"
          ]
        }
      ]
    },
    {
      "cell_type": "code",
      "source": [
        "# Transpose of Matrix using Nested Loops\n",
        "transposed = []\n",
        "matrix = [[1, 2, 3, 4], [4, 5, 6, 8]]\n",
        "for i in range(len(matrix[0])):\n",
        "    transposed_row = []\n",
        "    for row in matrix:\n",
        "        transposed_row.append(row[i])\n",
        "    transposed.append(transposed_row)\n",
        "\n",
        "print(transposed)"
      ],
      "metadata": {
        "colab": {
          "base_uri": "https://localhost:8080/"
        },
        "id": "sCBPD_evpvMJ",
        "outputId": "85d3055f-af1e-4927-91bb-f9c0f45638b4"
      },
      "execution_count": 78,
      "outputs": [
        {
          "output_type": "stream",
          "name": "stdout",
          "text": [
            "[[1, 4], [2, 5], [3, 6], [4, 8]]\n"
          ]
        }
      ]
    },
    {
      "cell_type": "code",
      "source": [
        "#  Transpose of a Matrix using List Comprehension\n",
        "matrix = [[1, 2], [3,4], [5,6], [7,8]]\n",
        "transpose = [[row[i] for row in matrix] for i in range(2)]\n",
        "print (transpose)"
      ],
      "metadata": {
        "colab": {
          "base_uri": "https://localhost:8080/"
        },
        "id": "V4ZoPdJ7qGoH",
        "outputId": "276c861a-6805-48aa-c94c-77b9827556ff"
      },
      "execution_count": 79,
      "outputs": [
        {
          "output_type": "stream",
          "name": "stdout",
          "text": [
            "[[1, 3, 5, 7], [2, 4, 6, 8]]\n"
          ]
        }
      ]
    },
    {
      "cell_type": "code",
      "source": [
        "# key points\n",
        "# List comprehension is an elegant way to define and create lists based on existing lists.\n",
        "# List comprehension is generally more compact and faster than normal functions and loops for creating list.\n",
        "# However, we should avoid writing very long list comprehensions in one line to ensure that code is user-friendly.\n",
        "# Remember, every list comprehension can be rewritten in for loop, but every for loop can’t be rewritten in the form of list comprehension."
      ],
      "metadata": {
        "id": "TI6HUMG1qfAo"
      },
      "execution_count": null,
      "outputs": []
    },
    {
      "cell_type": "markdown",
      "source": [
        "Other List Operations in Python\n",
        "List Membership Test"
      ],
      "metadata": {
        "id": "qfsjPZzVrAq1"
      }
    },
    {
      "cell_type": "code",
      "source": [
        "# We can test if an item exists in a list or not, using the keyword in.\n",
        "my_list = ['p', 'r', 'o', 'b', 'l', 'e', 'm']\n",
        "# Output: True\n",
        "print('p' in my_list)\n",
        "# Output: False\n",
        "print('a' in my_list)\n",
        "# Output: True\n",
        "print('c' not in my_list)"
      ],
      "metadata": {
        "colab": {
          "base_uri": "https://localhost:8080/"
        },
        "id": "tdFlC7KTrCt9",
        "outputId": "33cf2c54-86f3-48cd-9708-1885ea219cc8"
      },
      "execution_count": 80,
      "outputs": [
        {
          "output_type": "stream",
          "name": "stdout",
          "text": [
            "True\n",
            "False\n",
            "True\n"
          ]
        }
      ]
    },
    {
      "cell_type": "code",
      "source": [
        "# Iterating Through a List\n",
        "# Using a for loop we can iterate through each item in a list.\n",
        "for fruit in ['apple','banana','mango']:\n",
        "    print(\"I like\",fruit)"
      ],
      "metadata": {
        "colab": {
          "base_uri": "https://localhost:8080/"
        },
        "id": "kidAKo8MrVmj",
        "outputId": "0973fa8b-4ac8-4c35-810c-44f7c73e7980"
      },
      "execution_count": 81,
      "outputs": [
        {
          "output_type": "stream",
          "name": "stdout",
          "text": [
            "I like apple\n",
            "I like banana\n",
            "I like mango\n"
          ]
        }
      ]
    }
  ]
}