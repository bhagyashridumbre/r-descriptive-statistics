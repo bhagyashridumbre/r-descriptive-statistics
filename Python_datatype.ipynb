{
  "nbformat": 4,
  "nbformat_minor": 0,
  "metadata": {
    "colab": {
      "name": "Python datatype.ipynb",
      "provenance": [],
      "collapsed_sections": [],
      "authorship_tag": "ABX9TyO9PMe7huudiyO7Q1qJPhLQ",
      "include_colab_link": true
    },
    "kernelspec": {
      "name": "python3",
      "display_name": "Python 3"
    },
    "language_info": {
      "name": "python"
    }
  },
  "cells": [
    {
      "cell_type": "markdown",
      "metadata": {
        "id": "view-in-github",
        "colab_type": "text"
      },
      "source": [
        "<a href=\"https://colab.research.google.com/github/bhagyashridumbre/r-descriptive-statistics/blob/main/Python_datatype.ipynb\" target=\"_parent\"><img src=\"https://colab.research.google.com/assets/colab-badge.svg\" alt=\"Open In Colab\"/></a>"
      ]
    },
    {
      "cell_type": "markdown",
      "source": [
        "Python Numbers, Type Conversion and Mathematics"
      ],
      "metadata": {
        "id": "wWJTnFFGq1Ya"
      }
    },
    {
      "cell_type": "code",
      "execution_count": 1,
      "metadata": {
        "colab": {
          "base_uri": "https://localhost:8080/"
        },
        "id": "Q3AYjWILqzcv",
        "outputId": "d7d655ea-cbce-4a64-e6c2-d075bfe232a1"
      },
      "outputs": [
        {
          "output_type": "stream",
          "name": "stdout",
          "text": [
            "<class 'int'>\n",
            "<class 'float'>\n",
            "(8+3j)\n",
            "True\n"
          ]
        }
      ],
      "source": [
        "a = 5\n",
        "print(type(a))\n",
        "print(type(5.0))\n",
        "c = 5 + 3j\n",
        "print(c + 3)\n",
        "print(isinstance(c, complex))"
      ]
    },
    {
      "cell_type": "code",
      "source": [
        "# The numbers we deal with every day are of the decimal (base 10) number system\n",
        "# computer programmers (generally embedded programmers) need to work with binary (base 2), hexadecimal (base 16) and octal (base 8) number systems.\n",
        "# Binary - 'Ob' or 'OB'\n",
        "# Octal - 'Oo' or 'O0'\n",
        "# Hexadecimal - 'Ox' or 'OX'\n",
        "# Output: 107\n",
        "print(0b1101011)\n",
        "# Output: 253 (251 + 2)\n",
        "print(0xFB + 0b10)\n",
        "# Output: 13\n",
        "print(0o15)\n"
      ],
      "metadata": {
        "id": "2XYkTUWLrae6"
      },
      "execution_count": null,
      "outputs": []
    },
    {
      "cell_type": "markdown",
      "source": [
        "Type conversion"
      ],
      "metadata": {
        "id": "f5Fzq_4ms7Pz"
      }
    },
    {
      "cell_type": "code",
      "source": [
        "# We can convert one type of number into another. This is also known as coercion.\n",
        "# We can also use built-in functions like int(), float() and complex() to convert between types explicitly. These functions can even convert from strings.\n",
        "print(int(2.3))\n",
        "print(int(-2.8))\n",
        "print(float(5))\n",
        "print(complex('3+5j'))"
      ],
      "metadata": {
        "colab": {
          "base_uri": "https://localhost:8080/"
        },
        "id": "jIZtADybs-OR",
        "outputId": "a7d939ea-8f06-4c2b-d9d3-208e28477b26"
      },
      "execution_count": 4,
      "outputs": [
        {
          "output_type": "stream",
          "name": "stdout",
          "text": [
            "2\n",
            "-2\n",
            "5.0\n",
            "(3+5j)\n"
          ]
        }
      ]
    },
    {
      "cell_type": "code",
      "source": [
        "1.1 + 2.2\n",
        "# This will only approximate 0.1 but never be equal. Hence, it is the limitation of our computer hardware and not an error in Python.\n",
        "# To overcome this issue, we can use the decimal module that comes with Python.\n",
        "# While floating-point numbers have precision up to 15 decimal places, the decimal module has user-settable precision.\n",
        "\n"
      ],
      "metadata": {
        "colab": {
          "base_uri": "https://localhost:8080/"
        },
        "id": "t3WBfT49tubF",
        "outputId": "81d9243f-9b8c-4b29-f23a-a144703d1295"
      },
      "execution_count": 5,
      "outputs": [
        {
          "output_type": "execute_result",
          "data": {
            "text/plain": [
              "3.3000000000000003"
            ]
          },
          "metadata": {},
          "execution_count": 5
        }
      ]
    },
    {
      "cell_type": "code",
      "source": [
        "import decimal\n",
        "print(0.1)\n",
        "print(decimal.Decimal(0.1))"
      ],
      "metadata": {
        "colab": {
          "base_uri": "https://localhost:8080/"
        },
        "id": "KPMUFzJEuK0e",
        "outputId": "acb710c4-64ba-494e-d1ab-495d4b4a94e9"
      },
      "execution_count": 6,
      "outputs": [
        {
          "output_type": "stream",
          "name": "stdout",
          "text": [
            "0.1\n",
            "0.1000000000000000055511151231257827021181583404541015625\n"
          ]
        }
      ]
    },
    {
      "cell_type": "code",
      "source": [
        "from decimal import Decimal as D\n",
        "print(D('1.1') + D('2.2'))\n",
        "print(D('1.2') * D('2.50'))"
      ],
      "metadata": {
        "colab": {
          "base_uri": "https://localhost:8080/"
        },
        "id": "Vc-8qX3JuTq_",
        "outputId": "9f6d5386-7c7b-4206-fd12-8e79c671d08f"
      },
      "execution_count": 7,
      "outputs": [
        {
          "output_type": "stream",
          "name": "stdout",
          "text": [
            "3.3\n",
            "3.000\n"
          ]
        }
      ]
    },
    {
      "cell_type": "code",
      "source": [
        "# Floating point operations are carried out much faster than Decimal operations.\n",
        "# When to use Decimal instead of float?\n",
        "# When we are making financial applications that need exact decimal representation.\n",
        "# When we want to control the level of precision required.\n",
        "# When we want to implement the notion of significant decimal places."
      ],
      "metadata": {
        "id": "_agTymyaudny"
      },
      "execution_count": null,
      "outputs": []
    },
    {
      "cell_type": "markdown",
      "source": [
        "Python fractions"
      ],
      "metadata": {
        "id": "79QCAZ2auvkX"
      }
    },
    {
      "cell_type": "code",
      "source": [
        "import fractions\n",
        "print(fractions.Fraction(1.5))\n",
        "print(fractions.Fraction(5))\n",
        "print(fractions.Fraction(1,3))"
      ],
      "metadata": {
        "colab": {
          "base_uri": "https://localhost:8080/"
        },
        "id": "7fQfLEGqu1a_",
        "outputId": "9302c5b9-cb1f-4441-c8eb-d7e9b89b37e2"
      },
      "execution_count": 8,
      "outputs": [
        {
          "output_type": "stream",
          "name": "stdout",
          "text": [
            "3/2\n",
            "5\n",
            "1/3\n"
          ]
        }
      ]
    },
    {
      "cell_type": "code",
      "source": [
        "import fractions\n",
        "# As float\n",
        "# Output: 2476979795053773/2251799813685248\n",
        "print(fractions.Fraction(1.1))\n",
        "# As string\n",
        "# Output: 11/10\n",
        "print(fractions.Fraction('1.1'))"
      ],
      "metadata": {
        "colab": {
          "base_uri": "https://localhost:8080/"
        },
        "id": "ZPW1Vax0u_0e",
        "outputId": "4fea9385-9af9-449f-8b38-410c5aa9f599"
      },
      "execution_count": 9,
      "outputs": [
        {
          "output_type": "stream",
          "name": "stdout",
          "text": [
            "2476979795053773/2251799813685248\n",
            "11/10\n"
          ]
        }
      ]
    },
    {
      "cell_type": "code",
      "source": [
        "from fractions import Fraction as F\n",
        "print(F(1, 3) + F(1, 3))\n",
        "print(1 / F(5, 6))\n",
        "print(F(-3, 10) > 0)\n",
        "print(F(-3, 10) < 0)"
      ],
      "metadata": {
        "colab": {
          "base_uri": "https://localhost:8080/"
        },
        "id": "E1ec3PSPvFOV",
        "outputId": "f45e734c-8fb2-4981-bdaf-5e4030470086"
      },
      "execution_count": 10,
      "outputs": [
        {
          "output_type": "stream",
          "name": "stdout",
          "text": [
            "2/3\n",
            "6/5\n",
            "False\n",
            "True\n"
          ]
        }
      ]
    },
    {
      "cell_type": "markdown",
      "source": [
        "Python Mathematics"
      ],
      "metadata": {
        "id": "eV4xldNzvJ6b"
      }
    },
    {
      "cell_type": "code",
      "source": [
        "# Python offers modules like math and random to carry out different mathematics like trigonometry, logarithms, probability and statistics, etc.\n",
        "import math\n",
        "print(math.pi)\n",
        "print(math.cos(math.pi))\n",
        "print(math.exp(10))\n",
        "print(math.log10(1000))\n",
        "print(math.sinh(1))\n",
        "print(math.factorial(6))"
      ],
      "metadata": {
        "colab": {
          "base_uri": "https://localhost:8080/"
        },
        "id": "sHqRoP6CvOCI",
        "outputId": "875b8a3f-5474-4115-840b-13b2fa7deb8e"
      },
      "execution_count": 11,
      "outputs": [
        {
          "output_type": "stream",
          "name": "stdout",
          "text": [
            "3.141592653589793\n",
            "-1.0\n",
            "22026.465794806718\n",
            "3.0\n",
            "1.1752011936438014\n",
            "720\n"
          ]
        }
      ]
    },
    {
      "cell_type": "code",
      "source": [
        "import random\n",
        "print(random.randrange(10, 20))\n",
        "x = ['a', 'b', 'c', 'd', 'e']\n",
        "# Get random choice\n",
        "print(random.choice(x))\n",
        "\n",
        "# Shuffle x\n",
        "random.shuffle(x)\n",
        "\n",
        "# Print the shuffled x\n",
        "print(x)\n",
        "\n",
        "# Print random element\n",
        "print(random.random())"
      ],
      "metadata": {
        "colab": {
          "base_uri": "https://localhost:8080/"
        },
        "id": "4jw59XF4vbcy",
        "outputId": "558d30ff-10ec-4d43-f2a8-5188dce93198"
      },
      "execution_count": 12,
      "outputs": [
        {
          "output_type": "stream",
          "name": "stdout",
          "text": [
            "10\n",
            "a\n",
            "['d', 'c', 'a', 'b', 'e']\n",
            "0.535355002434394\n"
          ]
        }
      ]
    },
    {
      "cell_type": "code",
      "source": [
        ""
      ],
      "metadata": {
        "id": "88VbmAcKvbbk"
      },
      "execution_count": null,
      "outputs": []
    },
    {
      "cell_type": "code",
      "source": [
        ""
      ],
      "metadata": {
        "id": "jcdL9LqbvbXq"
      },
      "execution_count": null,
      "outputs": []
    }
  ]
}