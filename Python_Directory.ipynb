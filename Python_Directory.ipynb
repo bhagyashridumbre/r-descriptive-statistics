{
  "nbformat": 4,
  "nbformat_minor": 0,
  "metadata": {
    "colab": {
      "name": "Python Directory.ipynb",
      "provenance": [],
      "collapsed_sections": [],
      "authorship_tag": "ABX9TyO+490Zty5CTsc4WdIFCuJZ",
      "include_colab_link": true
    },
    "kernelspec": {
      "name": "python3",
      "display_name": "Python 3"
    },
    "language_info": {
      "name": "python"
    }
  },
  "cells": [
    {
      "cell_type": "markdown",
      "metadata": {
        "id": "view-in-github",
        "colab_type": "text"
      },
      "source": [
        "<a href=\"https://colab.research.google.com/github/bhagyashridumbre/r-descriptive-statistics/blob/main/Python_Directory.ipynb\" target=\"_parent\"><img src=\"https://colab.research.google.com/assets/colab-badge.svg\" alt=\"Open In Colab\"/></a>"
      ]
    },
    {
      "cell_type": "code",
      "execution_count": null,
      "metadata": {
        "id": "RjQF4Qc7bF7b"
      },
      "outputs": [],
      "source": [
        "# f there are a large number of files to handle in our Python program, we can arrange our code within different directories to make things more manageable.\n",
        "# A directory or folder is a collection of files and subdirectories. Python has the os module that provides us with many useful methods to work with directories (and files as well).\n"
      ]
    },
    {
      "cell_type": "markdown",
      "source": [
        "Get Current Directory"
      ],
      "metadata": {
        "id": "arD0WaKRbXoo"
      }
    },
    {
      "cell_type": "code",
      "source": [
        "# We can get the present working directory using the getcwd() method of the os module.\n",
        "# use the getcwdb() method to get it as bytes object.\n",
        "import os\n",
        "os.getcwd()\n",
        "os.getcwdb()\n",
        "print(os.getcwd())"
      ],
      "metadata": {
        "id": "f2rWoRoVba2r"
      },
      "execution_count": null,
      "outputs": []
    },
    {
      "cell_type": "markdown",
      "source": [
        "Changing directory"
      ],
      "metadata": {
        "id": "fiTCidnibtfJ"
      }
    },
    {
      "cell_type": "code",
      "source": [
        "# We can change the current working directory by using the chdir() method.\n",
        "# We can use both the forward-slash / or the backward-slash \\ to separate the path elements.\n",
        "os.chdir('C:\\\\Python33')\n",
        "print(os.getcwd())"
      ],
      "metadata": {
        "id": "8gz5fbIzbw8O"
      },
      "execution_count": null,
      "outputs": []
    },
    {
      "cell_type": "markdown",
      "source": [
        "List Directories and files"
      ],
      "metadata": {
        "id": "A9ad92-Fb9-5"
      }
    },
    {
      "cell_type": "code",
      "source": [
        "# All files and sub-directories inside a directory can be retrieved using the listdir() method.\n",
        "# f no path is specified, it returns the list of subdirectories and files from the current working directory.\n",
        "print(os.getcwd())\n",
        "os.listdir()\n",
        "s.listdir('G:\\\\')"
      ],
      "metadata": {
        "id": "D-tqTlqJcDUO"
      },
      "execution_count": null,
      "outputs": []
    },
    {
      "cell_type": "markdown",
      "source": [
        "Making a New Directory"
      ],
      "metadata": {
        "id": "D0OyfvE6cSzL"
      }
    },
    {
      "cell_type": "code",
      "source": [
        "# We can make a new directory using the mkdir() method.\n",
        "os.mkdir('test')\n",
        "os.listdir()"
      ],
      "metadata": {
        "id": "w7asUqQrcXal"
      },
      "execution_count": null,
      "outputs": []
    },
    {
      "cell_type": "markdown",
      "source": [
        "Renaming a Directory or a File"
      ],
      "metadata": {
        "id": "k4K0yxpWcg2T"
      }
    },
    {
      "cell_type": "code",
      "source": [
        "# The rename() method can rename a directory or a file.\n",
        "# For renaming any directory or file, the rename() method takes in two basic arguments: the old name as the first argument and the new name as the second argument.\n",
        "os.listdir()\n",
        "os.rename('test','new_one')\n",
        "os.listdir()"
      ],
      "metadata": {
        "id": "vaEy0M4vcigN"
      },
      "execution_count": null,
      "outputs": []
    },
    {
      "cell_type": "markdown",
      "source": [
        "Removing Directory or file"
      ],
      "metadata": {
        "id": "CSi-7ofKcxOd"
      }
    },
    {
      "cell_type": "code",
      "source": [
        "# A file can be removed (deleted) using the remove() method.\n",
        "# Similarly, the rmdir() method removes an empty directory.\n",
        "os.listdir()\n",
        "os.remove('old.txt')\n",
        "os.listdir()\n",
        "os.rmdir('new_one')\n",
        "os.listdir()\n",
        "# The rmdir() method can only remove empty directories.\n",
        "# In order to remove a non-empty directory, we can use the rmtree() method inside the shutil module.\n",
        "os.listdir()\n",
        "os.rmdir('test')\n",
        "import shutil\n",
        "shutil.rmtree('test')\n",
        "os.listdir()\n"
      ],
      "metadata": {
        "id": "1PIh13RKc1V_"
      },
      "execution_count": null,
      "outputs": []
    }
  ]
}